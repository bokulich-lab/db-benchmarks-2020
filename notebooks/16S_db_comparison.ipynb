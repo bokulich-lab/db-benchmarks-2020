{
 "cells": [
  {
   "cell_type": "markdown",
   "metadata": {},
   "source": [
    "# 16S database comparison\n",
    "\n",
    "Compares multiple databases: Greengenes, SILVA, NCBI RefSeq, and GTDB"
   ]
  },
  {
   "cell_type": "code",
   "execution_count": 1,
   "metadata": {},
   "outputs": [],
   "source": [
    "import os\n",
    "import qiime2 as q2\n",
    "import pandas as pd\n",
    "from qiime2.plugins import rescript, taxa as q2t\n",
    "import tempfile\n",
    "from glob import glob\n",
    "import seaborn as sns\n",
    "from matplotlib import pyplot as plt\n",
    "import itertools\n",
    "from re import sub\n",
    "import warnings\n",
    "\n",
    "import rescript as rpt\n",
    "\n",
    "%matplotlib inline\n"
   ]
  },
  {
   "cell_type": "markdown",
   "metadata": {},
   "source": [
    "# Get NCBI data"
   ]
  },
  {
   "cell_type": "code",
   "execution_count": 4,
   "metadata": {},
   "outputs": [],
   "source": [
    "dbdir = '../../../ref_dbs/'"
   ]
  },
  {
   "cell_type": "code",
   "execution_count": 4,
   "metadata": {},
   "outputs": [],
   "source": [
    "# ncbi_seqs_all, ncbi_taxa_all, = rescript.actions.get_ncbi_data('33175[BioProject] OR 33317[BioProject]')\n",
    "# ncbi_seqs_all.save(dbdir + 'ncbi-refseq/ncbi-refseqs-071420-unfiltered.qza')\n",
    "# ncbi_taxa_all.save(dbdir + 'ncbi-refseq/ncbi-refseqs-taxa-071420-unfiltered.qza')"
   ]
  },
  {
   "cell_type": "code",
   "execution_count": 5,
   "metadata": {},
   "outputs": [],
   "source": [
    "ncbi_seqs_all = q2.Artifact.load(dbdir + 'ncbi-refseq/ncbi-refseqs-071420-unfiltered.qza')\n",
    "ncbi_taxa_all = q2.Artifact.load(dbdir + 'ncbi-refseq/ncbi-refseqs-taxa-071420-unfiltered.qza')"
   ]
  },
  {
   "cell_type": "code",
   "execution_count": 4,
   "metadata": {},
   "outputs": [
    {
     "data": {
      "text/plain": [
       "'../../../ref_dbs/ncbi-refseq/ncbi-refseqs-taxa-071420.qza'"
      ]
     },
     "execution_count": 4,
     "metadata": {},
     "output_type": "execute_result"
    }
   ],
   "source": [
    "# filter out unusually short seqs\n",
    "ncbi_seqs, ncbi_discarded, = rescript.actions.filter_seqs_length_by_taxon(\n",
    "    sequences=ncbi_seqs_all, taxonomy=ncbi_taxa_all,\n",
    "    labels=['Archaea', 'Bacteria'], min_lens=[900, 1200])\n",
    "\n",
    "ncbi_taxa = ncbi_taxa_all.view(pd.Series)\n",
    "ncbi_taxa = ncbi_taxa.loc[ncbi_taxa.view(pd.Series).index]\n",
    "ncbi_taxa.index.name = 'Feature ID'\n",
    "ncbi_taxa = q2.Artifact.import_data('FeatureData[Taxonomy]', ncbi_taxa)\n",
    "\n",
    "# ncbi_seqs.save(dbdir + 'ncbi-refseq/ncbi-refseqs-071420.qza')\n",
    "# ncbi_taxa.save(dbdir + 'ncbi-refseq/ncbi-refseqs-taxa-071420.qza')"
   ]
  },
  {
   "cell_type": "code",
   "execution_count": 3,
   "metadata": {},
   "outputs": [],
   "source": [
    "ncbi_seqs = q2.Artifact.load(dbdir + 'ncbi-refseq/ncbi-refseqs-071420.qza')\n",
    "ncbi_taxa = q2.Artifact.load(dbdir + 'ncbi-refseq/ncbi-refseqs-taxa-071420.qza')"
   ]
  },
  {
   "cell_type": "code",
   "execution_count": 78,
   "metadata": {},
   "outputs": [
    {
     "data": {
      "text/plain": [
       "NR_169410.1    k__Bacteria; p__Actinobacteria; c__Actinobacteria; o__Corynebacteriales; f__Nocardiaceae; g__Williamsia; s__aurantiacus                                  \n",
       "NR_157649.1    k__Bacteria; p__Proteobacteria; c__Alphaproteobacteria; o__Rickettsiales; f__Anaplasmataceae; g__Ehrlichia; s__muris subsp. eauclairensis                \n",
       "NR_157641.1    k__Bacteria; p__Firmicutes; c__Bacilli; o__Bacillales; f__Sporolactobacillaceae; g__Sporolactobacillus; s__shoreicorticis                                \n",
       "NR_156167.1    k__Bacteria; p__Proteobacteria; c__Gammaproteobacteria; o__Alteromonadales; f__Idiomarinaceae; g__Aliidiomarina; s__soli                                 \n",
       "NR_152085.1    k__Bacteria; p__Proteobacteria; c__Gammaproteobacteria; o__Vibrionales; f__Vibrionaceae; g__Vibrio; s__cidicii                                           \n",
       "                                                                    ...                                                                                                 \n",
       "NR_112175.1    k__Bacteria; p__Cyanobacteria; c__Cyanobacteria; o__Nostocales; f__Calotrichaceae; g__Calothrix; s__desertica PCC 7102                                   \n",
       "NR_109474.1    k__Bacteria; p__Actinobacteria; c__Actinobacteria; o__Corynebacteriales; f__Mycobacteriaceae; g__Mycolicibacter; s__minnesotensis                        \n",
       "NR_118066.1    k__Bacteria; p__Proteobacteria; c__Betaproteobacteria; o__Burkholderiales; f__Burkholderiaceae; g__Paraburkholderia; s__kururiensis JCM 10599 = LMG 19447\n",
       "NR_115797.1    k__Bacteria; p__Firmicutes; c__Clostridia; o__Clostridiales; f__Peptostreptococcaceae; g__Paeniclostridium; s__[Eubacterium] tenue                       \n",
       "NR_115288.1    k__Bacteria; p__Cyanobacteria; c__Cyanobacteria; o__Chroococcales; f__Aphanothecaceae; g__Crocosphaera; s__watsonii                                      \n",
       "Name: Taxon, Length: 159, dtype: object"
      ]
     },
     "execution_count": 78,
     "metadata": {},
     "output_type": "execute_result"
    }
   ],
   "source": [
    "junk_seqs = ncbi_discarded.view(pd.Series)\n",
    "junk_taxa = ncbi_taxa_all.view(pd.Series).loc[junk_seqs.index]\n",
    "junk_taxa"
   ]
  },
  {
   "cell_type": "code",
   "execution_count": 79,
   "metadata": {},
   "outputs": [
    {
     "data": {
      "text/plain": [
       "302     1\n",
       "367     1\n",
       "459     1\n",
       "460     1\n",
       "525     1\n",
       "       ..\n",
       "1191    1\n",
       "1192    2\n",
       "1193    1\n",
       "1195    1\n",
       "1196    1\n",
       "Length: 91, dtype: int64"
      ]
     },
     "execution_count": 79,
     "metadata": {},
     "output_type": "execute_result"
    }
   ],
   "source": [
    "junk_seqs.apply(len).value_counts().sort_index()"
   ]
  },
  {
   "cell_type": "markdown",
   "metadata": {},
   "source": [
    "# Get GTDB data\n",
    "\n",
    "r95 beta release retrieved July 13, 2020, whilst sitting in the sun, Mendocino, CA"
   ]
  },
  {
   "cell_type": "code",
   "execution_count": 7,
   "metadata": {},
   "outputs": [],
   "source": [
    "gtdbdir = dbdir + 'gtdb/'\n",
    "# !mkdir {gtdbdir}"
   ]
  },
  {
   "cell_type": "code",
   "execution_count": null,
   "metadata": {},
   "outputs": [],
   "source": [
    "# !wget -O {gtdbdir + 'bac120_ssu_r95.fasta'} https://data.ace.uq.edu.au/public/gtdb/data/releases/release_beta/95.0/bac120_ssu_r95.tsv\n",
    "# !wget -O {gtdbdir + 'bac120_taxonomy_r95.tsv'} https://data.ace.uq.edu.au/public/gtdb/data/releases/release_beta/95.0/bac120_taxonomy_r95.tsv\n",
    "# !wget -O {gtdbdir + 'ar122_ssu_r95.fasta'} https://data.ace.uq.edu.au/public/gtdb/data/releases/release_beta/95.0/ar122_ssu_r95.tsv\n",
    "# !wget -O {gtdbdir + 'ar122_taxonomy_r95.tsv'} https://data.ace.uq.edu.au/public/gtdb/data/releases/release_beta/95.0/ar122_taxonomy_r95.tsv"
   ]
  },
  {
   "cell_type": "code",
   "execution_count": 8,
   "metadata": {},
   "outputs": [],
   "source": [
    "gtdb_seqs_fp = gtdbdir + 'gtdb_ssu_r95.fasta'\n",
    "gtdb_taxa_fp = gtdbdir + 'gtdb_taxonomy_r95.tsv'\n"
   ]
  },
  {
   "cell_type": "code",
   "execution_count": 17,
   "metadata": {},
   "outputs": [],
   "source": [
    "# !cat {gtdbdir + 'bac120_ssu_r95.fasta'} {gtdbdir + 'ar122_ssu_r95.fasta'} > {gtdb_seqs_fp}\n",
    "# !cat {gtdbdir + 'bac120_taxonomy_r95.tsv'} {gtdbdir + 'ar122_taxonomy_r95.tsv'} > {gtdb_taxa_fp}"
   ]
  },
  {
   "cell_type": "code",
   "execution_count": 9,
   "metadata": {},
   "outputs": [],
   "source": [
    "gtdb_seqs_all = q2.Artifact.import_data('FeatureData[Sequence]', gtdb_seqs_fp)\n",
    "gtdb_taxa_all = q2.Artifact.import_data('FeatureData[Taxonomy]', gtdb_taxa_fp,\n",
    "                                        view_type='HeaderlessTSVTaxonomyFormat')"
   ]
  },
  {
   "cell_type": "code",
   "execution_count": 8,
   "metadata": {},
   "outputs": [
    {
     "data": {
      "text/plain": [
       "'../../../ref_dbs/gtdb/gtdb_taxonomy_r95_filtered.qza'"
      ]
     },
     "execution_count": 8,
     "metadata": {},
     "output_type": "execute_result"
    }
   ],
   "source": [
    "# filter out unusually short seqs\n",
    "gtdb_seqs, gtdb_discarded, = rescript.actions.filter_seqs_length_by_taxon(\n",
    "    sequences=gtdb_seqs_all, taxonomy=gtdb_taxa_all,\n",
    "    labels=['Archaea', 'Bacteria'], min_lens=[900, 1200])\n",
    "\n",
    "gtdb_taxa = gtdb_taxa_all.view(pd.Series)\n",
    "gtdb_taxa = gtdb_taxa.loc[gtdb_seqs.view(pd.Series).index]\n",
    "gtdb_taxa.index.name = 'Feature ID'\n",
    "gtdb_taxa = q2.Artifact.import_data('FeatureData[Taxonomy]', gtdb_taxa)\n",
    "\n",
    "# gtdb_seqs.save(gtdbdir + 'gtdb_ssu_r95_filtered.qza')\n",
    "# gtdb_taxa.save(gtdbdir + 'gtdb_taxonomy_r95_filtered.qza')"
   ]
  },
  {
   "cell_type": "code",
   "execution_count": 10,
   "metadata": {},
   "outputs": [],
   "source": [
    "gtdb_seqs = q2.Artifact.load(gtdbdir + 'gtdb_ssu_r95_filtered.qza')\n",
    "gtdb_taxa = q2.Artifact.load(gtdbdir + 'gtdb_taxonomy_r95_filtered.qza')"
   ]
  },
  {
   "cell_type": "code",
   "execution_count": 80,
   "metadata": {},
   "outputs": [
    {
     "data": {
      "text/plain": [
       "G000168735    d__Bacteria;p__Proteobacteria;c__Gammaproteobacteria;o__Chromatiales;f__Sedimenticolaceae;g__Endoriftia;s__Endoriftia persephone      \n",
       "G000183865    d__Bacteria;p__Firmicutes;c__Bacilli;o__Lactobacillales;f__Listeriaceae;g__Listeria;s__Listeria marthii                               \n",
       "G000192415    d__Bacteria;p__Actinobacteriota;c__Actinomycetia;o__Propionibacteriales;f__Nocardioidaceae;g__Nocardioides;s__Nocardioides sp000192415\n",
       "G000210015    d__Bacteria;p__Firmicutes_A;c__Clostridia;o__Lachnospirales;f__Lachnospiraceae;g__Blautia_A;s__Blautia_A obeum_B                      \n",
       "G000210555    d__Bacteria;p__Firmicutes_A;c__Clostridia;o__Lachnospirales;f__Lachnospiraceae;g__Coprococcus_A;s__Coprococcus_A catus                \n",
       "                                                                       ...                                                                          \n",
       "G013331575    d__Archaea;p__Nanoarchaeota;c__Nanoarchaeia;o__Woesearchaeales;f__UBA525;g__UBA525;s__UBA525 sp10207u                                 \n",
       "G013331535    d__Archaea;p__Micrarchaeota;c__Micrarchaeia;o__UBA10214;f__UBA10214;g__UBA10214;s__UBA10214 sp10214u                                  \n",
       "G013331125    d__Archaea;p__Nanoarchaeota;c__Nanoarchaeia;o__Woesearchaeales;f__UBA11576;g__UBA11576;s__UBA11576 sp11576u                           \n",
       "G013331015    d__Archaea;p__Halobacteriota;c__Methanomicrobia;o__Methanomicrobiales;f__Methanoregulaceae;g__Methanoregula;s__Methanoregula sp11803u \n",
       "G013330925    d__Archaea;p__Thermoplasmatota;c__Poseidoniia;o__Poseidoniales;f__Poseidoniaceae;g__MGIIa-L3;s__MGIIa-L3 sp11892u                     \n",
       "Name: Taxon, Length: 4220, dtype: object"
      ]
     },
     "execution_count": 80,
     "metadata": {},
     "output_type": "execute_result"
    }
   ],
   "source": [
    "junk_seqs = gtdb_discarded.view(pd.Series)\n",
    "junk_taxa = gtdb_taxa_all.view(pd.Series).loc[junk_seqs.index]\n",
    "junk_taxa"
   ]
  },
  {
   "cell_type": "code",
   "execution_count": 83,
   "metadata": {},
   "outputs": [
    {
     "data": {
      "text/plain": [
       "200     3\n",
       "201     4\n",
       "202     5\n",
       "203     1\n",
       "204     3\n",
       "       ..\n",
       "1193    2\n",
       "1194    1\n",
       "1195    1\n",
       "1198    1\n",
       "1199    2\n",
       "Length: 949, dtype: int64"
      ]
     },
     "execution_count": 83,
     "metadata": {},
     "output_type": "execute_result"
    }
   ],
   "source": [
    "junk_seqs.apply(len).value_counts().sort_index()"
   ]
  },
  {
   "cell_type": "markdown",
   "metadata": {},
   "source": [
    "# Get SILVA data"
   ]
  },
  {
   "cell_type": "code",
   "execution_count": 5,
   "metadata": {},
   "outputs": [],
   "source": [
    "silvadir = dbdir + 'SILVA_138/'\n",
    "# !mkdir {silvadir}\n"
   ]
  },
  {
   "cell_type": "code",
   "execution_count": null,
   "metadata": {},
   "outputs": [],
   "source": [
    "# silva_seqs_fp = silvadir + 'silva-138-99-seqs.qza'\n",
    "# silva_taxa_fp = silvadir + 'silva-138-99-tax.qza'\n",
    "\n",
    "# !wget -O {silva_seqs_fp} https://data.qiime2.org/2020.6/common/silva-138-99-seqs.qza\n",
    "# !wget -O {silva_taxa_fp} https://data.qiime2.org/2020.6/common/silva-138-99-tax.qza\n",
    "\n",
    "# silva_seqs_all = q2.Artifact.load(silva_seqs_fp)\n",
    "# silva_taxa_all = q2.Artifact.load(silva_taxa_fp)\n"
   ]
  },
  {
   "cell_type": "code",
   "execution_count": 23,
   "metadata": {},
   "outputs": [],
   "source": [
    "# Filter out 18S seqs from SILVA\n",
    "# include = 'd__Bacteria,d__Archaea'\n",
    "\n",
    "# silva_taxa = silva_taxa_all.view(pd.Series)\n",
    "# silva_taxa = silva_taxa[silva_taxa.str.contains(include.replace(',', '|'))]\n",
    "# silva_taxa = q2.Artifact.import_data('FeatureData[Taxonomy]', silva_taxa)\n",
    "\n",
    "# silva_seqs, = q2t.actions.filter_seqs(silva_seqs_all, silva_taxa_all, include=include)\n",
    "\n"
   ]
  },
  {
   "cell_type": "code",
   "execution_count": 6,
   "metadata": {},
   "outputs": [],
   "source": [
    "silva_seqs_fp = silvadir + 'silva-138-99-16s-seqs.qza'\n",
    "silva_taxa_fp = silvadir + 'silva-138-99-16s-tax.qza'\n",
    "\n",
    "# silva_seqs.save(silva_seqs_fp)\n",
    "# silva_taxa.save(silva_taxa_fp)\n",
    "\n",
    "silva_seqs = q2.Artifact.load(silva_seqs_fp)\n",
    "silva_taxa = q2.Artifact.load(silva_taxa_fp)"
   ]
  },
  {
   "cell_type": "markdown",
   "metadata": {},
   "source": [
    "# Load GG data"
   ]
  },
  {
   "cell_type": "code",
   "execution_count": 25,
   "metadata": {},
   "outputs": [],
   "source": [
    "ggdir = dbdir + 'gg_13_8_otus/'\n",
    "gg_seqs, = q2.Artifact.import_data('FeatureData[Sequence]',\n",
    "                                   ggdir + 'rep_set/99_otus.fasta'),\n",
    "gg_taxa = q2.Artifact.import_data('FeatureData[Taxonomy]',\n",
    "                                  ggdir + 'taxonomy/99_otu_taxonomy.txt',\n",
    "                                  view_type='HeaderlessTSVTaxonomyFormat')"
   ]
  },
  {
   "cell_type": "markdown",
   "metadata": {},
   "source": [
    "# Compare sequence information"
   ]
  },
  {
   "cell_type": "code",
   "execution_count": 13,
   "metadata": {},
   "outputs": [
    {
     "data": {
      "text/plain": [
       "'../data/eval/compare_16S_seqs_eval.qzv'"
      ]
     },
     "execution_count": 13,
     "metadata": {},
     "output_type": "execute_result"
    }
   ],
   "source": [
    "db_labels = ['silva_99', 'greengenes_99', 'GTDB', 'NCBI-RefSeq']\n",
    "\n",
    "# with junky short seqs\n",
    "# seqs_eval, = rescript.actions.evaluate_seqs(\n",
    "#     sequences = [silva_seqs, gg_seqs, gtdb_seqs_all, ncbi_seqs_all],\n",
    "#     labels = db_labels,\n",
    "#     palette = 'cividis')\n",
    "# seqs_eval.save('../data/eval/compare_16S_seqs_eval_unfiltered.qzv')\n",
    "# with filtered final seqs\n",
    "seqs_eval, = rescript.actions.evaluate_seqs(\n",
    "    sequences = [silva_seqs, gg_seqs, gtdb_seqs, ncbi_seqs],\n",
    "    labels = db_labels,\n",
    "    palette = 'cividis',\n",
    "    subsample_kmers = 0.2,\n",
    "    kmer_lengths = [32, 16, 8])\n",
    "seqs_eval.save('../data/eval/compare_16S_seqs_eval.qzv')\n"
   ]
  },
  {
   "cell_type": "markdown",
   "metadata": {},
   "source": [
    "# Compare taxonomic information"
   ]
  },
  {
   "cell_type": "code",
   "execution_count": 90,
   "metadata": {},
   "outputs": [
    {
     "data": {
      "text/plain": [
       "'../data/eval/compare_16S_taxonomic_eval_dropemptyranks.qzv'"
      ]
     },
     "execution_count": 90,
     "metadata": {},
     "output_type": "execute_result"
    }
   ],
   "source": [
    "taxonomies = [silva_taxa, gg_taxa, gtdb_taxa, ncbi_taxa]\n",
    "\n",
    "tax_eval, = rescript.actions.evaluate_taxonomy(\n",
    "    taxonomies = taxonomies,\n",
    "    labels = db_labels)\n",
    "tax_eval.save('../data/eval/compare_16S_taxonomic_eval.qzv')\n",
    "tax_eval, = rescript.actions.evaluate_taxonomy(\n",
    "    taxonomies = taxonomies,\n",
    "    labels = db_labels,\n",
    "    rank_handle_regex=\"^[dkpcofgs]__\")\n",
    "tax_eval.save('../data/eval/compare_16S_taxonomic_eval_dropemptyranks.qzv')"
   ]
  },
  {
   "cell_type": "markdown",
   "metadata": {},
   "source": [
    "# Make a pretty plot"
   ]
  },
  {
   "cell_type": "code",
   "execution_count": 91,
   "metadata": {},
   "outputs": [],
   "source": [
    "fig_data = dict()\n",
    "with tempfile.TemporaryDirectory() as temp_dir_name:\n",
    "    for f in glob('../data/eval/compare_16S_taxonomic_*.qzv'):\n",
    "        name = f.split('/')[-1].split('.qzv')[0]\n",
    "        f = q2.Visualization.load(f)\n",
    "        f.export_data(temp_dir_name)\n",
    "        fig_data[name] = q2.Metadata.load(temp_dir_name + '/data.tsv').to_dataframe()\n"
   ]
  },
  {
   "cell_type": "code",
   "execution_count": 104,
   "metadata": {},
   "outputs": [
    {
     "data": {
      "image/png": "[encoded data removed]",
      "text/plain": [
       "<Figure size 864x216 with 3 Axes>"
      ]
     },
     "metadata": {
      "needs_background": "light"
     },
     "output_type": "display_data"
    }
   ],
   "source": [
    "plot_keys = ['compare_16S_taxonomic_eval',\n",
    "             'compare_16S_taxonomic_eval',\n",
    "             'compare_16S_taxonomic_eval_dropemptyranks']\n",
    "signals = ['Unique Labels',\n",
    "           'Taxonomic Entropy',\n",
    "           'Proportion of Features Unclassified at Depth']\n",
    "labels = list('ABCDEF')\n",
    "\n",
    "fig, axes = plt.subplots(1, 3, figsize=(12, 3), sharex=False)\n",
    "axes = axes.flatten()\n",
    "for ax, key, signal, label in zip(axes, plot_keys, signals, labels):\n",
    "    ax.text(-0.1, 1.1, label, transform=ax.transAxes,\n",
    "            fontsize=16, fontweight='bold', va='top', ha='right')\n",
    "    dat = fig_data[key].copy()\n",
    "    #dat.loc[:, 'Dataset'] = dat.loc[:, 'Dataset'].replace(relabels)\n",
    "    dat = dat[dat['Dataset'] != 'drop']\n",
    "    dat['Level'] = dat['Level'].replace({\n",
    "        1: 'K', 2: 'P', 3: 'C', 4: 'O',\n",
    "        5: 'F', 6: 'G', 7: 'S'})\n",
    "    if ax == axes[0]:\n",
    "        legend = 'brief'\n",
    "    else:\n",
    "        legend = False\n",
    "    g = sns.lineplot(x='Level', y=signal, hue='Dataset', data=dat, ax=ax,\n",
    "                     legend=legend, palette='cividis', sort=False,\n",
    "                     hue_order=db_labels)\n",
    "    if ax == axes[2]:\n",
    "        ax.set_ylabel('Proportion Unclassified')\n",
    "    if ax != axes[1]:\n",
    "        ax.set_xlabel('')\n",
    "#fig.savefig('../data/plots/compare_16S_taxonomy_evaluation.pdf', bbox_inches='tight')\n"
   ]
  },
  {
   "cell_type": "markdown",
   "metadata": {},
   "source": [
    "# A deeper look at SILVA taxonomy"
   ]
  },
  {
   "cell_type": "code",
   "execution_count": 215,
   "metadata": {},
   "outputs": [],
   "source": [
    "some_silva = silva_taxa.view(pd.Series)\n"
   ]
  },
  {
   "cell_type": "markdown",
   "metadata": {},
   "source": [
    "### too many species (\"organism names\") don't match their genera!"
   ]
  },
  {
   "cell_type": "code",
   "execution_count": 216,
   "metadata": {},
   "outputs": [],
   "source": [
    "# number of taxa with species-genus match\n",
    "def genus_species_match(taxon_string):\n",
    "    genus, species = taxon_string.split('; g__')[-1].split('; s__')\n",
    "    genus = genus.strip(' []')\n",
    "    species_parts = [t.strip(' []') for t in species.split('_')]\n",
    "    return genus in species_parts or species_parts[0] in genus\n",
    "\n"
   ]
  },
  {
   "cell_type": "code",
   "execution_count": 217,
   "metadata": {},
   "outputs": [
    {
     "name": "stdout",
     "output_type": "stream",
     "text": [
      "s__unidentified: 1160\n",
      "hloroplast: 4137\n",
      "itochondria: 490\n",
      "s__uncultured: 258975\n",
      "s__uncultivated: 6\n",
      "etagenome: 7156\n",
      "andidatus: 2184\n",
      "ryza_sativa: 4\n",
      "_bacterium: 5865\n",
      "_proteobacterium: 597\n",
      "manure: 8\n",
      "arctic: 220\n",
      "marine: 72\n",
      "water: 74\n",
      "gut: 128\n",
      "symbiont: 312\n",
      "oral: 1256\n",
      "lake: 29\n",
      "sea: 226\n",
      "microbial_mat: 32\n",
      "glacial: 26\n",
      "drainage: 17\n",
      "thermal_vent: 58\n",
      "nrichment: 70\n",
      "synthetic: 14\n",
      "candidate: 72\n",
      "clone: 9\n",
      "mineralizing: 9\n",
      "swine: 21\n",
      "isolate: 3\n",
      "aerobic: 46\n",
      "hot_spring: 12\n",
      "halophilic: 5\n",
      "gas_vacuolate: 1\n",
      "Total SILVA: 389016\n",
      "Total Unclean: 283294\n",
      "Cleaned species match: 95966\n",
      "Cleaned species do not match: 9756\n",
      "Percent of SILVA with good species IDs: 24.66890821971333\n"
     ]
    }
   ],
   "source": [
    "# don't count unidentified, chloroplast, or mitochondria when looking for mismatched species\n",
    "# drop the leading character to cheat on case matching\n",
    "exclude = ['s__unidentified', 'hloroplast', 'itochondria', 's__uncultured', 's__uncultivated',\n",
    "           'etagenome', 'andidatus', 'ryza_sativa', '_bacterium', '_proteobacterium', 'manure',\n",
    "           'arctic', 'marine', 'water', 'gut', 'symbiont', 'oral', 'lake', 'sea',\n",
    "           'microbial_mat', 'glacial', 'drainage', 'thermal_vent', 'nrichment', \n",
    "           'synthetic', 'candidate', 'clone', 'mineralizing', 'swine', 'isolate',\n",
    "           'aerobic', 'hot_spring', 'halophilic', 'gas_vacuolate']\n",
    "\n",
    "clean_silva = some_silva.copy()\n",
    "for e in exclude:\n",
    "    start = len(clean_silva)\n",
    "    clean_silva = clean_silva[-clean_silva.str.contains(e)]\n",
    "    print(e + ': ' + str(start - len(clean_silva)))\n",
    "total_silva = len(some_silva)\n",
    "print('Total SILVA: ' + str(total_silva))\n",
    "print('Total Unclean: ' + str(total_silva - len(clean_silva)))\n",
    "\n",
    "good, bad = clean_silva.apply(genus_species_match).value_counts().values\n",
    "print('Cleaned species match: ' + str(good))\n",
    "print('Cleaned species do not match: ' + str(bad))\n",
    "print('Percent of SILVA with good species IDs: ' + str(good / total_silva * 100))\n",
    "\n"
   ]
  },
  {
   "cell_type": "code",
   "execution_count": 105,
   "metadata": {},
   "outputs": [
    {
     "data": {
      "text/plain": [
       "Feature ID\n",
       "CP022099.688126.689680                      Vibrio; s__Listonella_anguillarum\n",
       "CP021040.609953.611404         Rhodobacteraceae; s__Phaeobacter_gallaeciensis\n",
       "CP014154.4379805.4381358          Enterobacter; s__Klebsiella_quasipneumoniae\n",
       "CP011246.2508993.2510465    Allorhizobium-Neorhizobium-Pararhizobium-Rhizo...\n",
       "CP013829.118274.119809               Mycoplasma; s__Mycoplasmoides_pneumoniae\n",
       "CP014259.1494007.1495498    Allorhizobium-Neorhizobium-Pararhizobium-Rhizo...\n",
       "CP014029.2901541.2903090                Enterobacter; s__Klebsiella_aerogenes\n",
       "CP020534.551348.552902                      Vibrio; s__Listonella_anguillarum\n",
       "CP023310.293648.295202                      Vibrio; s__Listonella_anguillarum\n",
       "CP010038.2988408.2989837                    Vibrio; s__Listonella_anguillarum\n",
       "CP017327.118270.119805               Mycoplasma; s__Mycoplasmoides_pneumoniae\n",
       "AP018307.4725006.4726492                        Tolypothrix; s__Aulosira_laxa\n",
       "CP031837.273576.275080      Erysipelotrichaceae_UCG-003; s__Clostridium_sp...\n",
       "AB680382.1.1410             Allorhizobium-Neorhizobium-Pararhizobium-Rhizo...\n",
       "AECL01000040.391.1863       Allorhizobium-Neorhizobium-Pararhizobium-Rhizo...\n",
       "CP014029.2394454.2396003                Enterobacter; s__Klebsiella_aerogenes\n",
       "CP016537.163076.164631          Planomicrobium; s__Planococcus_halocryophilus\n",
       "CP016622.458083.459646      Geobacillus; s__Parageobacillus_thermoglucosid...\n",
       "HE995405.2930064.2931536                   Ensifer; s__Sinorhizobium_meliloti\n",
       "AJ389890.1.1437             Allorhizobium-Neorhizobium-Pararhizobium-Rhizo...\n",
       "AP018174.6560033.6561518          Nostoc_PCC-7107; s__Anabaenopsis_circularis\n",
       "CP022099.281669.283223                      Vibrio; s__Listonella_anguillarum\n",
       "CP033032.1051014.1052486    Allorhizobium-Neorhizobium-Pararhizobium-Rhizo...\n",
       "AB680795.1.1410             Allorhizobium-Neorhizobium-Pararhizobium-Rhizo...\n",
       "AP013294.1005875.1007421                        Sporosarcina; s__Bacillus_sp.\n",
       "CP024123.107082.108646                    Lysinibacillus; s__Solibacillus_sp.\n",
       "AJ389907.1.1437             Allorhizobium-Neorhizobium-Pararhizobium-Rhizo...\n",
       "AL591688.81767.83250                       Ensifer; s__Sinorhizobium_meliloti\n",
       "CP011077.4647044.4648594                 Cedecea; s__Klebsiella_michiganensis\n",
       "CP012171.169585.171118                   Glutamicibacter; s__Arthrobacter_sp.\n",
       "CP013051.3282885.3284394                 Ensifer; s__Sinorhizobium_americanum\n",
       "CP014222.3196533.3198078                 Iodobacter; s__Janthinobacterium_sp.\n",
       "CP014223.1668857.1670378           Anaerostignum; s__Anaerotignum_propionicum\n",
       "CP015518.2092387.2093944           Syntrophotalea; s__Pelobacter_acetylenicus\n",
       "CP016622.1236677.1238240    Geobacillus; s__Parageobacillus_thermoglucosid...\n",
       "CP016916.3845564.3847126    Geobacillus; s__Parageobacillus_thermoglucosid...\n",
       "CP017338.118247.119776               Mycoplasma; s__Mycoplasmoides_pneumoniae\n",
       "CP024412.1963113.1964633             Actinobacillus; s__Glaesserella_parasuis\n",
       "CP025030.5749871.5751407             Alcaligenaceae; s__Achromobacter_spanius\n",
       "CP025084.204571.206120                        Incertae_Sedis; s__Serratia_sp.\n",
       "CP031219.2051911.2053415                  Malaciobacter; s__Arcobacter_mytili\n",
       "AB680300.1.1410             Allorhizobium-Neorhizobium-Pararhizobium-Rhizo...\n",
       "AP012048.2339767.2341282                   Pseudarcobacter; s__Arcobacter_sp.\n",
       "AP018269.3316833.3318318                  Nostocaceae; s__Cylindrospermum_sp.\n",
       "AP018941.213410.214929              Mycoplasma; s__Mycoplasmopsis_californica\n",
       "AP018942.254806.256325              Mycoplasma; s__Mycoplasmopsis_californica\n",
       "CP003203.4261355.4262865                Paenarthrobacter; s__Arthrobacter_sp.\n",
       "CP007226.2041859.2043347    Allorhizobium-Neorhizobium-Pararhizobium-Rhizo...\n",
       "CP009158.300619.302223               Actinobacillus; s__Glaesserella_parasuis\n",
       "CP014071.385139.386688            Enterobacter; s__Klebsiella_quasipneumoniae\n",
       "Name: Taxon, dtype: object"
      ]
     },
     "execution_count": 105,
     "metadata": {},
     "output_type": "execute_result"
    }
   ],
   "source": [
    "clean_silva[-clean_silva.apply(genus_species_match)].apply(lambda x: x.split('; g__')[-1])[:50]\n"
   ]
  },
  {
   "cell_type": "markdown",
   "metadata": {},
   "source": [
    "# Compare Classification Accuracy"
   ]
  },
  {
   "cell_type": "code",
   "execution_count": 304,
   "metadata": {},
   "outputs": [],
   "source": [
    "# N jobs to use\n",
    "n_jobs = 2\n",
    "\n",
    "# data to classify\n",
    "data = [('gtdb', gtdb_seqs, gtdb_taxa),\n",
    "        ('ncbi', ncbi_seqs, ncbi_taxa)]\n"
   ]
  },
  {
   "cell_type": "code",
   "execution_count": 315,
   "metadata": {},
   "outputs": [
    {
     "name": "stdout",
     "output_type": "stream",
     "text": [
      "gtdb\n",
      "Validation: 1.23s\n",
      "trimming taxa\n",
      "Validation: 1.23s\n",
      "Fold 0 split: 2.44s\n",
      "Fold 0 fit: 86.74s\n",
      "Fold 0 classify: 146.87s\n",
      "Fold 1 split: 2.30s\n",
      "Fold 1 fit: 82.84s\n",
      "Fold 1 classify: 129.44s\n",
      "Fold 2 split: 2.27s\n",
      "Fold 2 fit: 82.14s\n",
      "Fold 2 classify: 136.73s\n",
      "Evaluation: 1.04s\n",
      "Total Runtime: 674.04s\n",
      "ncbi\n",
      "Validation: 1.44s\n",
      "Fold 0 split: 3.55s\n",
      "Fold 0 fit: 251.69s\n",
      "Fold 0 classify: 512.17s\n",
      "Fold 1 split: 3.05s\n",
      "Fold 1 fit: 254.40s\n",
      "Fold 1 classify: 517.80s\n",
      "Fold 2 split: 2.72s\n",
      "Fold 2 fit: 244.89s\n",
      "Fold 2 classify: 493.30s\n",
      "Evaluation: 1.71s\n",
      "Total Runtime: 2286.71s\n"
     ]
    }
   ],
   "source": [
    "# Note: NCBI and GTDB do not do well with CV due to lack of replication\n",
    "# GG and SILVA do better because of high redundancy \n",
    "# hence this is run for completeness but won't be used in final results\n",
    "# Cross-validation\n",
    "for n, s, t in data:\n",
    "    print(n)\n",
    "    exp_taxa_fp = '../data/expected/{0}_expected_taxonomy.qza'.format(n)\n",
    "    if not os.path.exists(exp_taxa_fp):\n",
    "        try:\n",
    "            exp, obs, _ = rescript.actions.evaluate_cross_validate(s, t, n_jobs=n_jobs)\n",
    "        # NOTE: species class sizes are too small in GTDB (N=1), so we will trim to genus level\n",
    "        except ValueError:\n",
    "            print('trimming taxa')\n",
    "            t = q2.Artifact.import_data(\n",
    "                'FeatureData[Taxonomy]',\n",
    "                t.view(pd.Series).apply(\n",
    "                    lambda x: ';'.join(rpt._utilities._taxon_to_list(x, '')[:6])))\n",
    "            exp, obs, _ = rescript.actions.evaluate_cross_validate(s, t, n_jobs=n_jobs)\n",
    "        exp.save(exp_taxa_fp)\n",
    "        obs.save('../data/observed/{0}_observed_taxonomy.qza'.format(n))"
   ]
  },
  {
   "cell_type": "code",
   "execution_count": 20,
   "metadata": {
    "scrolled": false
   },
   "outputs": [
    {
     "name": "stdout",
     "output_type": "stream",
     "text": [
      "gtdb\n",
      "Validation: 1.60s\n",
      "Training: 547.34s\n",
      "Classification: 2177.43s\n"
     ]
    },
    {
     "name": "stderr",
     "output_type": "stream",
     "text": [
      "/Users/nbokulich/Desktop/projects/RESCRIPt/rescript/evaluate.py:76: UserWarning: The lists of input taxonomies and labels are different lengths. Additional taxonomies will be labeled numerically by their order in the inputs. Note that if these numbers match existing labels, those data will be grouped in the visualization.\n",
      "  warnings.warn(msg, UserWarning)\n"
     ]
    },
    {
     "name": "stdout",
     "output_type": "stream",
     "text": [
      "Evaluation: 1.13s\n",
      "Total Runtime: 2727.50s\n",
      "ncbi\n",
      "Validation: 1.48s\n",
      "Training: 481.03s\n",
      "Classification: 2135.28s\n"
     ]
    },
    {
     "name": "stderr",
     "output_type": "stream",
     "text": [
      "/Users/nbokulich/Desktop/projects/RESCRIPt/rescript/evaluate.py:76: UserWarning: The lists of input taxonomies and labels are different lengths. Additional taxonomies will be labeled numerically by their order in the inputs. Note that if these numbers match existing labels, those data will be grouped in the visualization.\n",
      "  warnings.warn(msg, UserWarning)\n"
     ]
    },
    {
     "name": "stdout",
     "output_type": "stream",
     "text": [
      "Evaluation: 1.28s\n",
      "Total Runtime: 2619.07s\n"
     ]
    }
   ],
   "source": [
    "# \"Perfect\" classifier, no cross-validation\n",
    "for n, s, t in data:\n",
    "    print(n)\n",
    "    obs_taxa_fp = '../data/observed/{0}_observed_taxonomy_noCV.qza'.format(n)\n",
    "    exp_taxa_fp = '../data/expected/{0}_expected_taxonomy_noCV.qza'.format(n)\n",
    "    if not os.path.exists(exp_taxa_fp):\n",
    "        _, _, obs, = rescript.actions.evaluate_fit_classifier(s, t, n_jobs=n_jobs)\n",
    "        obs.save(obs_taxa_fp)\n",
    "        t.save(exp_taxa_fp)\n"
   ]
  },
  {
   "cell_type": "code",
   "execution_count": 11,
   "metadata": {},
   "outputs": [
    {
     "data": {
      "text/plain": [
       "'../data/eval/compare_16S_classification_eval.qzv'"
      ]
     },
     "execution_count": 11,
     "metadata": {},
     "output_type": "execute_result"
    }
   ],
   "source": [
    "labels = ['GTDB', 'GTDB_noCV', 'NCBI', 'NCBI_noCV', 'GG', 'GG_noCV', 'SILVA', 'SILVA_noCV']\n",
    "expected = [q2.Artifact.load('../data/expected/gtdb_expected_taxonomy.qza'),\n",
    "            q2.Artifact.load('../data/expected/gtdb_expected_taxonomy_noCV.qza'),\n",
    "            q2.Artifact.load('../data/expected/ncbi_expected_taxonomy.qza'),\n",
    "            q2.Artifact.load('../data/expected/ncbi_expected_taxonomy_noCV.qza'),\n",
    "            q2.Artifact.load('../data/expected/gg_99_expected_taxonomy.qza'),\n",
    "            q2.Artifact.load('../data/expected/gg_99_expected_taxonomy_noCV.qza'),\n",
    "            q2.Artifact.load('../data/expected/silva-nr99-default-noeuks-derep-taxa-ecv-exptax.qza'),\n",
    "            q2.Artifact.load(silvadir + 'silva-nr99-default-noeuks-derep-taxa.qza'),\n",
    "           ]\n",
    "observed = [q2.Artifact.load('../data/observed/gtdb_observed_taxonomy.qza'),\n",
    "            q2.Artifact.load('../data/observed/gtdb_observed_taxonomy_noCV.qza'),\n",
    "            q2.Artifact.load('../data/observed/ncbi_observed_taxonomy.qza'),\n",
    "            q2.Artifact.load('../data/observed/ncbi_observed_taxonomy_noCV.qza'),\n",
    "            q2.Artifact.load('../data/observed/gg_99_observed_taxonomy.qza'),\n",
    "            q2.Artifact.load('../data/observed/gg_99_observed_taxonomy_noCV.qza'),\n",
    "            q2.Artifact.load('../data/observed/silva-nr99-default-noeuks-derep-taxa-ecv-obstax.qza'),\n",
    "            q2.Artifact.load('../data/observed/silva-nr99-default-noeuks-derep-taxa-efc-obstax.qza')]\n",
    "ev, = rescript.actions.evaluate_classifications(expected, observed, labels)\n",
    "ev.save('../data/eval/compare_16S_classification_eval.qzv')"
   ]
  },
  {
   "cell_type": "markdown",
   "metadata": {},
   "source": [
    "# Taxonomic overlap"
   ]
  },
  {
   "cell_type": "code",
   "execution_count": 199,
   "metadata": {},
   "outputs": [],
   "source": [
    "def _get_per_level_labels(series, rank_handle=\"^[dkpcofgs]__\"):\n",
    "    series = series.apply(\n",
    "        # strip off tags on the end of taxa labels, e.g., subgroup IDs used by GTDB\n",
    "        lambda x: [sub(\"_.??$\", '', i) for i in \n",
    "                   rpt._utilities._taxon_to_list(x, rank_handle=rank_handle)])\n",
    "    return [set(v) for v in itertools.zip_longest(*series.values)]\n"
   ]
  },
  {
   "cell_type": "code",
   "execution_count": 219,
   "metadata": {},
   "outputs": [],
   "source": [
    "gt = _get_per_level_labels(gtdb_taxa.view(pd.Series))\n",
    "nt = _get_per_level_labels(ncbi_taxa.view(pd.Series))\n",
    "st = _get_per_level_labels(silva_taxa.view(pd.Series))\n",
    "gg = _get_per_level_labels(gg_taxa.view(pd.Series))\n"
   ]
  },
  {
   "cell_type": "code",
   "execution_count": 290,
   "metadata": {},
   "outputs": [],
   "source": [
    "# strip genus names from SILVA and GTDB species labels to match other taxonomies\n",
    "st[-1] = {i.split('_')[1].strip('[]') if '_' in i and i.split('_')[0] in st[-2] else i for i in st[-1]}\n",
    "gt[-1] = {i if sub(\"_.??$\", '', i.split(' ')[0]) not in gt[-2] else i.split(' ')[1].strip('[]') for i in gt[-1]}"
   ]
  },
  {
   "cell_type": "code",
   "execution_count": 291,
   "metadata": {},
   "outputs": [],
   "source": [
    "taxonomies = {'GTDB': gt, 'NCBI': nt, 'SILVA': st, 'GG': gg}\n",
    "\n",
    "n_taxonomies = len(taxonomies.keys())\n",
    "\n",
    "# iterate over all combinations of taxonomies\n",
    "# this starts at 1 to count unique values in each taxonomy\n",
    "all_combinations = [i for sublist in [itertools.combinations(taxonomies.keys(), r)\n",
    "                   for r in range(1, n_taxonomies + 1)] for i in sublist]\n",
    "overlap = dict()\n",
    "for level in range(0, 7):\n",
    "    overlap[level] = dict()\n",
    "    for combo in all_combinations:\n",
    "        combo = list(combo)\n",
    "        name = '-'.join([i for i in combo])\n",
    "        shared = taxonomies[combo.pop()][level]\n",
    "        while combo:\n",
    "            shared = shared.intersection(taxonomies[combo.pop()][level]) - {None, ''}\n",
    "        overlap[level][name] = len(shared)\n",
    "    "
   ]
  },
  {
   "cell_type": "code",
   "execution_count": 293,
   "metadata": {},
   "outputs": [
    {
     "data": {
      "text/html": [
       "<div>\n",
       "<style scoped>\n",
       "    .dataframe tbody tr th:only-of-type {\n",
       "        vertical-align: middle;\n",
       "    }\n",
       "\n",
       "    .dataframe tbody tr th {\n",
       "        vertical-align: top;\n",
       "    }\n",
       "\n",
       "    .dataframe thead th {\n",
       "        text-align: right;\n",
       "    }\n",
       "</style>\n",
       "<table border=\"1\" class=\"dataframe\">\n",
       "  <thead>\n",
       "    <tr style=\"text-align: right;\">\n",
       "      <th></th>\n",
       "      <th>D</th>\n",
       "      <th>P</th>\n",
       "      <th>C</th>\n",
       "      <th>O</th>\n",
       "      <th>F</th>\n",
       "      <th>G</th>\n",
       "      <th>S</th>\n",
       "    </tr>\n",
       "  </thead>\n",
       "  <tbody>\n",
       "    <tr>\n",
       "      <th>GTDB</th>\n",
       "      <td>2</td>\n",
       "      <td>106</td>\n",
       "      <td>286</td>\n",
       "      <td>719</td>\n",
       "      <td>1573</td>\n",
       "      <td>4775</td>\n",
       "      <td>14335</td>\n",
       "    </tr>\n",
       "    <tr>\n",
       "      <th>NCBI</th>\n",
       "      <td>2</td>\n",
       "      <td>41</td>\n",
       "      <td>99</td>\n",
       "      <td>234</td>\n",
       "      <td>537</td>\n",
       "      <td>3132</td>\n",
       "      <td>9962</td>\n",
       "    </tr>\n",
       "    <tr>\n",
       "      <th>SILVA</th>\n",
       "      <td>2</td>\n",
       "      <td>105</td>\n",
       "      <td>279</td>\n",
       "      <td>728</td>\n",
       "      <td>1303</td>\n",
       "      <td>4478</td>\n",
       "      <td>16513</td>\n",
       "    </tr>\n",
       "    <tr>\n",
       "      <th>GG</th>\n",
       "      <td>2</td>\n",
       "      <td>90</td>\n",
       "      <td>248</td>\n",
       "      <td>405</td>\n",
       "      <td>514</td>\n",
       "      <td>2063</td>\n",
       "      <td>2514</td>\n",
       "    </tr>\n",
       "    <tr>\n",
       "      <th>GTDB-NCBI</th>\n",
       "      <td>2</td>\n",
       "      <td>6</td>\n",
       "      <td>59</td>\n",
       "      <td>148</td>\n",
       "      <td>342</td>\n",
       "      <td>2219</td>\n",
       "      <td>4887</td>\n",
       "    </tr>\n",
       "    <tr>\n",
       "      <th>GTDB-SILVA</th>\n",
       "      <td>2</td>\n",
       "      <td>59</td>\n",
       "      <td>144</td>\n",
       "      <td>276</td>\n",
       "      <td>516</td>\n",
       "      <td>2135</td>\n",
       "      <td>5107</td>\n",
       "    </tr>\n",
       "    <tr>\n",
       "      <th>GTDB-GG</th>\n",
       "      <td>2</td>\n",
       "      <td>10</td>\n",
       "      <td>47</td>\n",
       "      <td>115</td>\n",
       "      <td>250</td>\n",
       "      <td>1368</td>\n",
       "      <td>1649</td>\n",
       "    </tr>\n",
       "    <tr>\n",
       "      <th>NCBI-SILVA</th>\n",
       "      <td>2</td>\n",
       "      <td>8</td>\n",
       "      <td>63</td>\n",
       "      <td>176</td>\n",
       "      <td>400</td>\n",
       "      <td>2587</td>\n",
       "      <td>7092</td>\n",
       "    </tr>\n",
       "    <tr>\n",
       "      <th>NCBI-GG</th>\n",
       "      <td>2</td>\n",
       "      <td>29</td>\n",
       "      <td>57</td>\n",
       "      <td>124</td>\n",
       "      <td>279</td>\n",
       "      <td>1524</td>\n",
       "      <td>1886</td>\n",
       "    </tr>\n",
       "    <tr>\n",
       "      <th>SILVA-GG</th>\n",
       "      <td>2</td>\n",
       "      <td>21</td>\n",
       "      <td>61</td>\n",
       "      <td>144</td>\n",
       "      <td>282</td>\n",
       "      <td>1495</td>\n",
       "      <td>1980</td>\n",
       "    </tr>\n",
       "    <tr>\n",
       "      <th>GTDB-NCBI-SILVA</th>\n",
       "      <td>2</td>\n",
       "      <td>6</td>\n",
       "      <td>58</td>\n",
       "      <td>135</td>\n",
       "      <td>308</td>\n",
       "      <td>1999</td>\n",
       "      <td>4494</td>\n",
       "    </tr>\n",
       "    <tr>\n",
       "      <th>GTDB-NCBI-GG</th>\n",
       "      <td>2</td>\n",
       "      <td>5</td>\n",
       "      <td>41</td>\n",
       "      <td>100</td>\n",
       "      <td>224</td>\n",
       "      <td>1310</td>\n",
       "      <td>1479</td>\n",
       "    </tr>\n",
       "    <tr>\n",
       "      <th>GTDB-SILVA-GG</th>\n",
       "      <td>2</td>\n",
       "      <td>9</td>\n",
       "      <td>42</td>\n",
       "      <td>105</td>\n",
       "      <td>229</td>\n",
       "      <td>1276</td>\n",
       "      <td>1547</td>\n",
       "    </tr>\n",
       "    <tr>\n",
       "      <th>NCBI-SILVA-GG</th>\n",
       "      <td>2</td>\n",
       "      <td>6</td>\n",
       "      <td>42</td>\n",
       "      <td>109</td>\n",
       "      <td>252</td>\n",
       "      <td>1450</td>\n",
       "      <td>1790</td>\n",
       "    </tr>\n",
       "    <tr>\n",
       "      <th>GTDB-NCBI-SILVA-GG</th>\n",
       "      <td>2</td>\n",
       "      <td>5</td>\n",
       "      <td>40</td>\n",
       "      <td>97</td>\n",
       "      <td>216</td>\n",
       "      <td>1261</td>\n",
       "      <td>1425</td>\n",
       "    </tr>\n",
       "  </tbody>\n",
       "</table>\n",
       "</div>"
      ],
      "text/plain": [
       "                    D    P    C    O     F     G      S\n",
       "GTDB                2  106  286  719  1573  4775  14335\n",
       "NCBI                2   41   99  234   537  3132   9962\n",
       "SILVA               2  105  279  728  1303  4478  16513\n",
       "GG                  2   90  248  405   514  2063   2514\n",
       "GTDB-NCBI           2    6   59  148   342  2219   4887\n",
       "GTDB-SILVA          2   59  144  276   516  2135   5107\n",
       "GTDB-GG             2   10   47  115   250  1368   1649\n",
       "NCBI-SILVA          2    8   63  176   400  2587   7092\n",
       "NCBI-GG             2   29   57  124   279  1524   1886\n",
       "SILVA-GG            2   21   61  144   282  1495   1980\n",
       "GTDB-NCBI-SILVA     2    6   58  135   308  1999   4494\n",
       "GTDB-NCBI-GG        2    5   41  100   224  1310   1479\n",
       "GTDB-SILVA-GG       2    9   42  105   229  1276   1547\n",
       "NCBI-SILVA-GG       2    6   42  109   252  1450   1790\n",
       "GTDB-NCBI-SILVA-GG  2    5   40   97   216  1261   1425"
      ]
     },
     "execution_count": 293,
     "metadata": {},
     "output_type": "execute_result"
    }
   ],
   "source": [
    "overlap_data = pd.DataFrame(overlap)\n",
    "overlap_data.columns = ['D', 'P', 'C', 'O', 'F', 'G', 'S']\n",
    "overlap_data.to_csv('../data/plots/compare_16S_shared_labels.tsv', sep='\\t')\n",
    "overlap_data"
   ]
  },
  {
   "cell_type": "code",
   "execution_count": 296,
   "metadata": {},
   "outputs": [
    {
     "data": {
      "image/png": "[encoded data removed]",
      "text/plain": [
       "<Figure size 864x432 with 4 Axes>"
      ]
     },
     "metadata": {
      "needs_background": "light"
     },
     "output_type": "display_data"
    }
   ],
   "source": [
    "# ignore matplotlib deprecation warnings, which relate to pandas plot\n",
    "warnings.simplefilter(\"ignore\")\n",
    "\n",
    "fig, axes = plt.subplots(2, 2, figsize=(12, 6), sharex=True, sharey=True)\n",
    "axes = axes.flatten()\n",
    "for ax, key in zip(axes, taxonomies.keys()):\n",
    "    plot_dat = overlap_data.copy()\n",
    "    plot_dat = plot_dat.drop([i for i in overlap_data.index if key not in i])\n",
    "    plot_dat = plot_dat / plot_dat.max()\n",
    "    if ax == axes[-1]:\n",
    "        legend = True\n",
    "    else:\n",
    "        legend = False\n",
    "    plot_dat.T.plot(kind='line', colormap='tab20b', legend=legend, ax=ax)\n",
    "    ax.set_title(key)\n",
    "    ax.legend(bbox_to_anchor=(1.1, 1.05))\n",
    "    ax.set_ylabel('Proportion Shared')\n",
    "    ax.set_xlabel('Rank')\n",
    "    \n",
    "plt.tight_layout()\n",
    "fig.savefig('../data/plots/compare_16S_shared_labels.pdf', bbox_inches='tight')\n"
   ]
  },
  {
   "cell_type": "markdown",
   "metadata": {},
   "source": [
    "# Make a Pretty Figure"
   ]
  },
  {
   "cell_type": "code",
   "execution_count": 12,
   "metadata": {},
   "outputs": [],
   "source": [
    "fig_data = dict()\n",
    "with tempfile.TemporaryDirectory() as temp_dir_name:\n",
    "    files = glob('../data/eval/compare_16S_taxonomic_*.qzv') \n",
    "    files += ['../data/eval/compare_16S_classification_eval.qzv']\n",
    "    for f in files:\n",
    "        name = f.split('/')[-1].split('.qzv')[0]\n",
    "        f = q2.Visualization.load(f)\n",
    "        f.export_data(temp_dir_name)\n",
    "        fig_data[name] = q2.Metadata.load(temp_dir_name + '/data.tsv').to_dataframe()\n"
   ]
  },
  {
   "cell_type": "code",
   "execution_count": 14,
   "metadata": {},
   "outputs": [
    {
     "data": {
      "image/png": "[encoded data removed]",
      "text/plain": [
       "<Figure size 864x216 with 4 Axes>"
      ]
     },
     "metadata": {
      "needs_background": "light"
     },
     "output_type": "display_data"
    }
   ],
   "source": [
    "db_labels = ['silva_99', 'greengenes_99', 'GTDB', 'NCBI-RefSeq']\n",
    "plot_keys = ['compare_16S_taxonomic_eval',\n",
    "             'compare_16S_taxonomic_eval',\n",
    "             'compare_16S_taxonomic_eval_dropemptyranks',\n",
    "             'compare_16S_classification_eval']\n",
    "signals = ['Unique Labels',\n",
    "           'Taxonomic Entropy',\n",
    "           'Proportion of Features Unclassified at Depth',\n",
    "           'F-Measure']\n",
    "labels = list('ABCDEF')\n",
    "\n",
    "fig, axes = plt.subplots(1, 4, figsize=(12, 3), sharex=False)\n",
    "axes = axes.flatten()\n",
    "for ax, key, signal, label in zip(axes, plot_keys, signals, labels):\n",
    "    ax.text(-0.1, 1.1, label, transform=ax.transAxes,\n",
    "            fontsize=16, fontweight='bold', va='top', ha='right')\n",
    "    dat = fig_data[key].copy()\n",
    "    #dat.loc[:, 'Dataset'] = dat.loc[:, 'Dataset'].replace(relabels)\n",
    "    dat = dat[dat['Dataset'] != 'drop']\n",
    "    dat['Level'] = dat['Level'].replace({\n",
    "        1: 'D', 2: 'P', 3: 'C', 4: 'O',\n",
    "        5: 'F', 6: 'G', 7: 'S'})\n",
    "    if ax == axes[0]:\n",
    "        legend = 'brief'\n",
    "    else:\n",
    "        legend = False\n",
    "    if ax == axes[-1]:\n",
    "        dat = dat[dat['Dataset'].isin([\n",
    "            'GG_noCV', 'SILVA_noCV', 'GTDB_noCV', 'NCBI_noCV'])]\n",
    "        dat['Dataset'] = dat['Dataset'].replace({\n",
    "            'GG_noCV': 'greengenes_99', 'SILVA_noCV': 'silva_99',\n",
    "            'GTDB_noCV': 'GTDB', 'NCBI_noCV': 'NCBI-RefSeq'})\n",
    "    g = sns.lineplot(x='Level', y=signal, hue='Dataset', data=dat, ax=ax,\n",
    "                     legend=legend, palette='cividis', sort=False,\n",
    "                     hue_order=db_labels)\n",
    "    if ax == axes[2]:\n",
    "        ax.set_ylabel('Proportion Unclassified')\n",
    "    if ax != axes[1]:\n",
    "        ax.set_xlabel('')\n",
    "fig.tight_layout()\n",
    "fig.savefig('../data/plots/compare_16S_taxonomy_evaluation.pdf', bbox_inches='tight')\n"
   ]
  },
  {
   "cell_type": "code",
   "execution_count": null,
   "metadata": {},
   "outputs": [],
   "source": []
  }
 ],
 "metadata": {
  "kernelspec": {
   "display_name": "Python 3",
   "language": "python",
   "name": "python3"
  },
  "language_info": {
   "codemirror_mode": {
    "name": "ipython",
    "version": 3
   },
   "file_extension": ".py",
   "mimetype": "text/x-python",
   "name": "python",
   "nbconvert_exporter": "python",
   "pygments_lexer": "ipython3",
   "version": "3.6.10"
  }
 },
 "nbformat": 4,
 "nbformat_minor": 4
}
