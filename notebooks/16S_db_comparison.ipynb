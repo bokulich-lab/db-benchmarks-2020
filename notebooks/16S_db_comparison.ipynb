{
 "cells": [
  {
   "cell_type": "markdown",
   "metadata": {},
   "source": [
    "# 16S database comparison\n",
    "\n",
    "Compares multiple databases: Greengenes, SILVA, NCBI RefSeq, and GTDB"
   ]
  },
  {
   "cell_type": "code",
   "execution_count": 41,
   "metadata": {},
   "outputs": [],
   "source": [
    "import qiime2 as q2\n",
    "import pandas as pd\n",
    "from qiime2.plugins import rescript, taxa as q2t\n",
    "import tempfile\n",
    "from glob import glob\n",
    "import seaborn as sns\n",
    "from matplotlib import pyplot as plt\n",
    "\n",
    "%matplotlib inline"
   ]
  },
  {
   "cell_type": "markdown",
   "metadata": {},
   "source": [
    "# Get NCBI data"
   ]
  },
  {
   "cell_type": "code",
   "execution_count": 7,
   "metadata": {},
   "outputs": [],
   "source": [
    "dbdir = '../../../ref_dbs/'"
   ]
  },
  {
   "cell_type": "code",
   "execution_count": 63,
   "metadata": {},
   "outputs": [
    {
     "data": {
      "text/plain": [
       "'../../../ref_dbs/ncbi-refseq/ncbi-refseqs-taxa-071420-unfiltered.qza'"
      ]
     },
     "execution_count": 63,
     "metadata": {},
     "output_type": "execute_result"
    }
   ],
   "source": [
    "ncbi_seqs_all, ncbi_taxa_all, = rescript.actions.get_ncbi_data('33175[BioProject] OR 33317[BioProject]')\n",
    "ncbi_seqs_all.save(dbdir + 'ncbi-refseq/ncbi-refseqs-071420-unfiltered.qza')\n",
    "ncbi_taxa_all.save(dbdir + 'ncbi-refseq/ncbi-refseqs-taxa-071420-unfiltered.qza')"
   ]
  },
  {
   "cell_type": "code",
   "execution_count": 64,
   "metadata": {},
   "outputs": [
    {
     "data": {
      "text/plain": [
       "'../../../ref_dbs/ncbi-refseq/ncbi-refseqs-taxa-071420.qza'"
      ]
     },
     "execution_count": 64,
     "metadata": {},
     "output_type": "execute_result"
    }
   ],
   "source": [
    "# filter out unusually short seqs\n",
    "ncbi_seqs, ncbi_discarded, = rescript.actions.filter_seqs_length_by_taxon(\n",
    "    sequences=ncbi_seqs_all, taxonomy=ncbi_taxa_all,\n",
    "    labels=['Archaea', 'Bacteria'], min_lens=[900, 1200])\n",
    "\n",
    "ncbi_taxa = ncbi_taxa_all.view(pd.Series)\n",
    "ncbi_taxa = ncbi_taxa.loc[ncbi_taxa.view(pd.Series).index]\n",
    "ncbi_taxa.index.name = 'Feature ID'\n",
    "ncbi_taxa = q2.Artifact.import_data('FeatureData[Taxonomy]', ncbi_taxa)\n",
    "\n",
    "ncbi_seqs.save(dbdir + 'ncbi-refseq/ncbi-refseqs-071420.qza')\n",
    "ncbi_taxa.save(dbdir + 'ncbi-refseq/ncbi-refseqs-taxa-071420.qza')"
   ]
  },
  {
   "cell_type": "code",
   "execution_count": 78,
   "metadata": {},
   "outputs": [
    {
     "data": {
      "text/plain": [
       "NR_169410.1    k__Bacteria; p__Actinobacteria; c__Actinobacteria; o__Corynebacteriales; f__Nocardiaceae; g__Williamsia; s__aurantiacus                                  \n",
       "NR_157649.1    k__Bacteria; p__Proteobacteria; c__Alphaproteobacteria; o__Rickettsiales; f__Anaplasmataceae; g__Ehrlichia; s__muris subsp. eauclairensis                \n",
       "NR_157641.1    k__Bacteria; p__Firmicutes; c__Bacilli; o__Bacillales; f__Sporolactobacillaceae; g__Sporolactobacillus; s__shoreicorticis                                \n",
       "NR_156167.1    k__Bacteria; p__Proteobacteria; c__Gammaproteobacteria; o__Alteromonadales; f__Idiomarinaceae; g__Aliidiomarina; s__soli                                 \n",
       "NR_152085.1    k__Bacteria; p__Proteobacteria; c__Gammaproteobacteria; o__Vibrionales; f__Vibrionaceae; g__Vibrio; s__cidicii                                           \n",
       "                                                                    ...                                                                                                 \n",
       "NR_112175.1    k__Bacteria; p__Cyanobacteria; c__Cyanobacteria; o__Nostocales; f__Calotrichaceae; g__Calothrix; s__desertica PCC 7102                                   \n",
       "NR_109474.1    k__Bacteria; p__Actinobacteria; c__Actinobacteria; o__Corynebacteriales; f__Mycobacteriaceae; g__Mycolicibacter; s__minnesotensis                        \n",
       "NR_118066.1    k__Bacteria; p__Proteobacteria; c__Betaproteobacteria; o__Burkholderiales; f__Burkholderiaceae; g__Paraburkholderia; s__kururiensis JCM 10599 = LMG 19447\n",
       "NR_115797.1    k__Bacteria; p__Firmicutes; c__Clostridia; o__Clostridiales; f__Peptostreptococcaceae; g__Paeniclostridium; s__[Eubacterium] tenue                       \n",
       "NR_115288.1    k__Bacteria; p__Cyanobacteria; c__Cyanobacteria; o__Chroococcales; f__Aphanothecaceae; g__Crocosphaera; s__watsonii                                      \n",
       "Name: Taxon, Length: 159, dtype: object"
      ]
     },
     "execution_count": 78,
     "metadata": {},
     "output_type": "execute_result"
    }
   ],
   "source": [
    "junk_seqs = ncbi_discarded.view(pd.Series)\n",
    "junk_taxa = ncbi_taxa_all.view(pd.Series).loc[junk_seqs.index]\n",
    "junk_taxa"
   ]
  },
  {
   "cell_type": "code",
   "execution_count": 79,
   "metadata": {},
   "outputs": [
    {
     "data": {
      "text/plain": [
       "302     1\n",
       "367     1\n",
       "459     1\n",
       "460     1\n",
       "525     1\n",
       "       ..\n",
       "1191    1\n",
       "1192    2\n",
       "1193    1\n",
       "1195    1\n",
       "1196    1\n",
       "Length: 91, dtype: int64"
      ]
     },
     "execution_count": 79,
     "metadata": {},
     "output_type": "execute_result"
    }
   ],
   "source": [
    "junk_seqs.apply(len).value_counts().sort_index()"
   ]
  },
  {
   "cell_type": "markdown",
   "metadata": {},
   "source": [
    "# Get GTDB data\n",
    "\n",
    "r95 beta release retrieved July 13, 2020, whilst sitting in the sun, Mendocino, CA"
   ]
  },
  {
   "cell_type": "code",
   "execution_count": 9,
   "metadata": {},
   "outputs": [],
   "source": [
    "gtdbdir = dbdir + 'gtdb/'\n",
    "!mkdir {gtdbdir}"
   ]
  },
  {
   "cell_type": "code",
   "execution_count": null,
   "metadata": {},
   "outputs": [],
   "source": [
    "!wget -O {gtdbdir + 'bac120_ssu_r95.fasta'} https://data.ace.uq.edu.au/public/gtdb/data/releases/release_beta/95.0/bac120_ssu_r95.tsv\n",
    "!wget -O {gtdbdir + 'bac120_taxonomy_r95.tsv'} https://data.ace.uq.edu.au/public/gtdb/data/releases/release_beta/95.0/bac120_taxonomy_r95.tsv\n",
    "!wget -O {gtdbdir + 'ar122_ssu_r95.fasta'} https://data.ace.uq.edu.au/public/gtdb/data/releases/release_beta/95.0/ar122_ssu_r95.tsv\n",
    "!wget -O {gtdbdir + 'ar122_taxonomy_r95.tsv'} https://data.ace.uq.edu.au/public/gtdb/data/releases/release_beta/95.0/ar122_taxonomy_r95.tsv"
   ]
  },
  {
   "cell_type": "code",
   "execution_count": 15,
   "metadata": {},
   "outputs": [],
   "source": [
    "gtdb_seqs_fp = gtdbdir + 'gtdb_ssu_r95.fasta'\n",
    "gtdb_taxa_fp = gtdbdir + 'gtdb_taxonomy_r95.tsv'\n"
   ]
  },
  {
   "cell_type": "code",
   "execution_count": 17,
   "metadata": {},
   "outputs": [],
   "source": [
    "!cat {gtdbdir + 'bac120_ssu_r95.fasta'} {gtdbdir + 'ar122_ssu_r95.fasta'} > {gtdb_seqs_fp}\n",
    "!cat {gtdbdir + 'bac120_taxonomy_r95.tsv'} {gtdbdir + 'ar122_taxonomy_r95.tsv'} > {gtdb_taxa_fp}"
   ]
  },
  {
   "cell_type": "code",
   "execution_count": 47,
   "metadata": {},
   "outputs": [],
   "source": [
    "gtdb_seqs_all = q2.Artifact.import_data('FeatureData[Sequence]', gtdb_seqs_fp)\n",
    "gtdb_taxa_all = q2.Artifact.import_data('FeatureData[Taxonomy]', gtdb_taxa_fp,\n",
    "                                        view_type='HeaderlessTSVTaxonomyFormat')"
   ]
  },
  {
   "cell_type": "code",
   "execution_count": 49,
   "metadata": {},
   "outputs": [],
   "source": [
    "# filter out unusually short seqs\n",
    "gtdb_seqs, gtdb_discarded, = rescript.actions.filter_seqs_length_by_taxon(\n",
    "    sequences=gtdb_seqs_all, taxonomy=gtdb_taxa_all,\n",
    "    labels=['Archaea', 'Bacteria'], min_lens=[900, 1200])\n",
    "\n",
    "gtdb_taxa = gtdb_taxa_all.view(pd.Series)\n",
    "gtdb_taxa = gtdb_taxa.loc[gtdb_seqs.view(pd.Series).index]\n",
    "gtdb_taxa.index.name = 'Feature ID'\n",
    "gtdb_taxa = q2.Artifact.import_data('FeatureData[Taxonomy]', gtdb_taxa)\n"
   ]
  },
  {
   "cell_type": "code",
   "execution_count": 80,
   "metadata": {},
   "outputs": [
    {
     "data": {
      "text/plain": [
       "G000168735    d__Bacteria;p__Proteobacteria;c__Gammaproteobacteria;o__Chromatiales;f__Sedimenticolaceae;g__Endoriftia;s__Endoriftia persephone      \n",
       "G000183865    d__Bacteria;p__Firmicutes;c__Bacilli;o__Lactobacillales;f__Listeriaceae;g__Listeria;s__Listeria marthii                               \n",
       "G000192415    d__Bacteria;p__Actinobacteriota;c__Actinomycetia;o__Propionibacteriales;f__Nocardioidaceae;g__Nocardioides;s__Nocardioides sp000192415\n",
       "G000210015    d__Bacteria;p__Firmicutes_A;c__Clostridia;o__Lachnospirales;f__Lachnospiraceae;g__Blautia_A;s__Blautia_A obeum_B                      \n",
       "G000210555    d__Bacteria;p__Firmicutes_A;c__Clostridia;o__Lachnospirales;f__Lachnospiraceae;g__Coprococcus_A;s__Coprococcus_A catus                \n",
       "                                                                       ...                                                                          \n",
       "G013331575    d__Archaea;p__Nanoarchaeota;c__Nanoarchaeia;o__Woesearchaeales;f__UBA525;g__UBA525;s__UBA525 sp10207u                                 \n",
       "G013331535    d__Archaea;p__Micrarchaeota;c__Micrarchaeia;o__UBA10214;f__UBA10214;g__UBA10214;s__UBA10214 sp10214u                                  \n",
       "G013331125    d__Archaea;p__Nanoarchaeota;c__Nanoarchaeia;o__Woesearchaeales;f__UBA11576;g__UBA11576;s__UBA11576 sp11576u                           \n",
       "G013331015    d__Archaea;p__Halobacteriota;c__Methanomicrobia;o__Methanomicrobiales;f__Methanoregulaceae;g__Methanoregula;s__Methanoregula sp11803u \n",
       "G013330925    d__Archaea;p__Thermoplasmatota;c__Poseidoniia;o__Poseidoniales;f__Poseidoniaceae;g__MGIIa-L3;s__MGIIa-L3 sp11892u                     \n",
       "Name: Taxon, Length: 4220, dtype: object"
      ]
     },
     "execution_count": 80,
     "metadata": {},
     "output_type": "execute_result"
    }
   ],
   "source": [
    "junk_seqs = gtdb_discarded.view(pd.Series)\n",
    "junk_taxa = gtdb_taxa_all.view(pd.Series).loc[junk_seqs.index]\n",
    "junk_taxa"
   ]
  },
  {
   "cell_type": "code",
   "execution_count": 83,
   "metadata": {},
   "outputs": [
    {
     "data": {
      "text/plain": [
       "200     3\n",
       "201     4\n",
       "202     5\n",
       "203     1\n",
       "204     3\n",
       "       ..\n",
       "1193    2\n",
       "1194    1\n",
       "1195    1\n",
       "1198    1\n",
       "1199    2\n",
       "Length: 949, dtype: int64"
      ]
     },
     "execution_count": 83,
     "metadata": {},
     "output_type": "execute_result"
    }
   ],
   "source": [
    "junk_seqs.apply(len).value_counts().sort_index()"
   ]
  },
  {
   "cell_type": "markdown",
   "metadata": {},
   "source": [
    "# Get SILVA data"
   ]
  },
  {
   "cell_type": "code",
   "execution_count": 22,
   "metadata": {},
   "outputs": [],
   "source": [
    "silvadir = dbdir + 'SILVA_138/'\n",
    "!mkdir {silvadir}\n",
    "\n",
    "silva_seqs_fp = silvadir + 'silva-138-99-seqs.qza'\n",
    "silva_taxa_fp = silvadir + 'silva-138-99-tax.qza'\n"
   ]
  },
  {
   "cell_type": "code",
   "execution_count": null,
   "metadata": {},
   "outputs": [],
   "source": [
    "!wget -O {silva_seqs_fp} https://data.qiime2.org/2020.6/common/silva-138-99-seqs.qza\n",
    "!wget -O {silva_taxa_fp} https://data.qiime2.org/2020.6/common/silva-138-99-tax.qza"
   ]
  },
  {
   "cell_type": "code",
   "execution_count": 39,
   "metadata": {},
   "outputs": [],
   "source": [
    "silva_seqs_all = q2.Artifact.load(silva_seqs_fp)\n",
    "silva_taxa_all = q2.Artifact.load(silva_taxa_fp)"
   ]
  },
  {
   "cell_type": "code",
   "execution_count": 44,
   "metadata": {},
   "outputs": [],
   "source": [
    "# Filter out 18S seqs from SILVA\n",
    "include = 'd__Bacteria,d__Archaea'\n",
    "\n",
    "silva_taxa = silva_taxa_all.view(pd.Series)\n",
    "silva_taxa = silva_taxa[silva_taxa.str.contains(include.replace(',', '|'))]\n",
    "silva_taxa = q2.Artifact.import_data('FeatureData[Taxonomy]', silva_taxa)\n",
    "\n",
    "silva_seqs, = q2t.actions.filter_seqs(silva_seqs_all, silva_taxa_all, include=include)"
   ]
  },
  {
   "cell_type": "markdown",
   "metadata": {},
   "source": [
    "# Load GG data"
   ]
  },
  {
   "cell_type": "code",
   "execution_count": 33,
   "metadata": {},
   "outputs": [],
   "source": [
    "ggdir = dbdir + 'gg_13_8_otus/'\n",
    "gg_seqs, = q2.Artifact.import_data('FeatureData[Sequence]',\n",
    "                                   ggdir + 'rep_set/99_otus.fasta'),\n",
    "gg_taxa = q2.Artifact.import_data('FeatureData[Taxonomy]',\n",
    "                                  ggdir + 'taxonomy/99_otu_taxonomy.txt',\n",
    "                                  view_type='HeaderlessTSVTaxonomyFormat')"
   ]
  },
  {
   "cell_type": "markdown",
   "metadata": {},
   "source": [
    "# Compare sequence information"
   ]
  },
  {
   "cell_type": "code",
   "execution_count": 96,
   "metadata": {},
   "outputs": [],
   "source": [
    "db_labels = ['silva_99', 'greengenes_99', 'GTDB', 'NCBI-RefSeq']\n",
    "\n",
    "# with junky short seqs\n",
    "seqs_eval, = rescript.actions.evaluate_seqs(\n",
    "    sequences = [silva_seqs, gg_seqs, gtdb_seqs_all, ncbi_seqs_all],\n",
    "    labels = db_labels,\n",
    "    palette = 'cividis')\n",
    "seqs_eval.save('../data/eval/compare_16S_seqs_eval_unfiltered.qzv')\n",
    "# with filtered final seqs\n",
    "seqs_eval, = rescript.actions.evaluate_seqs(\n",
    "    sequences = [silva_seqs, gg_seqs, gtdb_seqs, ncbi_seqs],\n",
    "    labels = db_labels,\n",
    "    palette = 'cividis')\n",
    "seqs_eval.save('../data/eval/compare_16S_seqs_eval.qzv')\n"
   ]
  },
  {
   "cell_type": "markdown",
   "metadata": {},
   "source": [
    "# Compare taxonomic information"
   ]
  },
  {
   "cell_type": "code",
   "execution_count": 90,
   "metadata": {},
   "outputs": [
    {
     "data": {
      "text/plain": [
       "'../data/eval/compare_16S_taxonomic_eval_dropemptyranks.qzv'"
      ]
     },
     "execution_count": 90,
     "metadata": {},
     "output_type": "execute_result"
    }
   ],
   "source": [
    "taxonomies = [silva_taxa, gg_taxa, gtdb_taxa, ncbi_taxa]\n",
    "\n",
    "tax_eval, = rescript.actions.evaluate_taxonomy(\n",
    "    taxonomies = taxonomies,\n",
    "    labels = db_labels)\n",
    "tax_eval.save('../data/eval/compare_16S_taxonomic_eval.qzv')\n",
    "tax_eval, = rescript.actions.evaluate_taxonomy(\n",
    "    taxonomies = taxonomies,\n",
    "    labels = db_labels,\n",
    "    rank_handle_regex=\"^[dkpcofgs]__\")\n",
    "tax_eval.save('../data/eval/compare_16S_taxonomic_eval_dropemptyranks.qzv')"
   ]
  },
  {
   "cell_type": "markdown",
   "metadata": {},
   "source": [
    "# Make a pretty plot"
   ]
  },
  {
   "cell_type": "code",
   "execution_count": 91,
   "metadata": {},
   "outputs": [],
   "source": [
    "fig_data = dict()\n",
    "with tempfile.TemporaryDirectory() as temp_dir_name:\n",
    "    for f in glob('../data/eval/compare_16S_taxonomic_*.qzv'):\n",
    "        name = f.split('/')[-1].split('.qzv')[0]\n",
    "        f = q2.Visualization.load(f)\n",
    "        f.export_data(temp_dir_name)\n",
    "        fig_data[name] = q2.Metadata.load(temp_dir_name + '/data.tsv').to_dataframe()\n"
   ]
  },
  {
   "cell_type": "code",
   "execution_count": 104,
   "metadata": {},
   "outputs": [
    {
     "data": {
      "image/png": "[encoded data removed]",
      "text/plain": [
       "<Figure size 864x216 with 3 Axes>"
      ]
     },
     "metadata": {
      "needs_background": "light"
     },
     "output_type": "display_data"
    }
   ],
   "source": [
    "plot_keys = ['compare_16S_taxonomic_eval',\n",
    "             'compare_16S_taxonomic_eval',\n",
    "             'compare_16S_taxonomic_eval_dropemptyranks']\n",
    "signals = ['Unique Labels',\n",
    "           'Taxonomic Entropy',\n",
    "           'Proportion of Features Unclassified at Depth']\n",
    "labels = list('ABCDEF')\n",
    "\n",
    "fig, axes = plt.subplots(1, 3, figsize=(12, 3), sharex=False)\n",
    "axes = axes.flatten()\n",
    "for ax, key, signal, label in zip(axes, plot_keys, signals, labels):\n",
    "    ax.text(-0.1, 1.1, label, transform=ax.transAxes,\n",
    "            fontsize=16, fontweight='bold', va='top', ha='right')\n",
    "    dat = fig_data[key].copy()\n",
    "    #dat.loc[:, 'Dataset'] = dat.loc[:, 'Dataset'].replace(relabels)\n",
    "    dat = dat[dat['Dataset'] != 'drop']\n",
    "    dat['Level'] = dat['Level'].replace({\n",
    "        1: 'K', 2: 'P', 3: 'C', 4: 'O',\n",
    "        5: 'F', 6: 'G', 7: 'S'})\n",
    "    if ax == axes[0]:\n",
    "        legend = 'brief'\n",
    "    else:\n",
    "        legend = False\n",
    "    g = sns.lineplot(x='Level', y=signal, hue='Dataset', data=dat, ax=ax,\n",
    "                     legend=legend, palette='cividis', sort=False,\n",
    "                     hue_order=db_labels)\n",
    "    if ax == axes[2]:\n",
    "        ax.set_ylabel('Proportion Unclassified')\n",
    "    if ax != axes[1]:\n",
    "        ax.set_xlabel('')\n",
    "fig.savefig('../data/plots/compare_16S_taxonomy_evaluation.pdf', bbox_inches='tight')\n"
   ]
  },
  {
   "cell_type": "code",
   "execution_count": null,
   "metadata": {},
   "outputs": [],
   "source": []
  }
 ],
 "metadata": {
  "kernelspec": {
   "display_name": "Python 3",
   "language": "python",
   "name": "python3"
  },
  "language_info": {
   "codemirror_mode": {
    "name": "ipython",
    "version": 3
   },
   "file_extension": ".py",
   "mimetype": "text/x-python",
   "name": "python",
   "nbconvert_exporter": "python",
   "pygments_lexer": "ipython3",
   "version": "3.6.10"
  }
 },
 "nbformat": 4,
 "nbformat_minor": 4
}
