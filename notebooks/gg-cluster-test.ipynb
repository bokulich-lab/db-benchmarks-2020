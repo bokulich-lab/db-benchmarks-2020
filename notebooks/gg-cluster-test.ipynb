{
 "cells": [
  {
   "cell_type": "code",
   "execution_count": 1,
   "metadata": {},
   "outputs": [],
   "source": [
    "import os\n",
    "import qiime2 as q2\n",
    "from qiime2.plugins import rescript, feature_table as ft\n",
    "import pandas as pd\n",
    "from glob import glob\n",
    "import timeit\n",
    "from rescript.cross_validate import _check_time\n",
    "\n",
    "pd.set_option('max_colwidth', 0)\n"
   ]
  },
  {
   "cell_type": "markdown",
   "metadata": {},
   "source": [
    "# Define inputs\n",
    "\n",
    "Modify the filepaths here to your local filepaths to run this notebook.\n",
    "The filepaths below merely point to the sequence and taxonomy files for the greengenes 13_8 release, clustered at different OTU % similarities.\n",
    "\n",
    "Greengenes files can be downloaded and unzipped from here:\n",
    "\n",
    "ftp://greengenes.microbio.me/greengenes_release/gg_13_5/gg_13_8_otus.tar.gz\n",
    "\n",
    "**DO NOT MODIFY ANY OTHER CELLS IN THIS NOTEBOOK IF YOU ARE ATTEMPTING TO REPLICATE THESE RESULTS**"
   ]
  },
  {
   "cell_type": "code",
   "execution_count": 2,
   "metadata": {},
   "outputs": [],
   "source": [
    "# N jobs to use\n",
    "n_jobs = 4\n",
    "\n",
    "# location of reference database files\n",
    "dbdir = '../../../ref_dbs/gg_13_8_otus/'\n",
    "dbs = {\n",
    "    'gg_{0}'.format(n): {\n",
    "        'seqs': q2.Artifact.import_data(\n",
    "            'FeatureData[Sequence]', dbdir + 'rep_set/{0}_otus.fasta'.format(n)),\n",
    "        'taxa': q2.Artifact.import_data(\n",
    "            'FeatureData[Taxonomy]', dbdir + 'taxonomy/{0}_otu_taxonomy.txt'.format(n),\n",
    "            view_type='HeaderlessTSVTaxonomyFormat')}\n",
    "    for n in ['64', '79', '88', '91', '94', '97', '99']}\n"
   ]
  },
  {
   "cell_type": "markdown",
   "metadata": {},
   "source": [
    "# Perform CV Classification\n",
    "Both k-fold and \"perfect classifiers\" (no CV, leaky data, best possible performance)"
   ]
  },
  {
   "cell_type": "code",
   "execution_count": 3,
   "metadata": {
    "collapsed": true
   },
   "outputs": [
    {
     "name": "stdout",
     "output_type": "stream",
     "text": [
      "gg_64\n",
      "gg_79\n",
      "gg_88\n",
      "gg_91\n",
      "gg_94\n",
      "gg_97\n",
      "gg_99\n",
      "Validation: 14.00s\n"
     ]
    },
    {
     "name": "stderr",
     "output_type": "stream",
     "text": [
      "/Users/nbokulich/miniconda3/envs/qiime2-2020.5-dev/lib/python3.6/site-packages/sklearn/model_selection/_split.py:667: UserWarning: The least populated class in y has only 1 members, which is less than n_splits=3.\n",
      "  % (min_groups, self.n_splits)), UserWarning)\n"
     ]
    },
    {
     "name": "stdout",
     "output_type": "stream",
     "text": [
      "Fold 0 split: 26.52s\n"
     ]
    },
    {
     "name": "stderr",
     "output_type": "stream",
     "text": [
      "/Users/nbokulich/Desktop/projects/q2-feature-classifier/q2_feature_classifier/classifier.py:102: UserWarning: The TaxonomicClassifier artifact that results from this method was trained using scikit-learn version 0.22.1. It cannot be used with other versions of scikit-learn. (While the classifier may complete successfully, the results will be unreliable.)\n",
      "  warnings.warn(warning, UserWarning)\n"
     ]
    },
    {
     "name": "stdout",
     "output_type": "stream",
     "text": [
      "Fold 0 fit: 913.69s\n",
      "Fold 0 classify: 1975.79s\n",
      "Fold 1 split: 22.64s\n"
     ]
    },
    {
     "name": "stderr",
     "output_type": "stream",
     "text": [
      "/Users/nbokulich/Desktop/projects/q2-feature-classifier/q2_feature_classifier/classifier.py:102: UserWarning: The TaxonomicClassifier artifact that results from this method was trained using scikit-learn version 0.22.1. It cannot be used with other versions of scikit-learn. (While the classifier may complete successfully, the results will be unreliable.)\n",
      "  warnings.warn(warning, UserWarning)\n"
     ]
    },
    {
     "name": "stdout",
     "output_type": "stream",
     "text": [
      "Fold 1 fit: 861.96s\n",
      "Fold 1 classify: 1925.18s\n",
      "Fold 2 split: 21.87s\n"
     ]
    },
    {
     "name": "stderr",
     "output_type": "stream",
     "text": [
      "/Users/nbokulich/Desktop/projects/q2-feature-classifier/q2_feature_classifier/classifier.py:102: UserWarning: The TaxonomicClassifier artifact that results from this method was trained using scikit-learn version 0.22.1. It cannot be used with other versions of scikit-learn. (While the classifier may complete successfully, the results will be unreliable.)\n",
      "  warnings.warn(warning, UserWarning)\n"
     ]
    },
    {
     "name": "stdout",
     "output_type": "stream",
     "text": [
      "Fold 2 fit: 830.71s\n",
      "Fold 2 classify: 1867.59s\n",
      "Total Runtime: 8461.67s\n"
     ]
    }
   ],
   "source": [
    "# Cross-validation\n",
    "times_cv = {}\n",
    "for n, v in dbs.items():\n",
    "    s, t = v['seqs'], v['taxa']\n",
    "    print(n)\n",
    "    exp_taxa_fp = '../data/expected/{0}_expected_taxonomy.qza'.format(n)\n",
    "    if not os.path.exists(exp_taxa_fp):\n",
    "        start = timeit.default_timer()\n",
    "        exp, obs, = rescript.actions.evaluate_cross_validate(s, t, n_jobs=n_jobs)\n",
    "        times_cv[n] = timeit.default_timer() - start\n",
    "        exp.save(exp_taxa_fp)\n",
    "        obs.save('../data/observed/{0}_observed_taxonomy.qza'.format(n))"
   ]
  },
  {
   "cell_type": "code",
   "execution_count": 8,
   "metadata": {
    "collapsed": true
   },
   "outputs": [
    {
     "name": "stdout",
     "output_type": "stream",
     "text": [
      "gg_64\n",
      "gg_79\n",
      "gg_88\n",
      "gg_91\n",
      "gg_94\n",
      "gg_97\n",
      "Validation: 6.98s\n"
     ]
    },
    {
     "name": "stderr",
     "output_type": "stream",
     "text": [
      "/Users/nbokulich/Desktop/projects/q2-feature-classifier/q2_feature_classifier/classifier.py:102: UserWarning: The TaxonomicClassifier artifact that results from this method was trained using scikit-learn version 0.22.1. It cannot be used with other versions of scikit-learn. (While the classifier may complete successfully, the results will be unreliable.)\n",
      "  warnings.warn(warning, UserWarning)\n"
     ]
    },
    {
     "name": "stdout",
     "output_type": "stream",
     "text": [
      "Training: 564.78s\n",
      "Classification: 2491.23s\n"
     ]
    },
    {
     "name": "stderr",
     "output_type": "stream",
     "text": [
      "/Users/nbokulich/Desktop/projects/RESCRIPt/rescript/evaluate.py:67: UserWarning: The lists of input taxonomies and labels are different lengths. Additional taxonomies will be labeled numerically by their order in the inputs. Note that if these numbers equal any existing labels, those data will be grouped in the visualization.\n",
      "  warnings.warn(msg, UserWarning)\n"
     ]
    },
    {
     "name": "stdout",
     "output_type": "stream",
     "text": [
      "Evaluation: 3.09s\n",
      "Total Runtime: 3066.08s\n",
      "gg_99\n",
      "Validation: 13.18s\n"
     ]
    },
    {
     "name": "stderr",
     "output_type": "stream",
     "text": [
      "/Users/nbokulich/Desktop/projects/q2-feature-classifier/q2_feature_classifier/classifier.py:102: UserWarning: The TaxonomicClassifier artifact that results from this method was trained using scikit-learn version 0.22.1. It cannot be used with other versions of scikit-learn. (While the classifier may complete successfully, the results will be unreliable.)\n",
      "  warnings.warn(warning, UserWarning)\n"
     ]
    },
    {
     "name": "stdout",
     "output_type": "stream",
     "text": [
      "Training: 1446.73s\n",
      "Classification: 5906.85s\n"
     ]
    },
    {
     "name": "stderr",
     "output_type": "stream",
     "text": [
      "/Users/nbokulich/Desktop/projects/RESCRIPt/rescript/evaluate.py:67: UserWarning: The lists of input taxonomies and labels are different lengths. Additional taxonomies will be labeled numerically by their order in the inputs. Note that if these numbers equal any existing labels, those data will be grouped in the visualization.\n",
      "  warnings.warn(msg, UserWarning)\n"
     ]
    },
    {
     "name": "stdout",
     "output_type": "stream",
     "text": [
      "Evaluation: 7.11s\n",
      "Total Runtime: 7373.87s\n"
     ]
    }
   ],
   "source": [
    "# \"Perfect\" classifier, no cross-validation\n",
    "times_nocv = {}\n",
    "for n, v in dbs.items():\n",
    "    s, t = v['seqs'], v['taxa']\n",
    "    print(n)\n",
    "    obs_taxa_fp = '../data/observed/{0}_observed_taxonomy_noCV.qza'.format(n)\n",
    "    exp_taxa_fp = '../data/expected/{0}_expected_taxonomy_noCV.qza'.format(n)\n",
    "    if not os.path.exists(exp_taxa_fp):\n",
    "        start = timeit.default_timer()\n",
    "        _, _, obs, = rescript.actions.evaluate_fit_classifier(s, t, n_jobs=n_jobs)\n",
    "        times_nocv[n] = timeit.default_timer() - start\n",
    "        obs.save(obs_taxa_fp)\n",
    "        t.save(exp_taxa_fp)\n"
   ]
  },
  {
   "cell_type": "code",
   "execution_count": 6,
   "metadata": {},
   "outputs": [],
   "source": [
    "exp_taxonomies = {os.path.splitext(os.path.basename(fp))[0].replace('_expected_taxonomy', ''): \n",
    "                  q2.Artifact.load(fp) for fp in glob('../data/expected/*')}\n",
    "obs_taxonomies = {os.path.splitext(os.path.basename(fp))[0].replace('_observed_taxonomy', ''): \n",
    "                  q2.Artifact.load(fp) for fp in glob('../data/observed/*')}\n"
   ]
  },
  {
   "cell_type": "markdown",
   "metadata": {},
   "source": [
    "# Evaluate Classification Accuracy"
   ]
  },
  {
   "cell_type": "code",
   "execution_count": 11,
   "metadata": {},
   "outputs": [
    {
     "data": {
      "text/plain": [
       "'../data/eval/gg_otu_cluster_eval.qzv'"
      ]
     },
     "execution_count": 11,
     "metadata": {},
     "output_type": "execute_result"
    }
   ],
   "source": [
    "class_eval, = rescript.actions.evaluate_classifications(\n",
    "    expected_taxonomies = [exp_taxonomies[i] for i in sorted(exp_taxonomies.keys())],\n",
    "    observed_taxonomies = [obs_taxonomies[i] for i in sorted(obs_taxonomies.keys())],\n",
    "    labels = sorted(obs_taxonomies.keys()))\n",
    "class_eval.save('../data/eval/gg_otu_cluster_classification_eval.qzv')"
   ]
  },
  {
   "cell_type": "markdown",
   "metadata": {},
   "source": [
    "# Evaluate Taxonomic Information"
   ]
  },
  {
   "cell_type": "code",
   "execution_count": 18,
   "metadata": {},
   "outputs": [
    {
     "data": {
      "text/plain": [
       "'../data/eval/gg_otu_cluster_taxonomic_eval_dropemptyranks.qzv'"
      ]
     },
     "execution_count": 18,
     "metadata": {},
     "output_type": "execute_result"
    }
   ],
   "source": [
    "tax_eval, = rescript.actions.evaluate_taxonomy(\n",
    "    taxonomies = [dbs[i]['taxa'] for i in sorted(dbs.keys())],\n",
    "    labels = sorted(dbs.keys()))\n",
    "tax_eval.save('../data/eval/gg_otu_cluster_taxonomic_eval.qzv')\n",
    "tax_eval, = rescript.actions.evaluate_taxonomy(\n",
    "    taxonomies = [dbs[i]['taxa'] for i in sorted(dbs.keys())],\n",
    "    labels = sorted(dbs.keys()),\n",
    "    rank_handle_regex=\"^[dkpcofgs]__\")\n",
    "tax_eval.save('../data/eval/gg_otu_cluster_taxonomic_eval_dropemptyranks.qzv')"
   ]
  },
  {
   "cell_type": "code",
   "execution_count": null,
   "metadata": {},
   "outputs": [],
   "source": []
  }
 ],
 "metadata": {
  "kernelspec": {
   "display_name": "Python 3",
   "language": "python",
   "name": "python3"
  },
  "language_info": {
   "codemirror_mode": {
    "name": "ipython",
    "version": 3
   },
   "file_extension": ".py",
   "mimetype": "text/x-python",
   "name": "python",
   "nbconvert_exporter": "python",
   "pygments_lexer": "ipython3",
   "version": "3.6.10"
  }
 },
 "nbformat": 4,
 "nbformat_minor": 2
}
