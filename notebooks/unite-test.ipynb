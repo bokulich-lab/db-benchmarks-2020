{
 "cells": [
  {
   "cell_type": "markdown",
   "metadata": {},
   "source": [
    "# UNITE database Benchmark\n",
    "\n",
    "This notebook tests the effects of different database versions on taxonomic information and classification accuracy, using the UNITE fungal ITS reference database."
   ]
  },
  {
   "cell_type": "code",
   "execution_count": 1,
   "metadata": {},
   "outputs": [],
   "source": [
    "import os\n",
    "import qiime2 as q2\n",
    "from qiime2.plugins import rescript, feature_table as ft, taxa as q2t\n",
    "import pandas as pd\n",
    "from glob import glob\n",
    "import timeit\n",
    "from rescript.cross_validate import _check_time\n",
    "import tempfile\n",
    "from glob import glob\n",
    "import seaborn as sns\n",
    "from matplotlib import pyplot as plt\n",
    "\n",
    "pd.set_option('max_colwidth', 0)\n",
    "\n",
    "%matplotlib inline"
   ]
  },
  {
   "cell_type": "markdown",
   "metadata": {},
   "source": [
    "# Define inputs\n",
    "\n",
    "Modify the filepaths here to your local filepaths to run this notebook.\n",
    "The filepaths below merely point to the sequence and taxonomy files for the UNITE Feb 2020 release, clustered at different OTU % similarities and versions.\n",
    "\n",
    "UNITE files can be downloaded and unzipped from here:\n",
    "\n",
    "* https://plutof.ut.ee/#/datacite/10.15156/BIO/786385\n",
    "* https://plutof.ut.ee/#/datacite/10.15156/BIO/786386\n",
    "\n",
    "**DO NOT MODIFY ANY OTHER CELLS IN THIS NOTEBOOK IF YOU ARE ATTEMPTING TO REPLICATE THESE RESULTS**"
   ]
  },
  {
   "cell_type": "code",
   "execution_count": 2,
   "metadata": {},
   "outputs": [],
   "source": [
    "# N jobs to use\n",
    "n_jobs = 2\n",
    "reads_per_batch = 5000\n",
    "\n",
    "# location of reference database files\n",
    "dbdir = '../../../ref_dbs/unite_02022019/'\n",
    "alldir = '../../../ref_dbs/sh_qiime_release_s_all_04.02.2020/'\n",
    "dbs = {\n",
    "    'unite_{0}'.format(n): {\n",
    "        'seqs': q2.Artifact.import_data(\n",
    "            'FeatureData[Sequence]', dbdir + 'sh_refs_qiime_ver8_{0}_02.02.2019.fasta'.format(n)),\n",
    "        'taxa': q2.Artifact.import_data(\n",
    "            'FeatureData[Taxonomy]', dbdir + 'sh_taxonomy_qiime_ver8_{0}_02.02.2019.txt'.format(n),\n",
    "            view_type='HeaderlessTSVTaxonomyFormat')}\n",
    "    for n in ['97', '99', 'dynamic']}\n",
    "dbs.update({\n",
    "    'unite_2020_all_{0}'.format(n): {\n",
    "        'seqs': q2.Artifact.import_data(\n",
    "            'FeatureData[Sequence]', alldir + 'sh_refs_qiime_ver8_{0}_s_all_04.02.2020.fasta'.format(n)),\n",
    "        'taxa': q2.Artifact.import_data(\n",
    "            'FeatureData[Taxonomy]', alldir + 'sh_taxonomy_qiime_ver8_{0}_s_all_04.02.2020.txt'.format(n),\n",
    "            view_type='HeaderlessTSVTaxonomyFormat')}\n",
    "    for n in ['97', '99', 'dynamic']})"
   ]
  },
  {
   "cell_type": "code",
   "execution_count": 3,
   "metadata": {},
   "outputs": [],
   "source": [
    "# drop singleton kingdoms\n",
    "exclude = 'k__Bacteria,k__Chromista,k__Filasteriae,k__Nucleariae,k__Telonemae'\n",
    "for n in ['97', '99', 'dynamic']:\n",
    "    clean_taxa = dbs['unite_2020_all_' + n]['taxa'].view(pd.DataFrame)\n",
    "    clean_taxa = clean_taxa[~clean_taxa.Taxon.str.contains(exclude.replace(',', '|'))]\n",
    "    filtered_sequences, = q2t.actions.filter_seqs(\n",
    "            sequences=dbs['unite_2020_all_' + n]['seqs'],\n",
    "            taxonomy=dbs['unite_2020_all_' + n]['taxa'],\n",
    "            exclude=exclude)\n",
    "    dbs['unite_2020_all_{0}'.format(n)] = {\n",
    "        'seqs': filtered_sequences,\n",
    "        'taxa': q2.Artifact.import_data('FeatureData[Taxonomy]', clean_taxa)}\n",
    "# fungi only\n",
    "include = 'k__Fungi'\n",
    "for n in ['97', '99', 'dynamic']:\n",
    "    clean_taxa = dbs['unite_2020_all_' + n]['taxa'].view(pd.DataFrame)\n",
    "    clean_taxa = clean_taxa[clean_taxa.Taxon.str.contains(include.replace(',', '|'))]\n",
    "    filtered_sequences, = q2t.actions.filter_seqs(\n",
    "            sequences=dbs['unite_2020_all_' + n]['seqs'],\n",
    "            taxonomy=dbs['unite_2020_all_' + n]['taxa'],\n",
    "            include=include)\n",
    "    dbs['unite_2020_all_fungi_{0}'.format(n)] = {\n",
    "        'seqs': filtered_sequences,\n",
    "        'taxa': q2.Artifact.import_data('FeatureData[Taxonomy]', clean_taxa)}\n",
    "# exclude anything not identified to order level\n",
    "exclude = 'o__unidentified'\n",
    "for n in ['97', '99', 'dynamic']:\n",
    "    clean_taxa = dbs['unite_2020_all_fungi_' + n]['taxa'].view(pd.DataFrame)\n",
    "    clean_taxa = clean_taxa[~clean_taxa.Taxon.str.contains(exclude)]\n",
    "    filtered_sequences, = ft.actions.filter_seqs(\n",
    "            data=dbs['unite_2020_all_fungi_' + n]['seqs'],\n",
    "            metadata=q2.Metadata(clean_taxa))\n",
    "    dbs['unite_2020_clean_{0}'.format(n)] = {\n",
    "        'seqs': filtered_sequences,\n",
    "        'taxa': q2.Artifact.import_data('FeatureData[Taxonomy]', clean_taxa)}\n"
   ]
  },
  {
   "cell_type": "markdown",
   "metadata": {},
   "source": [
    "# Perform CV Classification\n",
    "Both k-fold and \"perfect classifiers\" (no CV, leaky data, best possible performance)"
   ]
  },
  {
   "cell_type": "code",
   "execution_count": 39,
   "metadata": {
    "collapsed": true
   },
   "outputs": [
    {
     "name": "stdout",
     "output_type": "stream",
     "text": [
      "unite_97\n",
      "unite_99\n",
      "unite_dynamic\n",
      "unite_2020_all_97\n",
      "unite_2020_all_99\n",
      "unite_2020_all_dynamic\n",
      "unite_2020_clean_97\n",
      "unite_2020_clean_99\n",
      "unite_2020_clean_dynamic\n",
      "unite_2020_all_fungi_97\n",
      "Validation: 4.32s\n"
     ]
    },
    {
     "name": "stderr",
     "output_type": "stream",
     "text": [
      "/Users/nbokulich/miniconda3/envs/qiime2-2020.5-dev/lib/python3.6/site-packages/sklearn/model_selection/_split.py:667: UserWarning: The least populated class in y has only 1 members, which is less than n_splits=3.\n",
      "  % (min_groups, self.n_splits)), UserWarning)\n"
     ]
    },
    {
     "name": "stdout",
     "output_type": "stream",
     "text": [
      "Fold 0 split: 8.95s\n"
     ]
    },
    {
     "name": "stderr",
     "output_type": "stream",
     "text": [
      "/Users/nbokulich/Desktop/projects/q2-feature-classifier/q2_feature_classifier/classifier.py:102: UserWarning: The TaxonomicClassifier artifact that results from this method was trained using scikit-learn version 0.22.1. It cannot be used with other versions of scikit-learn. (While the classifier may complete successfully, the results will be unreliable.)\n",
      "  warnings.warn(warning, UserWarning)\n"
     ]
    },
    {
     "name": "stdout",
     "output_type": "stream",
     "text": [
      "Fold 0 fit: 446.50s\n",
      "Fold 0 classify: 1956.60s\n",
      "Fold 1 split: 7.11s\n"
     ]
    },
    {
     "name": "stderr",
     "output_type": "stream",
     "text": [
      "/Users/nbokulich/Desktop/projects/q2-feature-classifier/q2_feature_classifier/classifier.py:102: UserWarning: The TaxonomicClassifier artifact that results from this method was trained using scikit-learn version 0.22.1. It cannot be used with other versions of scikit-learn. (While the classifier may complete successfully, the results will be unreliable.)\n",
      "  warnings.warn(warning, UserWarning)\n"
     ]
    },
    {
     "name": "stdout",
     "output_type": "stream",
     "text": [
      "Fold 1 fit: 467.52s\n",
      "Fold 1 classify: 2040.06s\n",
      "Fold 2 split: 9.69s\n"
     ]
    },
    {
     "name": "stderr",
     "output_type": "stream",
     "text": [
      "/Users/nbokulich/Desktop/projects/q2-feature-classifier/q2_feature_classifier/classifier.py:102: UserWarning: The TaxonomicClassifier artifact that results from this method was trained using scikit-learn version 0.22.1. It cannot be used with other versions of scikit-learn. (While the classifier may complete successfully, the results will be unreliable.)\n",
      "  warnings.warn(warning, UserWarning)\n"
     ]
    },
    {
     "name": "stdout",
     "output_type": "stream",
     "text": [
      "Fold 2 fit: 480.49s\n",
      "Fold 2 classify: 2084.77s\n",
      "Total Runtime: 7508.20s\n",
      "unite_2020_all_fungi_99\n",
      "Validation: 5.09s\n"
     ]
    },
    {
     "name": "stderr",
     "output_type": "stream",
     "text": [
      "/Users/nbokulich/miniconda3/envs/qiime2-2020.5-dev/lib/python3.6/site-packages/sklearn/model_selection/_split.py:667: UserWarning: The least populated class in y has only 1 members, which is less than n_splits=3.\n",
      "  % (min_groups, self.n_splits)), UserWarning)\n"
     ]
    },
    {
     "name": "stdout",
     "output_type": "stream",
     "text": [
      "Fold 0 split: 11.01s\n"
     ]
    },
    {
     "name": "stderr",
     "output_type": "stream",
     "text": [
      "/Users/nbokulich/Desktop/projects/q2-feature-classifier/q2_feature_classifier/classifier.py:102: UserWarning: The TaxonomicClassifier artifact that results from this method was trained using scikit-learn version 0.22.1. It cannot be used with other versions of scikit-learn. (While the classifier may complete successfully, the results will be unreliable.)\n",
      "  warnings.warn(warning, UserWarning)\n"
     ]
    },
    {
     "name": "stdout",
     "output_type": "stream",
     "text": [
      "Fold 0 fit: 635.98s\n",
      "Fold 0 classify: 2551.36s\n",
      "Fold 1 split: 9.04s\n"
     ]
    },
    {
     "name": "stderr",
     "output_type": "stream",
     "text": [
      "/Users/nbokulich/Desktop/projects/q2-feature-classifier/q2_feature_classifier/classifier.py:102: UserWarning: The TaxonomicClassifier artifact that results from this method was trained using scikit-learn version 0.22.1. It cannot be used with other versions of scikit-learn. (While the classifier may complete successfully, the results will be unreliable.)\n",
      "  warnings.warn(warning, UserWarning)\n"
     ]
    },
    {
     "name": "stdout",
     "output_type": "stream",
     "text": [
      "Fold 1 fit: 631.54s\n",
      "Fold 1 classify: 3025.34s\n",
      "Fold 2 split: 8.47s\n"
     ]
    },
    {
     "name": "stderr",
     "output_type": "stream",
     "text": [
      "/Users/nbokulich/Desktop/projects/q2-feature-classifier/q2_feature_classifier/classifier.py:102: UserWarning: The TaxonomicClassifier artifact that results from this method was trained using scikit-learn version 0.22.1. It cannot be used with other versions of scikit-learn. (While the classifier may complete successfully, the results will be unreliable.)\n",
      "  warnings.warn(warning, UserWarning)\n"
     ]
    },
    {
     "name": "stdout",
     "output_type": "stream",
     "text": [
      "Fold 2 fit: 675.10s\n",
      "Fold 2 classify: 3443.25s\n",
      "Total Runtime: 10997.70s\n",
      "unite_2020_all_fungi_dynamic\n",
      "Validation: 5.21s\n"
     ]
    },
    {
     "name": "stderr",
     "output_type": "stream",
     "text": [
      "/Users/nbokulich/miniconda3/envs/qiime2-2020.5-dev/lib/python3.6/site-packages/sklearn/model_selection/_split.py:667: UserWarning: The least populated class in y has only 1 members, which is less than n_splits=3.\n",
      "  % (min_groups, self.n_splits)), UserWarning)\n"
     ]
    },
    {
     "name": "stdout",
     "output_type": "stream",
     "text": [
      "Fold 0 split: 10.62s\n"
     ]
    },
    {
     "name": "stderr",
     "output_type": "stream",
     "text": [
      "/Users/nbokulich/Desktop/projects/q2-feature-classifier/q2_feature_classifier/classifier.py:102: UserWarning: The TaxonomicClassifier artifact that results from this method was trained using scikit-learn version 0.22.1. It cannot be used with other versions of scikit-learn. (While the classifier may complete successfully, the results will be unreliable.)\n",
      "  warnings.warn(warning, UserWarning)\n"
     ]
    },
    {
     "name": "stdout",
     "output_type": "stream",
     "text": [
      "Fold 0 fit: 661.51s\n",
      "Fold 0 classify: 2452.64s\n",
      "Fold 1 split: 7.81s\n"
     ]
    },
    {
     "name": "stderr",
     "output_type": "stream",
     "text": [
      "/Users/nbokulich/Desktop/projects/q2-feature-classifier/q2_feature_classifier/classifier.py:102: UserWarning: The TaxonomicClassifier artifact that results from this method was trained using scikit-learn version 0.22.1. It cannot be used with other versions of scikit-learn. (While the classifier may complete successfully, the results will be unreliable.)\n",
      "  warnings.warn(warning, UserWarning)\n"
     ]
    },
    {
     "name": "stdout",
     "output_type": "stream",
     "text": [
      "Fold 1 fit: 617.31s\n",
      "Fold 1 classify: 2434.79s\n",
      "Fold 2 split: 7.89s\n"
     ]
    },
    {
     "name": "stderr",
     "output_type": "stream",
     "text": [
      "/Users/nbokulich/Desktop/projects/q2-feature-classifier/q2_feature_classifier/classifier.py:102: UserWarning: The TaxonomicClassifier artifact that results from this method was trained using scikit-learn version 0.22.1. It cannot be used with other versions of scikit-learn. (While the classifier may complete successfully, the results will be unreliable.)\n",
      "  warnings.warn(warning, UserWarning)\n"
     ]
    },
    {
     "name": "stdout",
     "output_type": "stream",
     "text": [
      "Fold 2 fit: 628.64s\n",
      "Fold 2 classify: 2287.79s\n",
      "Total Runtime: 9115.46s\n"
     ]
    }
   ],
   "source": [
    "# Cross-validation\n",
    "times_cv = {}\n",
    "for n, v in dbs.items():\n",
    "    s, t = v['seqs'], v['taxa']\n",
    "    print(n)\n",
    "    exp_taxa_fp = '../data/expected/{0}_expected_taxonomy.qza'.format(n)\n",
    "    if not os.path.exists(exp_taxa_fp):\n",
    "        start = timeit.default_timer()\n",
    "        exp, obs, = rescript.actions.evaluate_cross_validate(\n",
    "            s, t, n_jobs=n_jobs, reads_per_batch=reads_per_batch)\n",
    "        times_cv[n] = timeit.default_timer() - start\n",
    "        exp.save(exp_taxa_fp)\n",
    "        obs.save('../data/observed/{0}_observed_taxonomy.qza'.format(n))"
   ]
  },
  {
   "cell_type": "code",
   "execution_count": 7,
   "metadata": {},
   "outputs": [
    {
     "name": "stdout",
     "output_type": "stream",
     "text": [
      "unite_97\n",
      "unite_99\n",
      "unite_dynamic\n",
      "unite_2020_all_fungi_97\n",
      "Validation: 4.61s\n"
     ]
    },
    {
     "name": "stderr",
     "output_type": "stream",
     "text": [
      "/Users/nbokulich/Desktop/projects/q2-feature-classifier/q2_feature_classifier/classifier.py:102: UserWarning: The TaxonomicClassifier artifact that results from this method was trained using scikit-learn version 0.22.1. It cannot be used with other versions of scikit-learn. (While the classifier may complete successfully, the results will be unreliable.)\n",
      "  warnings.warn(warning, UserWarning)\n"
     ]
    },
    {
     "name": "stdout",
     "output_type": "stream",
     "text": [
      "Training: 895.76s\n",
      "Classification: 8505.33s\n"
     ]
    },
    {
     "name": "stderr",
     "output_type": "stream",
     "text": [
      "/Users/nbokulich/Desktop/projects/RESCRIPt/rescript/evaluate.py:67: UserWarning: The lists of input taxonomies and labels are different lengths. Additional taxonomies will be labeled numerically by their order in the inputs. Note that if these numbers equal any existing labels, those data will be grouped in the visualization.\n",
      "  warnings.warn(msg, UserWarning)\n"
     ]
    },
    {
     "name": "stdout",
     "output_type": "stream",
     "text": [
      "Evaluation: 2.58s\n",
      "Total Runtime: 9408.29s\n",
      "unite_2020_all_fungi_99\n",
      "Validation: 5.24s\n"
     ]
    },
    {
     "name": "stderr",
     "output_type": "stream",
     "text": [
      "/Users/nbokulich/Desktop/projects/q2-feature-classifier/q2_feature_classifier/classifier.py:102: UserWarning: The TaxonomicClassifier artifact that results from this method was trained using scikit-learn version 0.22.1. It cannot be used with other versions of scikit-learn. (While the classifier may complete successfully, the results will be unreliable.)\n",
      "  warnings.warn(warning, UserWarning)\n"
     ]
    },
    {
     "name": "stdout",
     "output_type": "stream",
     "text": [
      "Training: 1164.91s\n",
      "Classification: 12059.92s\n"
     ]
    },
    {
     "name": "stderr",
     "output_type": "stream",
     "text": [
      "/Users/nbokulich/Desktop/projects/RESCRIPt/rescript/evaluate.py:67: UserWarning: The lists of input taxonomies and labels are different lengths. Additional taxonomies will be labeled numerically by their order in the inputs. Note that if these numbers equal any existing labels, those data will be grouped in the visualization.\n",
      "  warnings.warn(msg, UserWarning)\n"
     ]
    },
    {
     "name": "stdout",
     "output_type": "stream",
     "text": [
      "Evaluation: 3.18s\n",
      "Total Runtime: 13233.25s\n",
      "unite_2020_all_fungi_dynamic\n",
      "Validation: 5.25s\n"
     ]
    },
    {
     "name": "stderr",
     "output_type": "stream",
     "text": [
      "/Users/nbokulich/Desktop/projects/q2-feature-classifier/q2_feature_classifier/classifier.py:102: UserWarning: The TaxonomicClassifier artifact that results from this method was trained using scikit-learn version 0.22.1. It cannot be used with other versions of scikit-learn. (While the classifier may complete successfully, the results will be unreliable.)\n",
      "  warnings.warn(warning, UserWarning)\n"
     ]
    },
    {
     "name": "stdout",
     "output_type": "stream",
     "text": [
      "Training: 1233.00s\n",
      "Classification: 12119.73s\n"
     ]
    },
    {
     "name": "stderr",
     "output_type": "stream",
     "text": [
      "/Users/nbokulich/Desktop/projects/RESCRIPt/rescript/evaluate.py:67: UserWarning: The lists of input taxonomies and labels are different lengths. Additional taxonomies will be labeled numerically by their order in the inputs. Note that if these numbers equal any existing labels, those data will be grouped in the visualization.\n",
      "  warnings.warn(msg, UserWarning)\n"
     ]
    },
    {
     "name": "stdout",
     "output_type": "stream",
     "text": [
      "Evaluation: 2.94s\n",
      "Total Runtime: 13360.91s\n",
      "unite_2020_clean_97\n",
      "Validation: 3.93s\n"
     ]
    },
    {
     "name": "stderr",
     "output_type": "stream",
     "text": [
      "/Users/nbokulich/Desktop/projects/q2-feature-classifier/q2_feature_classifier/classifier.py:102: UserWarning: The TaxonomicClassifier artifact that results from this method was trained using scikit-learn version 0.22.1. It cannot be used with other versions of scikit-learn. (While the classifier may complete successfully, the results will be unreliable.)\n",
      "  warnings.warn(warning, UserWarning)\n"
     ]
    },
    {
     "name": "stdout",
     "output_type": "stream",
     "text": [
      "Training: 752.74s\n",
      "Classification: 7538.14s\n"
     ]
    },
    {
     "name": "stderr",
     "output_type": "stream",
     "text": [
      "/Users/nbokulich/Desktop/projects/RESCRIPt/rescript/evaluate.py:67: UserWarning: The lists of input taxonomies and labels are different lengths. Additional taxonomies will be labeled numerically by their order in the inputs. Note that if these numbers equal any existing labels, those data will be grouped in the visualization.\n",
      "  warnings.warn(msg, UserWarning)\n"
     ]
    },
    {
     "name": "stdout",
     "output_type": "stream",
     "text": [
      "Evaluation: 2.60s\n",
      "Total Runtime: 8297.40s\n",
      "unite_2020_clean_99\n",
      "Validation: 5.13s\n"
     ]
    },
    {
     "name": "stderr",
     "output_type": "stream",
     "text": [
      "/Users/nbokulich/Desktop/projects/q2-feature-classifier/q2_feature_classifier/classifier.py:102: UserWarning: The TaxonomicClassifier artifact that results from this method was trained using scikit-learn version 0.22.1. It cannot be used with other versions of scikit-learn. (While the classifier may complete successfully, the results will be unreliable.)\n",
      "  warnings.warn(warning, UserWarning)\n"
     ]
    },
    {
     "name": "stdout",
     "output_type": "stream",
     "text": [
      "Training: 1110.62s\n",
      "Classification: 10919.53s\n"
     ]
    },
    {
     "name": "stderr",
     "output_type": "stream",
     "text": [
      "/Users/nbokulich/Desktop/projects/RESCRIPt/rescript/evaluate.py:67: UserWarning: The lists of input taxonomies and labels are different lengths. Additional taxonomies will be labeled numerically by their order in the inputs. Note that if these numbers equal any existing labels, those data will be grouped in the visualization.\n",
      "  warnings.warn(msg, UserWarning)\n"
     ]
    },
    {
     "name": "stdout",
     "output_type": "stream",
     "text": [
      "Evaluation: 3.18s\n",
      "Total Runtime: 12038.47s\n",
      "unite_2020_clean_dynamic\n",
      "Validation: 4.74s\n"
     ]
    },
    {
     "name": "stderr",
     "output_type": "stream",
     "text": [
      "/Users/nbokulich/Desktop/projects/q2-feature-classifier/q2_feature_classifier/classifier.py:102: UserWarning: The TaxonomicClassifier artifact that results from this method was trained using scikit-learn version 0.22.1. It cannot be used with other versions of scikit-learn. (While the classifier may complete successfully, the results will be unreliable.)\n",
      "  warnings.warn(warning, UserWarning)\n"
     ]
    },
    {
     "name": "stdout",
     "output_type": "stream",
     "text": [
      "Training: 1104.07s\n",
      "Classification: 11523.38s\n"
     ]
    },
    {
     "name": "stderr",
     "output_type": "stream",
     "text": [
      "/Users/nbokulich/Desktop/projects/RESCRIPt/rescript/evaluate.py:67: UserWarning: The lists of input taxonomies and labels are different lengths. Additional taxonomies will be labeled numerically by their order in the inputs. Note that if these numbers equal any existing labels, those data will be grouped in the visualization.\n",
      "  warnings.warn(msg, UserWarning)\n"
     ]
    },
    {
     "name": "stdout",
     "output_type": "stream",
     "text": [
      "Evaluation: 2.98s\n",
      "Total Runtime: 12635.18s\n"
     ]
    }
   ],
   "source": [
    "# \"Perfect\" classifier, no cross-validation\n",
    "times_nocv = {}\n",
    "for n, v in dbs.items():\n",
    "    if n not in ['unite_2020_all_97', 'unite_2020_all_99', 'unite_2020_all_dynamic']:\n",
    "        s, t = v['seqs'], v['taxa']\n",
    "        print(n)\n",
    "        classifier_fp = '../data/classifiers/{0}_nb_classifier.qza'.format(n)\n",
    "        obs_taxa_fp = '../data/observed/{0}_observed_taxonomy_noCV.qza'.format(n)\n",
    "        exp_taxa_fp = '../data/expected/{0}_expected_taxonomy_noCV.qza'.format(n)\n",
    "        if not os.path.exists(exp_taxa_fp):\n",
    "            start = timeit.default_timer()\n",
    "            classifier, _, obs, = rescript.actions.evaluate_fit_classifier(\n",
    "                s, t, n_jobs=n_jobs, reads_per_batch=reads_per_batch)\n",
    "            times_nocv[n] = timeit.default_timer() - start\n",
    "            classifier.save(classifier_fp)\n",
    "            obs.save(obs_taxa_fp)\n",
    "            t.save(exp_taxa_fp)\n"
   ]
  },
  {
   "cell_type": "code",
   "execution_count": 8,
   "metadata": {},
   "outputs": [],
   "source": [
    "exp_taxonomies = {os.path.splitext(os.path.basename(fp))[0].replace('_expected_taxonomy', ''): \n",
    "                  q2.Artifact.load(fp) for fp in glob('../data/expected/unite_*')}\n",
    "obs_taxonomies = {os.path.splitext(os.path.basename(fp))[0].replace('_observed_taxonomy', ''): \n",
    "                  q2.Artifact.load(fp) for fp in glob('../data/observed/unite_*')}\n"
   ]
  },
  {
   "cell_type": "markdown",
   "metadata": {},
   "source": [
    "# Evaluate Classification Accuracy"
   ]
  },
  {
   "cell_type": "code",
   "execution_count": 9,
   "metadata": {},
   "outputs": [
    {
     "data": {
      "text/plain": [
       "'../data/eval/unite_fungi_classification_eval.qzv'"
      ]
     },
     "execution_count": 9,
     "metadata": {},
     "output_type": "execute_result"
    }
   ],
   "source": [
    "class_eval, = rescript.actions.evaluate_classifications(\n",
    "    expected_taxonomies = [exp_taxonomies[i] for i in sorted(exp_taxonomies.keys())],\n",
    "    observed_taxonomies = [obs_taxonomies[i] for i in sorted(obs_taxonomies.keys())],\n",
    "    labels = sorted(obs_taxonomies.keys()))\n",
    "class_eval.save('../data/eval/unite_fungi_classification_eval.qzv')"
   ]
  },
  {
   "cell_type": "markdown",
   "metadata": {},
   "source": [
    "# Evaluate Taxonomic Information"
   ]
  },
  {
   "cell_type": "code",
   "execution_count": 4,
   "metadata": {},
   "outputs": [
    {
     "data": {
      "text/plain": [
       "'../data/eval/unite_fungi_taxonomic_eval_dropemptyranks.qzv'"
      ]
     },
     "execution_count": 4,
     "metadata": {},
     "output_type": "execute_result"
    }
   ],
   "source": [
    "tax_eval, = rescript.actions.evaluate_taxonomy(\n",
    "    taxonomies = [dbs[i]['taxa'] for i in sorted(dbs.keys())],\n",
    "    labels = sorted(dbs.keys()))\n",
    "tax_eval.save('../data/eval/unite_fungi_taxonomic_eval.qzv')\n",
    "tax_eval, = rescript.actions.evaluate_taxonomy(\n",
    "    taxonomies = [dbs[i]['taxa'] for i in sorted(dbs.keys())],\n",
    "    labels = sorted(dbs.keys()),\n",
    "    rank_handle_regex=\"^[dkpcofgs]__unidentified\")\n",
    "tax_eval.save('../data/eval/unite_fungi_taxonomic_eval_dropemptyranks.qzv')"
   ]
  },
  {
   "cell_type": "markdown",
   "metadata": {},
   "source": [
    "# Evaluate Sequence Information"
   ]
  },
  {
   "cell_type": "code",
   "execution_count": 10,
   "metadata": {},
   "outputs": [],
   "source": [
    "relabels = {\n",
    "    'unite_2020_all_97': 'All Euks 97%',\n",
    "    'unite_2020_all_97_noCV': 'All Euks 97% No CV',\n",
    "    'unite_2020_all_99': 'All Euks 99%',\n",
    "    'unite_2020_all_dynamic': 'All Euks Dynamic',\n",
    "    'unite_2020_all_fungi_97': 'Fungi 97%',\n",
    "    'unite_2020_all_fungi_97_noCV': 'Fungi 97% No CV',\n",
    "    'unite_2020_all_fungi_99': 'Fungi 99%',\n",
    "    'unite_2020_all_fungi_99_noCV': 'Fungi 99% No CV',\n",
    "    'unite_2020_all_fungi_dynamic': 'Fungi Dynamic',\n",
    "    'unite_2020_all_fungi_dynamic_noCV': 'Fungi Dynamic No CV',\n",
    "    'unite_2020_clean_97': 'Fungi Order 97%',\n",
    "    'unite_2020_clean_97_noCV': 'Fungi Order 97% No CV',\n",
    "    'unite_2020_clean_99': 'Fungi Order 99%',\n",
    "    'unite_2020_clean_99_noCV': 'Fungi Order 99% No CV',\n",
    "    'unite_2020_clean_dynamic': 'Fungi Order Dynamic',\n",
    "    'unite_2020_clean_dynamic_noCV': 'Fungi Order Dynamic No CV',\n",
    "    'unite_97': 'drop',\n",
    "    'unite_97_noCV': 'drop',\n",
    "    'unite_99': 'drop',\n",
    "    'unite_99_noCV': 'drop',\n",
    "    'unite_dynamic': 'drop',\n",
    "    'unite_dynamic_noCV': 'drop'}\n",
    "cv_labels = [i for i in relabels.values() if 'CV' not in i and i != 'drop']\n",
    "nocv_labels = [i for i in relabels.values() if 'CV' in i]\n"
   ]
  },
  {
   "cell_type": "code",
   "execution_count": 14,
   "metadata": {},
   "outputs": [
    {
     "data": {
      "text/plain": [
       "'../data/eval/unite_fungi_seqs_eval.qzv'"
      ]
     },
     "execution_count": 14,
     "metadata": {},
     "output_type": "execute_result"
    }
   ],
   "source": [
    "seqs_eval, = rescript.actions.evaluate_seqs(\n",
    "    sequences = [dbs[i]['seqs'] for i in sorted(dbs.keys()) if relabels[i] != 'drop'],\n",
    "    labels = [relabels[i] for i in sorted(dbs.keys()) if relabels[i] != 'drop'],\n",
    "    palette = 'cividis')\n",
    "seqs_eval.save('../data/eval/unite_fungi_seqs_eval.qzv')\n"
   ]
  },
  {
   "cell_type": "markdown",
   "metadata": {},
   "source": [
    "# Make a pretty figure\n",
    "\n",
    "The interactive figs are great, but we need to generate a static figure for publication :("
   ]
  },
  {
   "cell_type": "code",
   "execution_count": 5,
   "metadata": {},
   "outputs": [],
   "source": [
    "fig_data = dict()\n",
    "with tempfile.TemporaryDirectory() as temp_dir_name:\n",
    "    for f in glob('../data/eval/unite_*.qzv'):\n",
    "        name = f.split('/')[-1].split('.qzv')[0]\n",
    "        f = q2.Visualization.load(f)\n",
    "        f.export_data(temp_dir_name)\n",
    "        fig_data[name] = q2.Metadata.load(temp_dir_name + '/data.tsv').to_dataframe()\n"
   ]
  },
  {
   "cell_type": "code",
   "execution_count": 7,
   "metadata": {},
   "outputs": [
    {
     "data": {
      "image/png": "[encoded data removed]",
      "text/plain": [
       "<Figure size 864x432 with 5 Axes>"
      ]
     },
     "metadata": {
      "needs_background": "light"
     },
     "output_type": "display_data"
    }
   ],
   "source": [
    "plot_keys = ['unite_fungi_taxonomic_eval',\n",
    "             'unite_fungi_taxonomic_eval',\n",
    "             'unite_fungi_taxonomic_eval_dropemptyranks',\n",
    "             'unite_fungi_classification_eval',\n",
    "             'unite_fungi_classification_eval']\n",
    "signals = ['Unique Labels',\n",
    "           'Taxonomic Entropy',\n",
    "           'Proportion of Features Terminating at Depth',\n",
    "           'F-Measure',\n",
    "           'F-Measure']\n",
    "labels = list('ABCDEF')\n",
    "\n",
    "fig, axes = plt.subplots(2, 3, figsize=(12, 6), sharex=False)\n",
    "axes = axes.flatten()\n",
    "axes[-1].remove()\n",
    "for ax, key, signal, label in zip(axes, plot_keys, signals, labels):\n",
    "    ax.text(-0.1, 1.1, label, transform=ax.transAxes,\n",
    "            fontsize=16, fontweight='bold', va='top', ha='right')\n",
    "    dat = fig_data[key].copy()\n",
    "    dat.loc[:, 'Dataset'] = dat.loc[:, 'Dataset'].replace(relabels)\n",
    "    dat = dat[dat['Dataset'] != 'drop']\n",
    "    dat['Level'] = dat['Level'].replace({\n",
    "        1: 'K', 2: 'P', 3: 'C', 4: 'O',\n",
    "        5: 'F', 6: 'G', 7: 'S'})\n",
    "    if ax == axes[3]:\n",
    "        dat = dat[dat['Dataset'].isin(nocv_labels)]\n",
    "        # create empty rows for consistent colors/label ordering\n",
    "        # did not run All Euks 99% or dynamic with no CV\n",
    "        # due to high runtime and similarity to 97% results in other tests\n",
    "        dat.loc['998', 'Dataset'] = 'All Euks 99% No CV'\n",
    "        dat.loc['999', 'Dataset'] = 'All Euks Dynamic No CV'\n",
    "    if ax == axes[4]:\n",
    "        dat = dat[dat['Dataset'].isin(cv_labels)]\n",
    "        legend = 'brief'\n",
    "    else:\n",
    "        legend = False\n",
    "    g = sns.lineplot(x='Level', y=signal, hue='Dataset', data=dat, ax=ax,\n",
    "                     legend=legend, palette='cividis', sort=False,\n",
    "                     hue_order=sorted(dat.Dataset.unique()))\n",
    "    if ax == axes[2]:\n",
    "        ax.set_ylabel('Terminal Labels')\n",
    "    if ax == axes[4]:\n",
    "        ax.legend(bbox_to_anchor=(1.1, 1.05))\n",
    "    else:\n",
    "        ax.set_xlabel('')\n",
    "fig.savefig('../data/plots/unite_evaluation.pdf', bbox_inches='tight')\n"
   ]
  },
  {
   "cell_type": "markdown",
   "metadata": {},
   "source": [
    "Fig XXX. Taxonomic information (A-C) and classification accuracy (D-E) of UNITE ITS domain database with different filtering and clustering settings. Filtered versions include the \"all Eukaryotes\" 2020.04.02 release version containing all Eukaryotes (\"All Euks\"), filtered to contain only Fungi, and filtered to contain only Fungi with at least order-level taxonomic annotation (\"Fungi Order\"). Cluster levels indicate which UNITE release version was used: sequences clustered at 97% similarity, 99% similarity, or the UNITE \"dynamic\" species hypothesis threshold. Subpanels show taxonomic/classification characteristics at each taxonomic level: A, Number of unique taxonomic labels; B, Taxonomic entropy; C, proportion of taxa that terminate at that level; D, optimal classification accuracy (as F-Measure) without cross-validation (simulating best possible classification accuracy when the true label is known but classification accuracy may be confounded by other similar hits in the database); E, classification accuracy (F-Measure) with cross-validation (simulating realistic classification tasks when the correct label is unknown). Level labels on x-axis: K = Kingdom, P = phylum, C = class, O = order, F = family, G = genus, S = species. See Materials and Methods for more details on how these databases were created and processed. From among the three \"All Euks\" databases tested, only the 97% OTUs were classified without cross-validation (panel D) due to the "
   ]
  },
  {
   "cell_type": "code",
   "execution_count": null,
   "metadata": {},
   "outputs": [],
   "source": []
  }
 ],
 "metadata": {
  "kernelspec": {
   "display_name": "Python 3",
   "language": "python",
   "name": "python3"
  },
  "language_info": {
   "codemirror_mode": {
    "name": "ipython",
    "version": 3
   },
   "file_extension": ".py",
   "mimetype": "text/x-python",
   "name": "python",
   "nbconvert_exporter": "python",
   "pygments_lexer": "ipython3",
   "version": "3.6.10"
  }
 },
 "nbformat": 4,
 "nbformat_minor": 4
}
