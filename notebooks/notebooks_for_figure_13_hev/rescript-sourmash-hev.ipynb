{
 "cells": [
  {
   "cell_type": "markdown",
   "metadata": {},
   "source": [
    "# HEV genome comparisons within RESCRIPt\n",
    "\n",
    "We'll use [RESCRIPt](https://github.com/bokulich-lab/RESCRIPt) and my repo fork of  [q2-sourmash](https://github.com/mikerobeson/q2-sourmash/), to perform a basic comparison of genomes.\n"
   ]
  },
  {
   "cell_type": "code",
   "execution_count": 1,
   "metadata": {},
   "outputs": [],
   "source": [
    "import os\n",
    "import qiime2 as q2\n",
    "import pandas as pd\n",
    "import numpy as np\n",
    "import seaborn as sns\n",
    "import matplotlib.pyplot as plt\n",
    "import skbio\n",
    "from q2_types.feature_data import DNAIterator, DNAFASTAFormat\n",
    "from qiime2.plugins import rescript, sample_classifier as sc, diversity as q2d, sourmash as sour, emperor\n",
    "import_data = q2.Artifact.import_data\n",
    "%matplotlib inline"
   ]
  },
  {
   "cell_type": "markdown",
   "metadata": {},
   "source": [
    "# Get Genomes\n",
    "\n",
    "Grab *Hapatitis E Virus* available at: https://www.ncbi.nlm.nih.gov/labs/virus/vssi/#/virus?SeqType_s=Nucleotide&Completeness_s=complete&VirusLineage_ss=Hepatitis%20E%20virus,%20taxid:12461\n",
    "\n",
    "\n",
    "I removed data with few representatives and only looked at humans."
   ]
  },
  {
   "cell_type": "code",
   "execution_count": 2,
   "metadata": {},
   "outputs": [],
   "source": [
    "accessions = q2.Metadata.load('human-md.txt')"
   ]
  },
  {
   "cell_type": "code",
   "execution_count": 3,
   "metadata": {},
   "outputs": [],
   "source": [
    "seqs, tax, = rescript.actions.get_ncbi_data(\n",
    "    accession_ids=accessions,\n",
    "    rank_propagation=False,\n",
    "    n_jobs=4)"
   ]
  },
  {
   "cell_type": "markdown",
   "metadata": {},
   "source": [
    "# Run Sourmash"
   ]
  },
  {
   "cell_type": "code",
   "execution_count": 4,
   "metadata": {},
   "outputs": [],
   "source": [
    "minhash, = sour.actions.compute_fasta(sequence_file=seqs, ksizes=21, scaled=1000)"
   ]
  },
  {
   "cell_type": "code",
   "execution_count": 5,
   "metadata": {},
   "outputs": [],
   "source": [
    "comparison, = sour.actions.compare(minhash, ksize=21)"
   ]
  },
  {
   "cell_type": "markdown",
   "metadata": {},
   "source": [
    "# Diversity analysis and source prediction"
   ]
  },
  {
   "cell_type": "code",
   "execution_count": 6,
   "metadata": {},
   "outputs": [
    {
     "name": "stderr",
     "output_type": "stream",
     "text": [
      "/Users/mike/AnalysisSoftware/miniconda3/envs/qiime2-2020.8-test/lib/python3.6/site-packages/skbio/stats/ordination/_principal_coordinate_analysis.py:152: RuntimeWarning: The result contains negative eigenvalues. Please compare their magnitude with the magnitude of some of the largest positive eigenvalues. If the negative ones are smaller, it's probably safe to ignore them, but if they are large in magnitude, the results won't be useful. See the Notes section for more details. The smallest eigenvalue is -0.06360644880390402 and the largest is 8.812219319111529.\n",
      "  RuntimeWarning\n"
     ]
    },
    {
     "data": {
      "text/plain": [
       "'emperor-plot.qzv'"
      ]
     },
     "execution_count": 6,
     "metadata": {},
     "output_type": "execute_result"
    }
   ],
   "source": [
    "pcs, = q2d.actions.pcoa(comparison)\n",
    "pcplot, = emperor.actions.plot(pcs, metadata=accessions)\n",
    "pcplot.save('emperor-plot.qzv')"
   ]
  },
  {
   "cell_type": "code",
   "execution_count": 7,
   "metadata": {
    "scrolled": true
   },
   "outputs": [
    {
     "data": {
      "text/html": [
       "<div><img onload=\"(function(div, url){\n",
       "if (typeof require !== 'undefined') {\n",
       "    var baseURL = require.toUrl('').split('/').slice(0, -2).join('/');\n",
       "} else {\n",
       "    var baseURL = JSON.parse(\n",
       "        document.getElementById('jupyter-config-data').innerHTML\n",
       "    ).baseUrl.slice(0, -1);\n",
       "}\n",
       "url = baseURL + url;\n",
       "fetch(url).then(function(res) {\n",
       "    if (res.status === 404) {\n",
       "        div.innerHTML = 'Install QIIME 2 Jupyter extension with:<br />' +\n",
       "                        '<code>jupyter serverextension enable --py qiime2' +\n",
       "                        ' --sys-prefix</code><br />then restart your server.' +\n",
       "                        '<br /><br />(Interactive output not available on ' +\n",
       "                        'static notebook viewer services like nbviewer.)';\n",
       "    } else if (res.status === 409) {\n",
       "        div.innerHTML = 'Visualization no longer in scope. Re-run this cell' +\n",
       "                        ' to see the visualization.';\n",
       "    } else if (res.ok) {\n",
       "        url = res.url;\n",
       "        div.innerHTML = '<iframe src=\\'' + url + '\\' style=\\'' +\n",
       "                        'width: 100%; height: 700px; border: 0;\\'>' +\n",
       "                        '</iframe><hr />Open in a: <a href=\\'' + url + '\\'' +\n",
       "                        ' target=\\'_blank\\'>new window</a>'\n",
       "    } else {\n",
       "        div.innerHTML = 'Something has gone wrong. Check notebook server for' +\n",
       "                        ' errors.';\n",
       "    }\n",
       "});\n",
       "})(this.parentElement, '/qiime2/redirect?location=/var/folders/ph/ms21wvc97pq3_cngx2zwlfy80000gn/T/qiime2-archive-9f3we9qa')\" src=\"data:image/gif;base64,R0lGODlhAQABAIAAAP///wAAACH5BAEAAAAALAAAAAABAAEAAAICRAEAOw==\" /></div>"
      ],
      "text/plain": [
       "<visualization: Visualization uuid: 5b840440-9bcb-4afc-8855-db9633360210>"
      ]
     },
     "execution_count": 7,
     "metadata": {},
     "output_type": "execute_result"
    }
   ],
   "source": [
    "q2.Visualization.load('emperor-plot.qzv')"
   ]
  },
  {
   "cell_type": "code",
   "execution_count": 8,
   "metadata": {},
   "outputs": [
    {
     "data": {
      "text/plain": [
       "<Figure size 432x288 with 0 Axes>"
      ]
     },
     "metadata": {},
     "output_type": "display_data"
    },
    {
     "data": {
      "image/png": "[encoded data removed]",
      "text/plain": [
       "<Figure size 600x400 with 2 Axes>"
      ]
     },
     "metadata": {},
     "output_type": "display_data"
    }
   ],
   "source": [
    "pred, accuracy, = sc.actions.classify_samples_from_dist(\n",
    "    comparison, metadata=accessions.get_column('Geo_Location_Abbreviation'), k=3)"
   ]
  },
  {
   "cell_type": "code",
   "execution_count": 9,
   "metadata": {},
   "outputs": [
    {
     "data": {
      "text/html": [
       "<div><img onload=\"(function(div, url){\n",
       "if (typeof require !== 'undefined') {\n",
       "    var baseURL = require.toUrl('').split('/').slice(0, -2).join('/');\n",
       "} else {\n",
       "    var baseURL = JSON.parse(\n",
       "        document.getElementById('jupyter-config-data').innerHTML\n",
       "    ).baseUrl.slice(0, -1);\n",
       "}\n",
       "url = baseURL + url;\n",
       "fetch(url).then(function(res) {\n",
       "    if (res.status === 404) {\n",
       "        div.innerHTML = 'Install QIIME 2 Jupyter extension with:<br />' +\n",
       "                        '<code>jupyter serverextension enable --py qiime2' +\n",
       "                        ' --sys-prefix</code><br />then restart your server.' +\n",
       "                        '<br /><br />(Interactive output not available on ' +\n",
       "                        'static notebook viewer services like nbviewer.)';\n",
       "    } else if (res.status === 409) {\n",
       "        div.innerHTML = 'Visualization no longer in scope. Re-run this cell' +\n",
       "                        ' to see the visualization.';\n",
       "    } else if (res.ok) {\n",
       "        url = res.url;\n",
       "        div.innerHTML = '<iframe src=\\'' + url + '\\' style=\\'' +\n",
       "                        'width: 100%; height: 700px; border: 0;\\'>' +\n",
       "                        '</iframe><hr />Open in a: <a href=\\'' + url + '\\'' +\n",
       "                        ' target=\\'_blank\\'>new window</a>'\n",
       "    } else {\n",
       "        div.innerHTML = 'Something has gone wrong. Check notebook server for' +\n",
       "                        ' errors.';\n",
       "    }\n",
       "});\n",
       "})(this.parentElement, '/qiime2/redirect?location=/var/folders/ph/ms21wvc97pq3_cngx2zwlfy80000gn/T/qiime2-archive-v5ly0i09')\" src=\"data:image/gif;base64,R0lGODlhAQABAIAAAP///wAAACH5BAEAAAAALAAAAAABAAEAAAICRAEAOw==\" /></div>"
      ],
      "text/plain": [
       "<visualization: Visualization uuid: 606aba0b-f59d-4ebc-973c-7198fe8bc395>"
      ]
     },
     "execution_count": 9,
     "metadata": {},
     "output_type": "execute_result"
    }
   ],
   "source": [
    "accuracy"
   ]
  },
  {
   "cell_type": "code",
   "execution_count": 10,
   "metadata": {},
   "outputs": [
    {
     "data": {
      "text/plain": [
       "'model_accuracy.qzv'"
      ]
     },
     "execution_count": 10,
     "metadata": {},
     "output_type": "execute_result"
    }
   ],
   "source": [
    "accuracy.save('model_accuracy.qzv')"
   ]
  },
  {
   "cell_type": "markdown",
   "metadata": {},
   "source": [
    "# view distance matrix"
   ]
  },
  {
   "cell_type": "code",
   "execution_count": 11,
   "metadata": {
    "scrolled": true
   },
   "outputs": [
    {
     "data": {
      "text/html": [
       "<div>\n",
       "<style scoped>\n",
       "    .dataframe tbody tr th:only-of-type {\n",
       "        vertical-align: middle;\n",
       "    }\n",
       "\n",
       "    .dataframe tbody tr th {\n",
       "        vertical-align: top;\n",
       "    }\n",
       "\n",
       "    .dataframe thead th {\n",
       "        text-align: right;\n",
       "    }\n",
       "</style>\n",
       "<table border=\"1\" class=\"dataframe\">\n",
       "  <thead>\n",
       "    <tr style=\"text-align: right;\">\n",
       "      <th></th>\n",
       "      <th>DQ459342.1</th>\n",
       "      <th>FJ457024.1</th>\n",
       "      <th>HM439284.1</th>\n",
       "      <th>HQ389543.1</th>\n",
       "      <th>JF443717.1</th>\n",
       "      <th>JF443718.1</th>\n",
       "      <th>JF443719.1</th>\n",
       "      <th>JF443720.1</th>\n",
       "      <th>JF443721.1</th>\n",
       "      <th>JF443722.1</th>\n",
       "      <th>...</th>\n",
       "      <th>MN401237.1</th>\n",
       "      <th>MN401238.1</th>\n",
       "      <th>MN646689.1</th>\n",
       "      <th>MN646690.1</th>\n",
       "      <th>MN646691.1</th>\n",
       "      <th>MN646692.1</th>\n",
       "      <th>MN646693.1</th>\n",
       "      <th>MN646694.1</th>\n",
       "      <th>MN646695.1</th>\n",
       "      <th>MN646696.1</th>\n",
       "    </tr>\n",
       "  </thead>\n",
       "  <tbody>\n",
       "    <tr>\n",
       "      <th>DQ459342.1</th>\n",
       "      <td>0.000000</td>\n",
       "      <td>0.928571</td>\n",
       "      <td>1.0</td>\n",
       "      <td>1.0</td>\n",
       "      <td>0.833333</td>\n",
       "      <td>0.166667</td>\n",
       "      <td>0.444444</td>\n",
       "      <td>0.800000</td>\n",
       "      <td>1.0</td>\n",
       "      <td>1.0</td>\n",
       "      <td>...</td>\n",
       "      <td>1.000000</td>\n",
       "      <td>1.000000</td>\n",
       "      <td>1.000000</td>\n",
       "      <td>1.000000</td>\n",
       "      <td>1.000000</td>\n",
       "      <td>1.000000</td>\n",
       "      <td>1.000000</td>\n",
       "      <td>1.0</td>\n",
       "      <td>1.000000</td>\n",
       "      <td>1.000000</td>\n",
       "    </tr>\n",
       "    <tr>\n",
       "      <th>FJ457024.1</th>\n",
       "      <td>0.928571</td>\n",
       "      <td>0.000000</td>\n",
       "      <td>1.0</td>\n",
       "      <td>1.0</td>\n",
       "      <td>0.956522</td>\n",
       "      <td>0.923077</td>\n",
       "      <td>0.866667</td>\n",
       "      <td>0.750000</td>\n",
       "      <td>1.0</td>\n",
       "      <td>1.0</td>\n",
       "      <td>...</td>\n",
       "      <td>1.000000</td>\n",
       "      <td>0.894737</td>\n",
       "      <td>1.000000</td>\n",
       "      <td>1.000000</td>\n",
       "      <td>1.000000</td>\n",
       "      <td>1.000000</td>\n",
       "      <td>1.000000</td>\n",
       "      <td>1.0</td>\n",
       "      <td>1.000000</td>\n",
       "      <td>1.000000</td>\n",
       "    </tr>\n",
       "    <tr>\n",
       "      <th>HM439284.1</th>\n",
       "      <td>1.000000</td>\n",
       "      <td>1.000000</td>\n",
       "      <td>0.0</td>\n",
       "      <td>1.0</td>\n",
       "      <td>1.000000</td>\n",
       "      <td>1.000000</td>\n",
       "      <td>1.000000</td>\n",
       "      <td>1.000000</td>\n",
       "      <td>1.0</td>\n",
       "      <td>1.0</td>\n",
       "      <td>...</td>\n",
       "      <td>1.000000</td>\n",
       "      <td>1.000000</td>\n",
       "      <td>1.000000</td>\n",
       "      <td>1.000000</td>\n",
       "      <td>1.000000</td>\n",
       "      <td>1.000000</td>\n",
       "      <td>1.000000</td>\n",
       "      <td>1.0</td>\n",
       "      <td>1.000000</td>\n",
       "      <td>1.000000</td>\n",
       "    </tr>\n",
       "    <tr>\n",
       "      <th>HQ389543.1</th>\n",
       "      <td>1.000000</td>\n",
       "      <td>1.000000</td>\n",
       "      <td>1.0</td>\n",
       "      <td>0.0</td>\n",
       "      <td>1.000000</td>\n",
       "      <td>1.000000</td>\n",
       "      <td>1.000000</td>\n",
       "      <td>1.000000</td>\n",
       "      <td>1.0</td>\n",
       "      <td>1.0</td>\n",
       "      <td>...</td>\n",
       "      <td>1.000000</td>\n",
       "      <td>1.000000</td>\n",
       "      <td>1.000000</td>\n",
       "      <td>1.000000</td>\n",
       "      <td>1.000000</td>\n",
       "      <td>1.000000</td>\n",
       "      <td>1.000000</td>\n",
       "      <td>1.0</td>\n",
       "      <td>1.000000</td>\n",
       "      <td>1.000000</td>\n",
       "    </tr>\n",
       "    <tr>\n",
       "      <th>JF443717.1</th>\n",
       "      <td>0.833333</td>\n",
       "      <td>0.956522</td>\n",
       "      <td>1.0</td>\n",
       "      <td>1.0</td>\n",
       "      <td>0.000000</td>\n",
       "      <td>0.823529</td>\n",
       "      <td>0.850000</td>\n",
       "      <td>0.833333</td>\n",
       "      <td>1.0</td>\n",
       "      <td>1.0</td>\n",
       "      <td>...</td>\n",
       "      <td>1.000000</td>\n",
       "      <td>0.920000</td>\n",
       "      <td>1.000000</td>\n",
       "      <td>1.000000</td>\n",
       "      <td>1.000000</td>\n",
       "      <td>1.000000</td>\n",
       "      <td>1.000000</td>\n",
       "      <td>1.0</td>\n",
       "      <td>1.000000</td>\n",
       "      <td>1.000000</td>\n",
       "    </tr>\n",
       "    <tr>\n",
       "      <th>...</th>\n",
       "      <td>...</td>\n",
       "      <td>...</td>\n",
       "      <td>...</td>\n",
       "      <td>...</td>\n",
       "      <td>...</td>\n",
       "      <td>...</td>\n",
       "      <td>...</td>\n",
       "      <td>...</td>\n",
       "      <td>...</td>\n",
       "      <td>...</td>\n",
       "      <td>...</td>\n",
       "      <td>...</td>\n",
       "      <td>...</td>\n",
       "      <td>...</td>\n",
       "      <td>...</td>\n",
       "      <td>...</td>\n",
       "      <td>...</td>\n",
       "      <td>...</td>\n",
       "      <td>...</td>\n",
       "      <td>...</td>\n",
       "      <td>...</td>\n",
       "    </tr>\n",
       "    <tr>\n",
       "      <th>MN646692.1</th>\n",
       "      <td>1.000000</td>\n",
       "      <td>1.000000</td>\n",
       "      <td>1.0</td>\n",
       "      <td>1.0</td>\n",
       "      <td>1.000000</td>\n",
       "      <td>1.000000</td>\n",
       "      <td>1.000000</td>\n",
       "      <td>1.000000</td>\n",
       "      <td>1.0</td>\n",
       "      <td>1.0</td>\n",
       "      <td>...</td>\n",
       "      <td>1.000000</td>\n",
       "      <td>1.000000</td>\n",
       "      <td>1.000000</td>\n",
       "      <td>1.000000</td>\n",
       "      <td>1.000000</td>\n",
       "      <td>0.000000</td>\n",
       "      <td>0.909091</td>\n",
       "      <td>1.0</td>\n",
       "      <td>0.200000</td>\n",
       "      <td>1.000000</td>\n",
       "    </tr>\n",
       "    <tr>\n",
       "      <th>MN646693.1</th>\n",
       "      <td>1.000000</td>\n",
       "      <td>1.000000</td>\n",
       "      <td>1.0</td>\n",
       "      <td>1.0</td>\n",
       "      <td>1.000000</td>\n",
       "      <td>1.000000</td>\n",
       "      <td>1.000000</td>\n",
       "      <td>1.000000</td>\n",
       "      <td>1.0</td>\n",
       "      <td>1.0</td>\n",
       "      <td>...</td>\n",
       "      <td>1.000000</td>\n",
       "      <td>1.000000</td>\n",
       "      <td>0.916667</td>\n",
       "      <td>0.923077</td>\n",
       "      <td>0.923077</td>\n",
       "      <td>0.909091</td>\n",
       "      <td>0.000000</td>\n",
       "      <td>1.0</td>\n",
       "      <td>0.916667</td>\n",
       "      <td>0.909091</td>\n",
       "    </tr>\n",
       "    <tr>\n",
       "      <th>MN646694.1</th>\n",
       "      <td>1.000000</td>\n",
       "      <td>1.000000</td>\n",
       "      <td>1.0</td>\n",
       "      <td>1.0</td>\n",
       "      <td>1.000000</td>\n",
       "      <td>1.000000</td>\n",
       "      <td>1.000000</td>\n",
       "      <td>1.000000</td>\n",
       "      <td>1.0</td>\n",
       "      <td>1.0</td>\n",
       "      <td>...</td>\n",
       "      <td>1.000000</td>\n",
       "      <td>1.000000</td>\n",
       "      <td>1.000000</td>\n",
       "      <td>1.000000</td>\n",
       "      <td>1.000000</td>\n",
       "      <td>1.000000</td>\n",
       "      <td>1.000000</td>\n",
       "      <td>0.0</td>\n",
       "      <td>1.000000</td>\n",
       "      <td>1.000000</td>\n",
       "    </tr>\n",
       "    <tr>\n",
       "      <th>MN646695.1</th>\n",
       "      <td>1.000000</td>\n",
       "      <td>1.000000</td>\n",
       "      <td>1.0</td>\n",
       "      <td>1.0</td>\n",
       "      <td>1.000000</td>\n",
       "      <td>1.000000</td>\n",
       "      <td>1.000000</td>\n",
       "      <td>1.000000</td>\n",
       "      <td>1.0</td>\n",
       "      <td>1.0</td>\n",
       "      <td>...</td>\n",
       "      <td>1.000000</td>\n",
       "      <td>1.000000</td>\n",
       "      <td>1.000000</td>\n",
       "      <td>1.000000</td>\n",
       "      <td>1.000000</td>\n",
       "      <td>0.200000</td>\n",
       "      <td>0.916667</td>\n",
       "      <td>1.0</td>\n",
       "      <td>0.000000</td>\n",
       "      <td>1.000000</td>\n",
       "    </tr>\n",
       "    <tr>\n",
       "      <th>MN646696.1</th>\n",
       "      <td>1.000000</td>\n",
       "      <td>1.000000</td>\n",
       "      <td>1.0</td>\n",
       "      <td>1.0</td>\n",
       "      <td>1.000000</td>\n",
       "      <td>1.000000</td>\n",
       "      <td>1.000000</td>\n",
       "      <td>1.000000</td>\n",
       "      <td>1.0</td>\n",
       "      <td>1.0</td>\n",
       "      <td>...</td>\n",
       "      <td>0.714286</td>\n",
       "      <td>1.000000</td>\n",
       "      <td>0.200000</td>\n",
       "      <td>0.888889</td>\n",
       "      <td>0.888889</td>\n",
       "      <td>1.000000</td>\n",
       "      <td>0.909091</td>\n",
       "      <td>1.0</td>\n",
       "      <td>1.000000</td>\n",
       "      <td>0.000000</td>\n",
       "    </tr>\n",
       "  </tbody>\n",
       "</table>\n",
       "<p>202 rows × 202 columns</p>\n",
       "</div>"
      ],
      "text/plain": [
       "            DQ459342.1  FJ457024.1  HM439284.1  HQ389543.1  JF443717.1  \\\n",
       "DQ459342.1  0.000000    0.928571    1.0         1.0         0.833333     \n",
       "FJ457024.1  0.928571    0.000000    1.0         1.0         0.956522     \n",
       "HM439284.1  1.000000    1.000000    0.0         1.0         1.000000     \n",
       "HQ389543.1  1.000000    1.000000    1.0         0.0         1.000000     \n",
       "JF443717.1  0.833333    0.956522    1.0         1.0         0.000000     \n",
       "...              ...         ...    ...         ...              ...     \n",
       "MN646692.1  1.000000    1.000000    1.0         1.0         1.000000     \n",
       "MN646693.1  1.000000    1.000000    1.0         1.0         1.000000     \n",
       "MN646694.1  1.000000    1.000000    1.0         1.0         1.000000     \n",
       "MN646695.1  1.000000    1.000000    1.0         1.0         1.000000     \n",
       "MN646696.1  1.000000    1.000000    1.0         1.0         1.000000     \n",
       "\n",
       "            JF443718.1  JF443719.1  JF443720.1  JF443721.1  JF443722.1  ...  \\\n",
       "DQ459342.1  0.166667    0.444444    0.800000    1.0         1.0         ...   \n",
       "FJ457024.1  0.923077    0.866667    0.750000    1.0         1.0         ...   \n",
       "HM439284.1  1.000000    1.000000    1.000000    1.0         1.0         ...   \n",
       "HQ389543.1  1.000000    1.000000    1.000000    1.0         1.0         ...   \n",
       "JF443717.1  0.823529    0.850000    0.833333    1.0         1.0         ...   \n",
       "...              ...         ...         ...    ...         ...         ...   \n",
       "MN646692.1  1.000000    1.000000    1.000000    1.0         1.0         ...   \n",
       "MN646693.1  1.000000    1.000000    1.000000    1.0         1.0         ...   \n",
       "MN646694.1  1.000000    1.000000    1.000000    1.0         1.0         ...   \n",
       "MN646695.1  1.000000    1.000000    1.000000    1.0         1.0         ...   \n",
       "MN646696.1  1.000000    1.000000    1.000000    1.0         1.0         ...   \n",
       "\n",
       "            MN401237.1  MN401238.1  MN646689.1  MN646690.1  MN646691.1  \\\n",
       "DQ459342.1  1.000000    1.000000    1.000000    1.000000    1.000000     \n",
       "FJ457024.1  1.000000    0.894737    1.000000    1.000000    1.000000     \n",
       "HM439284.1  1.000000    1.000000    1.000000    1.000000    1.000000     \n",
       "HQ389543.1  1.000000    1.000000    1.000000    1.000000    1.000000     \n",
       "JF443717.1  1.000000    0.920000    1.000000    1.000000    1.000000     \n",
       "...              ...         ...         ...         ...         ...     \n",
       "MN646692.1  1.000000    1.000000    1.000000    1.000000    1.000000     \n",
       "MN646693.1  1.000000    1.000000    0.916667    0.923077    0.923077     \n",
       "MN646694.1  1.000000    1.000000    1.000000    1.000000    1.000000     \n",
       "MN646695.1  1.000000    1.000000    1.000000    1.000000    1.000000     \n",
       "MN646696.1  0.714286    1.000000    0.200000    0.888889    0.888889     \n",
       "\n",
       "            MN646692.1  MN646693.1  MN646694.1  MN646695.1  MN646696.1  \n",
       "DQ459342.1  1.000000    1.000000    1.0         1.000000    1.000000    \n",
       "FJ457024.1  1.000000    1.000000    1.0         1.000000    1.000000    \n",
       "HM439284.1  1.000000    1.000000    1.0         1.000000    1.000000    \n",
       "HQ389543.1  1.000000    1.000000    1.0         1.000000    1.000000    \n",
       "JF443717.1  1.000000    1.000000    1.0         1.000000    1.000000    \n",
       "...              ...         ...    ...              ...         ...    \n",
       "MN646692.1  0.000000    0.909091    1.0         0.200000    1.000000    \n",
       "MN646693.1  0.909091    0.000000    1.0         0.916667    0.909091    \n",
       "MN646694.1  1.000000    1.000000    0.0         1.000000    1.000000    \n",
       "MN646695.1  0.200000    0.916667    1.0         0.000000    1.000000    \n",
       "MN646696.1  1.000000    0.909091    1.0         1.000000    0.000000    \n",
       "\n",
       "[202 rows x 202 columns]"
      ]
     },
     "execution_count": 11,
     "metadata": {},
     "output_type": "execute_result"
    }
   ],
   "source": [
    "dm = comparison.view(skbio.DistanceMatrix)\n",
    "df = dm.to_data_frame()\n",
    "df"
   ]
  },
  {
   "cell_type": "code",
   "execution_count": 12,
   "metadata": {},
   "outputs": [
    {
     "data": {
      "text/plain": [
       "False"
      ]
     },
     "execution_count": 12,
     "metadata": {},
     "output_type": "execute_result"
    }
   ],
   "source": [
    "# just sanity check tht there are no negative values\n",
    "(df < 0).any().any()"
   ]
  },
  {
   "cell_type": "code",
   "execution_count": 13,
   "metadata": {},
   "outputs": [
    {
     "data": {
      "text/plain": [
       "id\n",
       "MN646689.1    FR\n",
       "MN646690.1    FR\n",
       "MN646691.1    FR\n",
       "MN646692.1    FR\n",
       "MN646693.1    FR\n",
       "              ..\n",
       "JQ679014.1    UK\n",
       "HQ389543.1    UK\n",
       "HM439284.1    CN\n",
       "FJ457024.1    IN\n",
       "DQ459342.1    IN\n",
       "Name: Geo_Location_Abbreviation, Length: 202, dtype: object"
      ]
     },
     "execution_count": 13,
     "metadata": {},
     "output_type": "execute_result"
    }
   ],
   "source": [
    "locations = accessions.to_dataframe().loc[:,'Geo_Location_Abbreviation']\n",
    "locations"
   ]
  },
  {
   "cell_type": "code",
   "execution_count": 14,
   "metadata": {},
   "outputs": [
    {
     "data": {
      "text/plain": [
       "['FR', 'BD', 'UK', 'CN', 'IN']"
      ]
     },
     "execution_count": 14,
     "metadata": {},
     "output_type": "execute_result"
    }
   ],
   "source": [
    "unique_locations = list(pd.unique(locations))\n",
    "unique_locations"
   ]
  },
  {
   "cell_type": "code",
   "execution_count": 15,
   "metadata": {},
   "outputs": [
    {
     "data": {
      "text/plain": [
       "5"
      ]
     },
     "execution_count": 15,
     "metadata": {},
     "output_type": "execute_result"
    }
   ],
   "source": [
    "len(unique_locations)"
   ]
  },
  {
   "cell_type": "code",
   "execution_count": 16,
   "metadata": {},
   "outputs": [
    {
     "data": {
      "text/plain": [
       "[(0.267968, 0.223549, 0.512008),\n",
       " (0.190631, 0.407061, 0.556089),\n",
       " (0.127568, 0.566949, 0.550556),\n",
       " (0.20803, 0.718701, 0.472873),\n",
       " (0.565498, 0.84243, 0.262877)]"
      ]
     },
     "execution_count": 16,
     "metadata": {},
     "output_type": "execute_result"
    }
   ],
   "source": [
    "# pal = sns.husl_palette(5, s=.45)\n",
    "pal =sns.color_palette(\"viridis\",5)\n",
    "pal"
   ]
  },
  {
   "cell_type": "code",
   "execution_count": 17,
   "metadata": {},
   "outputs": [
    {
     "data": {
      "text/plain": [
       "{'FR': (0.267968, 0.223549, 0.512008),\n",
       " 'BD': (0.190631, 0.407061, 0.556089),\n",
       " 'UK': (0.127568, 0.566949, 0.550556),\n",
       " 'CN': (0.20803, 0.718701, 0.472873),\n",
       " 'IN': (0.565498, 0.84243, 0.262877)}"
      ]
     },
     "execution_count": 17,
     "metadata": {},
     "output_type": "execute_result"
    }
   ],
   "source": [
    "pal_dict = dict(zip(map(str, unique_locations), pal))\n",
    "pal_dict"
   ]
  },
  {
   "cell_type": "code",
   "execution_count": 20,
   "metadata": {},
   "outputs": [
    {
     "data": {
      "text/html": [
       "<div>\n",
       "<style scoped>\n",
       "    .dataframe tbody tr th:only-of-type {\n",
       "        vertical-align: middle;\n",
       "    }\n",
       "\n",
       "    .dataframe tbody tr th {\n",
       "        vertical-align: top;\n",
       "    }\n",
       "\n",
       "    .dataframe thead th {\n",
       "        text-align: right;\n",
       "    }\n",
       "</style>\n",
       "<table border=\"1\" class=\"dataframe\">\n",
       "  <thead>\n",
       "    <tr style=\"text-align: right;\">\n",
       "      <th></th>\n",
       "      <th>Geo_Location_Abbreviation</th>\n",
       "    </tr>\n",
       "    <tr>\n",
       "      <th>id</th>\n",
       "      <th></th>\n",
       "    </tr>\n",
       "  </thead>\n",
       "  <tbody>\n",
       "    <tr>\n",
       "      <th>MN646689.1</th>\n",
       "      <td>FR</td>\n",
       "    </tr>\n",
       "    <tr>\n",
       "      <th>MN646690.1</th>\n",
       "      <td>FR</td>\n",
       "    </tr>\n",
       "    <tr>\n",
       "      <th>MN646691.1</th>\n",
       "      <td>FR</td>\n",
       "    </tr>\n",
       "    <tr>\n",
       "      <th>MN646692.1</th>\n",
       "      <td>FR</td>\n",
       "    </tr>\n",
       "    <tr>\n",
       "      <th>MN646693.1</th>\n",
       "      <td>FR</td>\n",
       "    </tr>\n",
       "    <tr>\n",
       "      <th>...</th>\n",
       "      <td>...</td>\n",
       "    </tr>\n",
       "    <tr>\n",
       "      <th>JQ679014.1</th>\n",
       "      <td>UK</td>\n",
       "    </tr>\n",
       "    <tr>\n",
       "      <th>HQ389543.1</th>\n",
       "      <td>UK</td>\n",
       "    </tr>\n",
       "    <tr>\n",
       "      <th>HM439284.1</th>\n",
       "      <td>CN</td>\n",
       "    </tr>\n",
       "    <tr>\n",
       "      <th>FJ457024.1</th>\n",
       "      <td>IN</td>\n",
       "    </tr>\n",
       "    <tr>\n",
       "      <th>DQ459342.1</th>\n",
       "      <td>IN</td>\n",
       "    </tr>\n",
       "  </tbody>\n",
       "</table>\n",
       "<p>202 rows × 1 columns</p>\n",
       "</div>"
      ],
      "text/plain": [
       "           Geo_Location_Abbreviation\n",
       "id                                  \n",
       "MN646689.1  FR                      \n",
       "MN646690.1  FR                      \n",
       "MN646691.1  FR                      \n",
       "MN646692.1  FR                      \n",
       "MN646693.1  FR                      \n",
       "...         ..                      \n",
       "JQ679014.1  UK                      \n",
       "HQ389543.1  UK                      \n",
       "HM439284.1  CN                      \n",
       "FJ457024.1  IN                      \n",
       "DQ459342.1  IN                      \n",
       "\n",
       "[202 rows x 1 columns]"
      ]
     },
     "execution_count": 20,
     "metadata": {},
     "output_type": "execute_result"
    }
   ],
   "source": [
    "locations_df = accessions.to_dataframe().loc[:,['Geo_Location_Abbreviation']]\n",
    "locations_df"
   ]
  },
  {
   "cell_type": "code",
   "execution_count": 21,
   "metadata": {},
   "outputs": [],
   "source": [
    "locations_df.loc[:,\"Country\"] = locations_df.loc[:, \"Geo_Location_Abbreviation\"].apply(lambda x: pal_dict[x])"
   ]
  },
  {
   "cell_type": "code",
   "execution_count": 22,
   "metadata": {},
   "outputs": [
    {
     "data": {
      "text/html": [
       "<div>\n",
       "<style scoped>\n",
       "    .dataframe tbody tr th:only-of-type {\n",
       "        vertical-align: middle;\n",
       "    }\n",
       "\n",
       "    .dataframe tbody tr th {\n",
       "        vertical-align: top;\n",
       "    }\n",
       "\n",
       "    .dataframe thead th {\n",
       "        text-align: right;\n",
       "    }\n",
       "</style>\n",
       "<table border=\"1\" class=\"dataframe\">\n",
       "  <thead>\n",
       "    <tr style=\"text-align: right;\">\n",
       "      <th></th>\n",
       "      <th>Geo_Location_Abbreviation</th>\n",
       "      <th>Country</th>\n",
       "    </tr>\n",
       "    <tr>\n",
       "      <th>id</th>\n",
       "      <th></th>\n",
       "      <th></th>\n",
       "    </tr>\n",
       "  </thead>\n",
       "  <tbody>\n",
       "    <tr>\n",
       "      <th>MN646689.1</th>\n",
       "      <td>FR</td>\n",
       "      <td>(0.267968, 0.223549, 0.512008)</td>\n",
       "    </tr>\n",
       "    <tr>\n",
       "      <th>MN646690.1</th>\n",
       "      <td>FR</td>\n",
       "      <td>(0.267968, 0.223549, 0.512008)</td>\n",
       "    </tr>\n",
       "    <tr>\n",
       "      <th>MN646691.1</th>\n",
       "      <td>FR</td>\n",
       "      <td>(0.267968, 0.223549, 0.512008)</td>\n",
       "    </tr>\n",
       "    <tr>\n",
       "      <th>MN646692.1</th>\n",
       "      <td>FR</td>\n",
       "      <td>(0.267968, 0.223549, 0.512008)</td>\n",
       "    </tr>\n",
       "    <tr>\n",
       "      <th>MN646693.1</th>\n",
       "      <td>FR</td>\n",
       "      <td>(0.267968, 0.223549, 0.512008)</td>\n",
       "    </tr>\n",
       "    <tr>\n",
       "      <th>...</th>\n",
       "      <td>...</td>\n",
       "      <td>...</td>\n",
       "    </tr>\n",
       "    <tr>\n",
       "      <th>JQ679014.1</th>\n",
       "      <td>UK</td>\n",
       "      <td>(0.127568, 0.566949, 0.550556)</td>\n",
       "    </tr>\n",
       "    <tr>\n",
       "      <th>HQ389543.1</th>\n",
       "      <td>UK</td>\n",
       "      <td>(0.127568, 0.566949, 0.550556)</td>\n",
       "    </tr>\n",
       "    <tr>\n",
       "      <th>HM439284.1</th>\n",
       "      <td>CN</td>\n",
       "      <td>(0.20803, 0.718701, 0.472873)</td>\n",
       "    </tr>\n",
       "    <tr>\n",
       "      <th>FJ457024.1</th>\n",
       "      <td>IN</td>\n",
       "      <td>(0.565498, 0.84243, 0.262877)</td>\n",
       "    </tr>\n",
       "    <tr>\n",
       "      <th>DQ459342.1</th>\n",
       "      <td>IN</td>\n",
       "      <td>(0.565498, 0.84243, 0.262877)</td>\n",
       "    </tr>\n",
       "  </tbody>\n",
       "</table>\n",
       "<p>202 rows × 2 columns</p>\n",
       "</div>"
      ],
      "text/plain": [
       "           Geo_Location_Abbreviation                         Country\n",
       "id                                                                  \n",
       "MN646689.1  FR                        (0.267968, 0.223549, 0.512008)\n",
       "MN646690.1  FR                        (0.267968, 0.223549, 0.512008)\n",
       "MN646691.1  FR                        (0.267968, 0.223549, 0.512008)\n",
       "MN646692.1  FR                        (0.267968, 0.223549, 0.512008)\n",
       "MN646693.1  FR                        (0.267968, 0.223549, 0.512008)\n",
       "...         ..                                                   ...\n",
       "JQ679014.1  UK                        (0.127568, 0.566949, 0.550556)\n",
       "HQ389543.1  UK                        (0.127568, 0.566949, 0.550556)\n",
       "HM439284.1  CN                        (0.20803, 0.718701, 0.472873) \n",
       "FJ457024.1  IN                        (0.565498, 0.84243, 0.262877) \n",
       "DQ459342.1  IN                        (0.565498, 0.84243, 0.262877) \n",
       "\n",
       "[202 rows x 2 columns]"
      ]
     },
     "execution_count": 22,
     "metadata": {},
     "output_type": "execute_result"
    }
   ],
   "source": [
    "locations_df"
   ]
  },
  {
   "cell_type": "code",
   "execution_count": 23,
   "metadata": {},
   "outputs": [
    {
     "data": {
      "text/plain": [
       "id\n",
       "MN646689.1    (0.267968, 0.223549, 0.512008)\n",
       "MN646690.1    (0.267968, 0.223549, 0.512008)\n",
       "MN646691.1    (0.267968, 0.223549, 0.512008)\n",
       "MN646692.1    (0.267968, 0.223549, 0.512008)\n",
       "MN646693.1    (0.267968, 0.223549, 0.512008)\n",
       "                           ...              \n",
       "JQ679014.1    (0.127568, 0.566949, 0.550556)\n",
       "HQ389543.1    (0.127568, 0.566949, 0.550556)\n",
       "HM439284.1    (0.20803, 0.718701, 0.472873) \n",
       "FJ457024.1    (0.565498, 0.84243, 0.262877) \n",
       "DQ459342.1    (0.565498, 0.84243, 0.262877) \n",
       "Name: Country, Length: 202, dtype: object"
      ]
     },
     "execution_count": 23,
     "metadata": {},
     "output_type": "execute_result"
    }
   ],
   "source": [
    "gloc_colors = locations_df.loc[:,\"Country\"]\n",
    "gloc_colors"
   ]
  },
  {
   "cell_type": "code",
   "execution_count": null,
   "metadata": {},
   "outputs": [],
   "source": []
  },
  {
   "cell_type": "code",
   "execution_count": 24,
   "metadata": {},
   "outputs": [
    {
     "data": {
      "image/png": "[encoded data removed]",
      "text/plain": [
       "<Figure size 1000x1000 with 6 Axes>"
      ]
     },
     "metadata": {},
     "output_type": "display_data"
    }
   ],
   "source": [
    "g = sns.clustermap(df.corr(), \n",
    "                   row_colors=gloc_colors, \n",
    "                   col_colors=gloc_colors, \n",
    "                   cmap=\"cividis\", \n",
    "                   vmin=0,\n",
    "                   dendrogram_ratio=0.2)\n",
    "\n",
    "# Draw the legend bar\n",
    "for label in unique_locations:\n",
    "    g.ax_col_dendrogram.bar(0, 0, color=pal_dict[label],\n",
    "                            label=label, linewidth=0)\n",
    "\n",
    "    g.ax_col_dendrogram.legend(loc=\"upper left\", ncol=1, title='Country', bbox_to_anchor=(-0.30, 0.8))\n",
    "\n",
    "# Adjust the postion of the main colorbar for the heatmap\n",
    "g.cax.set_position([1., .2, .03, .45])"
   ]
  },
  {
   "cell_type": "code",
   "execution_count": null,
   "metadata": {},
   "outputs": [],
   "source": []
  },
  {
   "cell_type": "code",
   "execution_count": null,
   "metadata": {},
   "outputs": [],
   "source": []
  }
 ],
 "metadata": {
  "kernelspec": {
   "display_name": "Python 3",
   "language": "python",
   "name": "python3"
  },
  "language_info": {
   "codemirror_mode": {
    "name": "ipython",
    "version": 3
   },
   "file_extension": ".py",
   "mimetype": "text/x-python",
   "name": "python",
   "nbconvert_exporter": "python",
   "pygments_lexer": "ipython3",
   "version": "3.6.11"
  }
 },
 "nbformat": 4,
 "nbformat_minor": 4
}
