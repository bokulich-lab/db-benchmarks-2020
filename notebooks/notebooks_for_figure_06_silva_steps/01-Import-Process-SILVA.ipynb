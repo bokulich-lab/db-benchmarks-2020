{
 "cells": [
  {
   "cell_type": "markdown",
   "metadata": {},
   "source": [
    "# Prepare SILVA database using RESCRIPt.\n",
    "\n",
    "[RESCRIPt](https://github.com/bokulich-lab/RESCRIPt) "
   ]
  },
  {
   "cell_type": "code",
   "execution_count": 1,
   "metadata": {},
   "outputs": [],
   "source": [
    "# impot basic functionality\n",
    "from os import getcwd, listdir, chdir, mkdir"
   ]
  },
  {
   "cell_type": "code",
   "execution_count": 2,
   "metadata": {},
   "outputs": [
    {
     "data": {
      "text/plain": [
       "'/home/mrobeson/projects/rescript_benchmarks'"
      ]
     },
     "execution_count": 2,
     "metadata": {},
     "output_type": "execute_result"
    }
   ],
   "source": [
    "chdir('/home/mrobeson/projects/rescript_benchmarks')\n",
    "getcwd()"
   ]
  },
  {
   "cell_type": "code",
   "execution_count": 3,
   "metadata": {},
   "outputs": [],
   "source": [
    "chdir(\"ref_dbs/silva-138\")"
   ]
  },
  {
   "cell_type": "markdown",
   "metadata": {},
   "source": [
    "## Download neccesary SILVA files\n",
    "\n",
    "1. Go to the [SILVA v138 archive](https://www.arb-silva.de/no_cache/download/archive/release_138/Exports/)\n",
    "2. Download the following taxonomy files:\n",
    "    - tax_slv_ssu_138.txt\n",
    "\t- taxmap_slv_ssu_ref_nr_138.txt\n",
    "    - taxmap_slv_ssu_ref_138.txt\n",
    "\t- tax_slv_ssu_138.tre\n",
    "3. Downlaod the following sequence file:\n",
    "\t- SILVA_138_SSURef_Nr99_tax_silva_trunc.fasta.gz\n",
    "    - SILVA_138_SSURef_tax_silva_trunc.fasta.gz\n"
   ]
  },
  {
   "cell_type": "raw",
   "metadata": {},
   "source": [
    "# Taxonomy rank file. This maps the taxonomic rank and taxonomy to the taxid.\n",
    "!wget https://www.arb-silva.de/fileadmin/silva_databases/release_138/Exports/taxonomy/tax_slv_ssu_138.txt.gz"
   ]
  },
  {
   "cell_type": "raw",
   "metadata": {},
   "source": [
    "# Taxonomy Map NR99 file. This maps the sequence Accesions to the Organism Name and Taxonomy IDs.\n",
    "!wget https://www.arb-silva.de/fileadmin/silva_databases/release_138/Exports/taxonomy/taxmap_slv_ssu_ref_nr_138.txt.gz"
   ]
  },
  {
   "cell_type": "raw",
   "metadata": {},
   "source": [
    "# Taxonomy Map file. This maps the sequence Accesions to the Organism Name and Taxonomy IDs.\n",
    "!wget https://www.arb-silva.de/fileadmin/silva_databases/release_138/Exports/taxonomy/taxmap_slv_ssu_ref_138.txt.gz"
   ]
  },
  {
   "cell_type": "raw",
   "metadata": {},
   "source": [
    "# Taxonomy Tree file. This file contains the hiearchical relationship of the taxonomy ids in tree form. \n",
    "!wget https://www.arb-silva.de/fileadmin/silva_databases/release_138/Exports/taxonomy/tax_slv_ssu_138.tre.gz"
   ]
  },
  {
   "cell_type": "raw",
   "metadata": {},
   "source": [
    "# SILVA NR99 sequences (non-redundant and unaligned)\n",
    "!wget https://www.arb-silva.de/fileadmin/silva_databases/release_138/Exports/SILVA_138_SSURef_NR99_tax_silva_trunc.fasta.gz"
   ]
  },
  {
   "cell_type": "raw",
   "metadata": {},
   "source": [
    "# SILVA sequences (Full db unaligned)\n",
    "!wget https://www.arb-silva.de/fileadmin/silva_databases/release_138/Exports/SILVA_138_SSURef_tax_silva_trunc.fasta.gz"
   ]
  },
  {
   "cell_type": "code",
   "execution_count": 8,
   "metadata": {},
   "outputs": [],
   "source": [
    "!gunzip *.gz"
   ]
  },
  {
   "cell_type": "markdown",
   "metadata": {},
   "source": [
    "## Import files\n",
    "\n",
    "These will be use for various other notebooks in our benchmarking process."
   ]
  },
  {
   "cell_type": "code",
   "execution_count": 4,
   "metadata": {},
   "outputs": [
    {
     "name": "stdout",
     "output_type": "stream",
     "text": [
      "\u001b[32mImported tax_slv_ssu_138.txt as SILVATaxonomyDirectoryFormat to silva-138-ssu-taxranks.qza\u001b[0m\r\n"
     ]
    }
   ],
   "source": [
    "# import taxonomy rank file\n",
    "!qiime tools import \\\n",
    "    --type 'FeatureData[SILVATaxonomy]' \\\n",
    "    --input-path tax_slv_ssu_138.txt \\\n",
    "    --output-path silva-138-ssu-taxranks.qza \\"
   ]
  },
  {
   "cell_type": "code",
   "execution_count": 5,
   "metadata": {},
   "outputs": [
    {
     "name": "stdout",
     "output_type": "stream",
     "text": [
      "\u001b[32mImported taxmap_slv_ssu_ref_nr_138.txt as SILVATaxidMapDirectoryFormat to silva-138-ssu-nr99-taxmap.qza\u001b[0m\r\n"
     ]
    }
   ],
   "source": [
    "# import NR taxonomy mapping file\n",
    "!qiime tools import \\\n",
    "    --type 'FeatureData[SILVATaxidMap]' \\\n",
    "    --input-path taxmap_slv_ssu_ref_nr_138.txt \\\n",
    "    --output-path silva-138-ssu-nr99-taxmap.qza \\"
   ]
  },
  {
   "cell_type": "code",
   "execution_count": 6,
   "metadata": {},
   "outputs": [
    {
     "name": "stdout",
     "output_type": "stream",
     "text": [
      "\u001b[32mImported taxmap_slv_ssu_ref_138.txt as SILVATaxidMapDirectoryFormat to silva-138-ssu-taxmap.qza\u001b[0m\r\n"
     ]
    }
   ],
   "source": [
    "# import taxonomy mapping file\n",
    "!qiime tools import \\\n",
    "    --type 'FeatureData[SILVATaxidMap]' \\\n",
    "    --input-path taxmap_slv_ssu_ref_138.txt \\\n",
    "    --output-path silva-138-ssu-taxmap.qza \\"
   ]
  },
  {
   "cell_type": "code",
   "execution_count": 7,
   "metadata": {},
   "outputs": [
    {
     "name": "stdout",
     "output_type": "stream",
     "text": [
      "\u001b[32mImported tax_slv_ssu_138.tre as NewickDirectoryFormat to silva-138-ssu-taxtree.qza\u001b[0m\r\n"
     ]
    }
   ],
   "source": [
    "# import taxonomy tree file\n",
    "!qiime tools import \\\n",
    "    --type 'Phylogeny[Rooted]' \\\n",
    "    --input-path tax_slv_ssu_138.tre \\\n",
    "    --output-path silva-138-ssu-taxtree.qza \\"
   ]
  },
  {
   "cell_type": "code",
   "execution_count": 8,
   "metadata": {},
   "outputs": [
    {
     "name": "stdout",
     "output_type": "stream",
     "text": [
      "\u001b[32mImported SILVA_138_SSURef_NR99_tax_silva_trunc.fasta as RNASequencesDirectoryFormat to silva-138-ssu-nr99-seqs.qza\u001b[0m\r\n"
     ]
    }
   ],
   "source": [
    "# import sequence file\n",
    "!qiime tools import \\\n",
    "    --type 'FeatureData[RNASequence]' \\\n",
    "    --input-path SILVA_138_SSURef_NR99_tax_silva_trunc.fasta \\\n",
    "    --output-path silva-138-ssu-nr99-seqs.qza"
   ]
  },
  {
   "cell_type": "code",
   "execution_count": 9,
   "metadata": {},
   "outputs": [
    {
     "name": "stdout",
     "output_type": "stream",
     "text": [
      "\u001b[32mImported SILVA_138_SSURef_tax_silva_trunc.fasta as RNASequencesDirectoryFormat to silva-138-ssu-seqs.qza\u001b[0m\r\n"
     ]
    }
   ],
   "source": [
    "# import sequence file\n",
    "!qiime tools import \\\n",
    "    --type 'FeatureData[RNASequence]' \\\n",
    "    --input-path SILVA_138_SSURef_tax_silva_trunc.fasta \\\n",
    "    --output-path silva-138-ssu-seqs.qza"
   ]
  }
 ],
 "metadata": {
  "kernelspec": {
   "display_name": "Python 3",
   "language": "python",
   "name": "python3"
  },
  "language_info": {
   "codemirror_mode": {
    "name": "ipython",
    "version": 3
   },
   "file_extension": ".py",
   "mimetype": "text/x-python",
   "name": "python",
   "nbconvert_exporter": "python",
   "pygments_lexer": "ipython3",
   "version": "3.6.11"
  }
 },
 "nbformat": 4,
 "nbformat_minor": 4
}
