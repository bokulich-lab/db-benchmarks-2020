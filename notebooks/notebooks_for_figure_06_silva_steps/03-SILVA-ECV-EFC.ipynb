{
 "cells": [
  {
   "cell_type": "markdown",
   "metadata": {},
   "source": [
    "# SILVA NR99 - ECV & EFC"
   ]
  },
  {
   "cell_type": "code",
   "execution_count": 1,
   "metadata": {},
   "outputs": [],
   "source": [
    "# impot basic functionality\n",
    "from os import getcwd, listdir, chdir, mkdir, path\n",
    "import glob"
   ]
  },
  {
   "cell_type": "code",
   "execution_count": 2,
   "metadata": {},
   "outputs": [],
   "source": [
    "mwd = '/home/mrobeson/projects/rescript_benchmarks'\n",
    "refdb = mwd + '/ref_dbs/silva-138'\n",
    "bench = mwd + '/benchmarks/silva-138'"
   ]
  },
  {
   "cell_type": "code",
   "execution_count": 3,
   "metadata": {},
   "outputs": [
    {
     "data": {
      "text/plain": [
       "'/home/mrobeson/projects/rescript_benchmarks/benchmarks/silva-138'"
      ]
     },
     "execution_count": 3,
     "metadata": {},
     "output_type": "execute_result"
    }
   ],
   "source": [
    "chdir(bench)\n",
    "getcwd()"
   ]
  },
  {
   "cell_type": "markdown",
   "metadata": {},
   "source": [
    "#### Base ecv qsub string"
   ]
  },
  {
   "cell_type": "code",
   "execution_count": 4,
   "metadata": {},
   "outputs": [],
   "source": [
    "ecv_pbs_str = \"\"\"#!/bin/bash\n",
    "#PBS -l nodes=1:ppn={ppn},mem={mem},walltime={wt}\n",
    "#PBS -l feature=xeon\n",
    "#PBS -N {job_name}\n",
    "#PBS -o {base_out_path}/{job_name}.out\n",
    "#PBS -e {base_out_path}/{job_name}.err\n",
    "\n",
    "export LC_ALL=en_US.utf-8\n",
    "export LANG=en_US.utf-8\n",
    "\n",
    "source activate qiime2-2020.6\n",
    "\n",
    "date\n",
    "\n",
    "cd {base_out_path}\n",
    "\n",
    "qiime rescript evaluate-cross-validate \\\n",
    "    --i-sequences {base_in_path}/{inseq} \\\n",
    "    --i-taxonomy  {base_in_path}/{intax} \\\n",
    "    --p-n-jobs {ppn} \\\n",
    "    --o-expected-taxonomy {base_out_path}/{exp_tax} \\\n",
    "    --o-observed-taxonomy {base_out_path}/{obs_tax} \\\n",
    "    --o-evaluation {base_out_path}/{eval_tax}\n",
    "\n",
    "date\n",
    "\n",
    "source deactivate\"\"\""
   ]
  },
  {
   "cell_type": "markdown",
   "metadata": {},
   "source": [
    "#### Base efc qsub string"
   ]
  },
  {
   "cell_type": "code",
   "execution_count": 5,
   "metadata": {},
   "outputs": [],
   "source": [
    "efc_pbs_str = \"\"\"#!/bin/bash\n",
    "#PBS -l nodes=1:ppn={ppn},mem={mem},walltime={wt}\n",
    "#PBS -l feature=xeon\n",
    "#PBS -N {job_name}\n",
    "#PBS -o {base_out_path}/{job_name}.out\n",
    "#PBS -e {base_out_path}/{job_name}.err\n",
    "\n",
    "export LC_ALL=en_US.utf-8\n",
    "export LANG=en_US.utf-8\n",
    "\n",
    "source activate qiime2-2020.6\n",
    "\n",
    "date\n",
    "\n",
    "cd {base_out_path}\n",
    "\n",
    "qiime rescript evaluate-fit-classifier \\\n",
    "    --i-sequences {base_in_path}/{inseq} \\\n",
    "    --i-taxonomy  {base_in_path}/{intax} \\\n",
    "    --p-n-jobs {ppn} \\\n",
    "    --o-classifier {base_out_path}/{classifier_out_fp} \\\n",
    "    --o-evaluation {base_out_path}/{eval_out_fp} \\\n",
    "    --o-observed-taxonomy {base_out_path}/{obs_tax_out_fp}\n",
    "\n",
    "date\n",
    "\n",
    "source deactivate\"\"\""
   ]
  },
  {
   "cell_type": "markdown",
   "metadata": {},
   "source": [
    "#### base evaluate taxa qsub string"
   ]
  },
  {
   "cell_type": "code",
   "execution_count": 6,
   "metadata": {},
   "outputs": [],
   "source": [
    "et_pbs_str = \"\"\"#!/bin/bash\n",
    "#PBS -l nodes=1:ppn={ppn},mem={mem},walltime={wt}\n",
    "#PBS -l feature=xeon\n",
    "#PBS -N {job_name}\n",
    "#PBS -o {base_out_path}/{job_name}.out\n",
    "#PBS -e {base_out_path}/{job_name}.err\n",
    "\n",
    "export LC_ALL=en_US.utf-8\n",
    "export LANG=en_US.utf-8\n",
    "\n",
    "source activate qiime2-2020.6\n",
    "\n",
    "date\n",
    "\n",
    "cd {base_in_path}\n",
    "\n",
    "qiime rescript evaluate-taxonomy \\\n",
    "    --i-taxonomies {taxonomies} \\\n",
    "    --o-taxonomy-stats  {base_out_path}/{tax_stats}\n",
    "\n",
    "date\n",
    "\n",
    "source deactivate\"\"\""
   ]
  },
  {
   "cell_type": "markdown",
   "metadata": {},
   "source": [
    "#### base evaluate seqs qsub string"
   ]
  },
  {
   "cell_type": "code",
   "execution_count": 7,
   "metadata": {},
   "outputs": [],
   "source": [
    "es_pbs_str = \"\"\"#!/bin/bash\n",
    "#PBS -l nodes=1:ppn={ppn},mem={mem},walltime={wt}\n",
    "#PBS -l feature=xeon\n",
    "#PBS -N {job_name}\n",
    "#PBS -o {base_out_path}/{job_name}.out\n",
    "#PBS -e {base_out_path}/{job_name}.err\n",
    "\n",
    "export LC_ALL=en_US.utf-8\n",
    "export LANG=en_US.utf-8\n",
    "\n",
    "source activate qiime2-2020.6\n",
    "\n",
    "date\n",
    "\n",
    "cd {base_in_path}\n",
    "\n",
    "qiime rescript evaluate-seqs \\\n",
    "    --i-sequences {sequences} \\\n",
    "    --p-palette 'cividis' \\\n",
    "    --p-subsample-kmers 0.2 \\\n",
    "    --p-kmer-lengths 32 16 8 \\\n",
    "    --o-visualization {base_out_path}/{eval_seqs}\n",
    "    \n",
    "date\n",
    "\n",
    "source deactivate\"\"\""
   ]
  },
  {
   "cell_type": "code",
   "execution_count": 8,
   "metadata": {},
   "outputs": [],
   "source": [
    "# This is not a generic function. Written specifically for the output we generated earlier.\n",
    "# Using global string variable `ecv_pbs_str`\n",
    "def make_ecv_benchmark_pbs_files(ppn = '1',\n",
    "                                 mem = '100GB',\n",
    "                                 wt = '72:00:00',\n",
    "                                 base_in_path = '/home/mrobeson/projects/rescript_benchmarks/ref_dbs/silva-138/silva-138-nr99-default',\n",
    "                                 base_out_path = '/home/mrobeson/projects/rescript_benchmarks/benchmarks/silva-138/silva-138-nr99-default-pipe',\n",
    "                                 glob_seqs_list = ['*derep-seqs.qza', '*derep-seqs-515-806.qza']):\n",
    "\n",
    "    chdir(base_in_path)\n",
    "    seq_files = []\n",
    "    for f in glob_seqs_list:\n",
    "        seq_files.extend(glob.glob(f))\n",
    "\n",
    "    tax_files = [sf.replace('seqs', 'taxa') for sf in seq_files]\n",
    "\n",
    "    for s,t in zip(seq_files, tax_files):\n",
    "        bn = path.splitext(t)[0]\n",
    "        job_name = bn + '-ecv'\n",
    "        ecv_str = ecv_pbs_str.format(ppn = ppn,\n",
    "                   mem = mem,\n",
    "                   wt = wt,\n",
    "                   job_name = job_name,\n",
    "                   base_in_path = base_in_path,\n",
    "                   base_out_path = base_out_path,\n",
    "                   inseq = s,\n",
    "                   intax = t,\n",
    "                   exp_tax = bn + '-ecv-exptax.qza',\n",
    "                   obs_tax = bn + '-ecv-obstax.qza',\n",
    "                   eval_tax = bn + '-ecv-evaltax.qzv')\n",
    "    \n",
    "        job_file_name = job_name + '.pbs'    \n",
    "    \n",
    "        with open(path.join(base_out_path, job_file_name), 'w') as outfile:\n",
    "            outfile.write(ecv_str)    "
   ]
  },
  {
   "cell_type": "code",
   "execution_count": 9,
   "metadata": {},
   "outputs": [],
   "source": [
    "# This is not a generic function. Written specifically for the output we generated earlier.\n",
    "# Using global string variable `efc_pbs_str`\n",
    "def make_efc_benchmark_pbs_files(ppn = '1',\n",
    "                        mem = '100GB',\n",
    "                        wt = '72:00:00',\n",
    "                        base_in_path = '/home/mrobeson/projects/rescript_benchmarks/ref_dbs/silva-138/silva-138-nr99-default',\n",
    "                        base_out_path = '/home/mrobeson/projects/rescript_benchmarks/benchmarks/silva-138/silva-138-nr99-default-pipe',\n",
    "                        glob_seqs_list = ['*derep-seqs.qza', '*derep-seqs-515-806.qza']):\n",
    "    \n",
    "    chdir(base_in_path)\n",
    "\n",
    "    seq_files = []\n",
    "    for f in glob_seqs_list:\n",
    "        seq_files.extend(glob.glob(f))\n",
    "\n",
    "    tax_files = [sf.replace('seqs', 'taxa') for sf in seq_files]\n",
    "\n",
    "    for s,t in zip(seq_files, tax_files):\n",
    "        bn = path.splitext(t)[0]\n",
    "        job_name = bn + '-efc'\n",
    "        ecv_str = efc_pbs_str.format(ppn = ppn,\n",
    "                   mem = mem,\n",
    "                   wt = wt,\n",
    "                   job_name = job_name,\n",
    "                   base_in_path = base_in_path,\n",
    "                   base_out_path = base_out_path,\n",
    "                   inseq = s,\n",
    "                   intax = t,\n",
    "                   classifier_out_fp = bn + '-efc-classifier.qza',\n",
    "                   obs_tax_out_fp = bn + '-efc-obstax.qza',\n",
    "                   eval_out_fp = bn + '-efc-evaltax.qzv')\n",
    "    \n",
    "        job_file_name = job_name + '.pbs'    \n",
    "    \n",
    "        with open(path.join(base_out_path, job_file_name), 'w') as outfile:\n",
    "            outfile.write(ecv_str)    \n",
    "    "
   ]
  },
  {
   "cell_type": "markdown",
   "metadata": {},
   "source": [
    "## NR99 DB - default - no euks - processing"
   ]
  },
  {
   "cell_type": "raw",
   "metadata": {},
   "source": [
    "mkdir(bench + '/silva-138-nr99-default-noeuks-pipe')"
   ]
  },
  {
   "cell_type": "code",
   "execution_count": 10,
   "metadata": {},
   "outputs": [
    {
     "data": {
      "text/plain": [
       "'/home/mrobeson/projects/rescript_benchmarks/ref_dbs/silva-138/silva-138-nr99-default-noeuks'"
      ]
     },
     "execution_count": 10,
     "metadata": {},
     "output_type": "execute_result"
    }
   ],
   "source": [
    "chdir(refdb + '/silva-138-nr99-default-noeuks')\n",
    "getcwd()"
   ]
  },
  {
   "cell_type": "code",
   "execution_count": 26,
   "metadata": {},
   "outputs": [],
   "source": [
    "make_ecv_benchmark_pbs_files(base_in_path ='/home/mrobeson/projects/rescript_benchmarks/ref_dbs/silva-138/silva-138-nr99-default-noeuks',\n",
    "                             base_out_path = '/home/mrobeson/projects/rescript_benchmarks/benchmarks/silva-138/silva-138-nr99-default-noeuks-pipe')"
   ]
  },
  {
   "cell_type": "code",
   "execution_count": 27,
   "metadata": {},
   "outputs": [],
   "source": [
    "make_efc_benchmark_pbs_files(base_in_path ='/home/mrobeson/projects/rescript_benchmarks/ref_dbs/silva-138/silva-138-nr99-default-noeuks',\n",
    "                             base_out_path = '/home/mrobeson/projects/rescript_benchmarks/benchmarks/silva-138/silva-138-nr99-default-noeuks-pipe')"
   ]
  },
  {
   "cell_type": "raw",
   "metadata": {},
   "source": [
    "# run in terminal:\n",
    "for f in *.pbs; do qsub ${f}; done;"
   ]
  },
  {
   "cell_type": "markdown",
   "metadata": {},
   "source": [
    "## NR99 DB - default - no euks - good labels only"
   ]
  },
  {
   "cell_type": "raw",
   "metadata": {},
   "source": [
    "mkdir(bench + '/silva-138-nr99-default-noeuks-gl-pipe')"
   ]
  },
  {
   "cell_type": "code",
   "execution_count": 10,
   "metadata": {},
   "outputs": [
    {
     "data": {
      "text/plain": [
       "'/home/mrobeson/projects/rescript_benchmarks/ref_dbs/silva-138/silva-138-nr99-default-noeuks'"
      ]
     },
     "execution_count": 10,
     "metadata": {},
     "output_type": "execute_result"
    }
   ],
   "source": [
    "chdir(refdb + '/silva-138-nr99-default-noeuks')\n",
    "getcwd()"
   ]
  },
  {
   "cell_type": "code",
   "execution_count": 13,
   "metadata": {},
   "outputs": [],
   "source": [
    "make_ecv_benchmark_pbs_files(base_in_path ='/home/mrobeson/projects/rescript_benchmarks/ref_dbs/silva-138/silva-138-nr99-default-noeuks',\n",
    "                             base_out_path = '/home/mrobeson/projects/rescript_benchmarks/benchmarks/silva-138/silva-138-nr99-default-noeuks-gl-pipe',\n",
    "                            glob_seqs_list = ['*derep-seqs-gl.qza', '*derep-seqs-515-806-gl.qza'])"
   ]
  },
  {
   "cell_type": "code",
   "execution_count": 14,
   "metadata": {},
   "outputs": [],
   "source": [
    "make_efc_benchmark_pbs_files(base_in_path ='/home/mrobeson/projects/rescript_benchmarks/ref_dbs/silva-138/silva-138-nr99-default-noeuks',\n",
    "                             base_out_path = '/home/mrobeson/projects/rescript_benchmarks/benchmarks/silva-138/silva-138-nr99-default-noeuks-gl-pipe',\n",
    "                            glob_seqs_list = ['*derep-seqs-gl.qza', '*derep-seqs-515-806-gl.qza'])"
   ]
  },
  {
   "cell_type": "raw",
   "metadata": {},
   "source": [
    "# run in terminal:\n",
    "for f in *.pbs; do qsub ${f}; done;"
   ]
  },
  {
   "cell_type": "code",
   "execution_count": null,
   "metadata": {},
   "outputs": [],
   "source": []
  },
  {
   "cell_type": "code",
   "execution_count": null,
   "metadata": {},
   "outputs": [],
   "source": []
  }
 ],
 "metadata": {
  "kernelspec": {
   "display_name": "Python 3",
   "language": "python",
   "name": "python3"
  },
  "language_info": {
   "codemirror_mode": {
    "name": "ipython",
    "version": 3
   },
   "file_extension": ".py",
   "mimetype": "text/x-python",
   "name": "python",
   "nbconvert_exporter": "python",
   "pygments_lexer": "ipython3",
   "version": "3.6.11"
  }
 },
 "nbformat": 4,
 "nbformat_minor": 4
}
