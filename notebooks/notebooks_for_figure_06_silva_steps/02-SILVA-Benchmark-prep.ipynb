{
 "cells": [
  {
   "cell_type": "markdown",
   "metadata": {},
   "source": [
    "# SILVA Benchmarking\n",
    "\n",
    "Using QIIME 2 API\n",
    "\n",
    "I will run this assuming all the base files have been imported into QIIME 2."
   ]
  },
  {
   "cell_type": "code",
   "execution_count": 3,
   "metadata": {},
   "outputs": [],
   "source": [
    "import os\n",
    "import qiime2 as q2\n",
    "from qiime2.plugins import rescript, feature_classifier, taxa"
   ]
  },
  {
   "cell_type": "code",
   "execution_count": 4,
   "metadata": {},
   "outputs": [],
   "source": [
    "dbdir = '/home/mrobeson/projects/rescript_benchmarks/ref_dbs/silva-138'"
   ]
  },
  {
   "cell_type": "code",
   "execution_count": 5,
   "metadata": {},
   "outputs": [
    {
     "data": {
      "text/plain": [
       "'/home/mrobeson/projects/rescript_benchmarks/ref_dbs/silva-138'"
      ]
     },
     "execution_count": 5,
     "metadata": {},
     "output_type": "execute_result"
    }
   ],
   "source": [
    "os.chdir(dbdir)\n",
    "os.getcwd()"
   ]
  },
  {
   "cell_type": "markdown",
   "metadata": {},
   "source": [
    "## Set up base functions"
   ]
  },
  {
   "cell_type": "code",
   "execution_count": 6,
   "metadata": {},
   "outputs": [],
   "source": [
    "def prep_silva_for_bench(taxtree,\n",
    "                         taxmap,\n",
    "                         taxranks,\n",
    "                         seqs,\n",
    "                         output_path = os.getcwd(),\n",
    "                         output_basename = 'default-silva-params',\n",
    "                         exclude_taxa = None,\n",
    "                         num_degenerates = 5,\n",
    "                         homopolymer_length = 8,\n",
    "                         labels = ['Archaea', 'Bacteria', 'Eukaryota'],\n",
    "                         min_lens = [900, 1200, 1400],\n",
    "                         mode = 'uniq',\n",
    "                         perc_identity = 1,\n",
    "                         threads = 4,\n",
    "                         rank_handles = 'silva'):\n",
    "    \n",
    "    ############ Set up\n",
    "    print(\"Writing all output too: %s\" % output_path)\n",
    "    if not os.path.exists(output_path):\n",
    "        os.mkdir(output_path)\n",
    "    \n",
    "    taxtree = q2.Artifact.load(taxtree)\n",
    "    taxmap = q2.Artifact.load(taxmap)\n",
    "    taxranks = q2.Artifact.load(taxranks)\n",
    "    seqs = q2.Artifact.load(seqs)\n",
    "    base_ouput_path = os.path.join(output_path, output_basename)\n",
    "    \n",
    "    ############ parse taxonomy\n",
    "    \n",
    "    # with species labels\n",
    "    print(\"Processing Taxonomy with species labels...\")\n",
    "    parsed_taxonomy, = rescript.actions.parse_silva_taxonomy(\n",
    "                                    taxtree,\n",
    "                                    taxmap,\n",
    "                                    taxranks,\n",
    "                                    include_species_labels=True)\n",
    "    parsed_taxonomy.save(base_ouput_path + '-parsed-taxonomy.qza')\n",
    "    \n",
    "    # without species labels\n",
    "    print(\"Processing Taxonomy without species labels...\")\n",
    "    parsed_taxonomy_nosp, = rescript.actions.parse_silva_taxonomy(\n",
    "                                    taxtree,\n",
    "                                    taxmap,\n",
    "                                    taxranks,\n",
    "                                    include_species_labels=False)\n",
    "    parsed_taxonomy_nosp.save(base_ouput_path + '-nosp-parsed-taxonomy.qza')\n",
    "    \n",
    "    ############# check to reverse transcribe\n",
    "    \n",
    "    # even though cull-seqs will do this... for some cases we may opt to skip\n",
    "    # cull-seqs, so, we'll just ensure we reverse transcribe here.\n",
    "    if str(seqs.type) == 'FeatureData[RNASequence]': \n",
    "        print(\"Input sequence type is \\'%s\\', reverse transcibing sequence...\" % str(seqs.type))\n",
    "        seqs, = rescript.actions.reverse_transcribe(seqs)\n",
    "        seqs.save(base_ouput_path + '-reverse-transcribed-seqs.qza')\n",
    "    \n",
    "    ############# remove taxonomic groups, i.e. Eukaryota\n",
    "    \n",
    "    # We'll used parsed_taxonomy as this has all the rank information including species.\n",
    "    # But, we'll only care about Phylum-level filtering here anyway.\n",
    "    if exclude_taxa:\n",
    "        print(\"Filtering \\'{0}\\' from reference sequences...\".format(exclude_taxa))\n",
    "        seqs, = taxa.actions.filter_seqs(sequences = seqs,\n",
    "                                        taxonomy = parsed_taxonomy,\n",
    "                                        exclude = exclude_taxa,\n",
    "                                        mode='contains')\n",
    "        seqs.save(base_ouput_path + '-excl-seqs.qza')\n",
    "    \n",
    "    ############# cull seqs\n",
    "    \n",
    "    # enter `None` for any of these prams to skip step\n",
    "    if all([num_degenerates, homopolymer_length]):\n",
    "        print(\"Culling sequences...\")\n",
    "        seqs, = rescript.actions.cull_seqs(sequences = seqs,\n",
    "                                num_degenerates = num_degenerates,\n",
    "                                homopolymer_length = homopolymer_length)\n",
    "        seqs.save(base_ouput_path + '-culled-seqs.qza')\n",
    "    \n",
    "    ############# filt seq-len by taxonomy \n",
    "    # For our purposes we'll only ever filter based species. So we can use \n",
    "    # either taxonomy file. We'll use the species-labels file.\n",
    "    \n",
    "    # enter `None` for any of these prams to skip this step\n",
    "    if all([labels, min_lens]):\n",
    "        print(\"Removing short sequences conditioned on taxonomy...\")\n",
    "        seqs, discard = rescript.actions.filter_seqs_length_by_taxon(\n",
    "                                                sequences = seqs,\n",
    "                                                taxonomy = parsed_taxonomy,\n",
    "                                                labels = labels,\n",
    "                                                min_lens = min_lens)\n",
    "        seqs.save(base_ouput_path + '-filt-seqs.qza')\n",
    "        discard.save(base_ouput_path + '-discard-seqs.qza')\n",
    "    \n",
    "    ############# Derep (w/ & w/o species labels)\n",
    "    \n",
    "    # enter `None` for any of these prams to skip this step\n",
    "    # with species labels\n",
    "    print(\"Dereplicating sequences with species labels...\")\n",
    "    derep_seqs, derep_taxa = rescript.actions.dereplicate(\n",
    "                                    sequences = seqs,\n",
    "                                    taxa = parsed_taxonomy,\n",
    "                                    mode = mode,\n",
    "                                    perc_identity = perc_identity,\n",
    "                                    threads = threads,\n",
    "                                    rank_handles = rank_handles)\n",
    "    derep_seqs.save(base_ouput_path + '-derep-seqs.qza')\n",
    "    derep_taxa.save(base_ouput_path + '-derep-taxa.qza')\n",
    "     \n",
    "    # without species labels\n",
    "    print(\"Dereplicating sequences without species labels...\")\n",
    "    derep_seqs_nosp, derep_taxa_nosp = rescript.actions.dereplicate(\n",
    "                                            sequences = seqs,\n",
    "                                            taxa = parsed_taxonomy_nosp,\n",
    "                                            mode = mode,\n",
    "                                            perc_identity = perc_identity,\n",
    "                                            threads = threads,\n",
    "                                            rank_handles = rank_handles)\n",
    "    derep_seqs_nosp.save(base_ouput_path + '-nosp-derep-seqs.qza')\n",
    "    derep_taxa_nosp.save(base_ouput_path + '-nosp-derep-taxa.qza')\n",
    "    \n",
    "    print(\"Done.\")"
   ]
  },
  {
   "cell_type": "code",
   "execution_count": 7,
   "metadata": {},
   "outputs": [],
   "source": [
    "def prep_silva_amplicons_for_bench(seqs_fp,\n",
    "                                   taxonomy_fp,\n",
    "                                   primers = ['GTGYCAGCMGCCGCGGTAA', 'GGACTACNVGGGTWTCTAAT'],\n",
    "                                   n_jobs = 4,\n",
    "                                   read_orientation = 'forward',\n",
    "                                   mode = 'uniq',\n",
    "                                   perc_identity = 1,\n",
    "                                   rank_handles = 'silva',\n",
    "                                   output_path = os.getcwd(),\n",
    "                                   output_suffix = 'uniq-515-806.qza'):\n",
    "\n",
    "    ###### setup\n",
    "    if not os.path.exists(output_path):\n",
    "        os.mkdir(output_path)\n",
    "   \n",
    "    seqs = q2.Artifact.load(seqs_fp)\n",
    "    taxonomy = q2.Artifact.load(taxonomy_fp)\n",
    "    \n",
    "    ###### reverse transcribe if needed\n",
    "    if str(seqs.type) == 'FeatureData[RNASequence]': \n",
    "        print(\"Input sequence type is \\'%s\\', reverse transcibing seqeunce...\" % str(seqs.type))\n",
    "        seqs, = rescript.actions.reverse_transcribe(seqs)\n",
    "        seqs.save(base_ouput_path + '-reverse-transcribed-seqs.qza')\n",
    "    \n",
    "    ###### extract amp region\n",
    "    print(\"Extracting amplicon region...\")\n",
    "    extr_reads, = feature_classifier.actions.extract_reads(seqs,\n",
    "                                                    f_primer = primers[0],\n",
    "                                                    r_primer = primers[1],\n",
    "                                                    n_jobs = n_jobs,\n",
    "                                                    read_orientation = read_orientation)\n",
    "    sn = os.path.splitext(seqs_fp)[0]\n",
    "    seq_base_out = '-'.join([sn, 'extracted', output_suffix])\n",
    "    extr_reads.save(os.path.join(output_path, seq_base_out))\n",
    "    \n",
    "    ###### derep seqs / tax\n",
    "    print(\"Dereplicating sequences...\")\n",
    "    derep_seqs, derep_taxa = rescript.actions.dereplicate(extr_reads,\n",
    "                                                          taxonomy,\n",
    "                                                          mode = mode,\n",
    "                                                          perc_identity = perc_identity,\n",
    "                                                          threads = n_jobs,\n",
    "                                                          rank_handles = rank_handles)\n",
    "    \n",
    "    print(\"Saving files...\")\n",
    "    # seqs\n",
    "    sn = os.path.splitext(seqs_fp)[0]\n",
    "    seq_base_out = '-'.join([sn, output_suffix])\n",
    "    seq_out_fp = os.path.join(output_path, seq_base_out)\n",
    "    derep_seqs.save(seq_out_fp)\n",
    "    # taxonomy\n",
    "    tn = os.path.splitext(taxonomy_fp)[0] \n",
    "    tax_base_out = '-'.join([tn, output_suffix])\n",
    "    tax_out_fp = os.path.join(output_path, tax_base_out)\n",
    "    derep_taxa.save(tax_out_fp)\n",
    "    \n",
    "    print(\"Done.\")"
   ]
  },
  {
   "cell_type": "code",
   "execution_count": null,
   "metadata": {},
   "outputs": [],
   "source": []
  },
  {
   "cell_type": "markdown",
   "metadata": {},
   "source": [
    "# Default pipeline - without Eukaryota"
   ]
  },
  {
   "cell_type": "markdown",
   "metadata": {},
   "source": [
    "## NR99 default"
   ]
  },
  {
   "cell_type": "code",
   "execution_count": 29,
   "metadata": {},
   "outputs": [],
   "source": [
    "path='/home/mrobeson/projects/rescript_benchmarks/ref_dbs/silva-138/silva-138-nr99-default-noeuks/'\n",
    "basename='silva-nr99-default-noeuks'"
   ]
  },
  {
   "cell_type": "code",
   "execution_count": 30,
   "metadata": {
    "scrolled": true
   },
   "outputs": [
    {
     "name": "stdout",
     "output_type": "stream",
     "text": [
      "Writing all output too: /home/mrobeson/projects/rescript_benchmarks/ref_dbs/silva-138/silva-138-nr99-default-noeuks/\n",
      "Processing Taxonomy with species labels...\n"
     ]
    },
    {
     "name": "stderr",
     "output_type": "stream",
     "text": [
      "/home/mrobeson/software/miniconda3/envs/qiime2-2020.6/lib/python3.6/site-packages/pandas/core/indexing.py:576: SettingWithCopyWarning: \n",
      "A value is trying to be set on a copy of a slice from a DataFrame.\n",
      "Try using .loc[row_indexer,col_indexer] = value instead\n",
      "\n",
      "See the caveats in the documentation: http://pandas.pydata.org/pandas-docs/stable/user_guide/indexing.html#returning-a-view-versus-a-copy\n",
      "  self.obj[item_labels[indexer[info_axis]]] = value\n"
     ]
    },
    {
     "name": "stdout",
     "output_type": "stream",
     "text": [
      "Processing Taxonomy without species labels...\n",
      "Input sequence type is 'FeatureData[RNASequence]', reverse transcibing sequence...\n",
      "Filtering 'Eukaryota' from reference sequences...\n",
      "Culling sequences...\n",
      "Removing short sequences conditioned on taxonomy...\n",
      "Dereplicating sequences with species labels...\n",
      "Running external command line application. This may print messages to stdout and/or stderr.\n",
      "The command being run is below. This command cannot be manually re-run as it will depend on temporary files that no longer exist.\n",
      "\n",
      "Command: vsearch --derep_fulllength /tmp/qiime2-archive-do6otl6t/0ee4107d-bb63-49c3-a885-a23b5b7b2842/data/dna-sequences.fasta --output /tmp/tmpz6ef0ww5 --uc /tmp/tmppz41ozt5 --qmask none --xsize --threads 4\n",
      "\n"
     ]
    },
    {
     "name": "stderr",
     "output_type": "stream",
     "text": [
      "/home/mrobeson/software/miniconda3/envs/qiime2-2020.6/lib/python3.6/site-packages/rescript/dereplicate.py:116: SettingWithCopyWarning: \n",
      "A value is trying to be set on a copy of a slice from a DataFrame.\n",
      "Try using .loc[row_indexer,col_indexer] = value instead\n",
      "\n",
      "See the caveats in the documentation: http://pandas.pydata.org/pandas-docs/stable/user_guide/indexing.html#returning-a-view-versus-a-copy\n",
      "  uc['Taxon'] = uc['seqID'].apply(lambda x: taxa.loc[x])\n",
      "/home/mrobeson/software/miniconda3/envs/qiime2-2020.6/lib/python3.6/site-packages/rescript/dereplicate.py:117: SettingWithCopyWarning: \n",
      "A value is trying to be set on a copy of a slice from a DataFrame.\n",
      "Try using .loc[row_indexer,col_indexer] = value instead\n",
      "\n",
      "See the caveats in the documentation: http://pandas.pydata.org/pandas-docs/stable/user_guide/indexing.html#returning-a-view-versus-a-copy\n",
      "  uc['centroidtaxa'] = uc['centroidID'].apply(lambda x: taxa.loc[x])\n"
     ]
    },
    {
     "name": "stdout",
     "output_type": "stream",
     "text": [
      "Dereplicating sequences without species labels...\n",
      "Running external command line application. This may print messages to stdout and/or stderr.\n",
      "The command being run is below. This command cannot be manually re-run as it will depend on temporary files that no longer exist.\n",
      "\n",
      "Command: vsearch --derep_fulllength /tmp/qiime2-archive-do6otl6t/0ee4107d-bb63-49c3-a885-a23b5b7b2842/data/dna-sequences.fasta --output /tmp/tmpe4pv5tfv --uc /tmp/tmpby4dmzqh --qmask none --xsize --threads 4\n",
      "\n"
     ]
    },
    {
     "name": "stderr",
     "output_type": "stream",
     "text": [
      "/home/mrobeson/software/miniconda3/envs/qiime2-2020.6/lib/python3.6/site-packages/rescript/dereplicate.py:116: SettingWithCopyWarning: \n",
      "A value is trying to be set on a copy of a slice from a DataFrame.\n",
      "Try using .loc[row_indexer,col_indexer] = value instead\n",
      "\n",
      "See the caveats in the documentation: http://pandas.pydata.org/pandas-docs/stable/user_guide/indexing.html#returning-a-view-versus-a-copy\n",
      "  uc['Taxon'] = uc['seqID'].apply(lambda x: taxa.loc[x])\n",
      "/home/mrobeson/software/miniconda3/envs/qiime2-2020.6/lib/python3.6/site-packages/rescript/dereplicate.py:117: SettingWithCopyWarning: \n",
      "A value is trying to be set on a copy of a slice from a DataFrame.\n",
      "Try using .loc[row_indexer,col_indexer] = value instead\n",
      "\n",
      "See the caveats in the documentation: http://pandas.pydata.org/pandas-docs/stable/user_guide/indexing.html#returning-a-view-versus-a-copy\n",
      "  uc['centroidtaxa'] = uc['centroidID'].apply(lambda x: taxa.loc[x])\n"
     ]
    },
    {
     "name": "stdout",
     "output_type": "stream",
     "text": [
      "Done.\n"
     ]
    }
   ],
   "source": [
    "prep_silva_for_bench('silva-138-ssu-taxtree.qza',\n",
    "                     'silva-138-ssu-nr99-taxmap.qza',\n",
    "                     'silva-138-ssu-taxranks.qza',\n",
    "                     'silva-138-ssu-nr99-seqs.qza',\n",
    "                      exclude_taxa = 'Eukaryota',\n",
    "                      labels = ['Archaea', 'Bacteria'],\n",
    "                      min_lens = [900, 1200],\n",
    "                      output_path = path,\n",
    "                      output_basename = basename)"
   ]
  },
  {
   "cell_type": "code",
   "execution_count": null,
   "metadata": {},
   "outputs": [],
   "source": []
  },
  {
   "cell_type": "markdown",
   "metadata": {},
   "source": [
    "# NR99 default - poor species labels (`-sl-`) removed \n",
    "Remove sequences with poor species labels. Such as:\n",
    "```\n",
    "'s__unidentified', 'hloroplast', 'itochondria', 's__uncultured', 's__uncultivated',\n",
    "'etagenome', 'andidatus', 'ryza_sativa', '_bacterium', '_proteobacterium', 'manure',\n",
    "'arctic', 'marine', 'water', 'gut', 'symbiont', 'oral', 'lake', 'sea',\n",
    "'microbial_mat', 'glacial', 'drainage', 'thermal_vent', 'nrichment', \n",
    "'synthetic', 'candidate', 'clone', 'mineralizing', 'swine', 'isolate',\n",
    "'aerobic', 'hot_spring', 'halophilic', 'gas_vacuolate'\n",
    "```\n",
    "\n",
    "Note: we are not making use of Eukaryotes in this notebook, so removing 'ryza_sativa', etc.. will be fine."
   ]
  },
  {
   "cell_type": "code",
   "execution_count": 8,
   "metadata": {},
   "outputs": [],
   "source": [
    "path='/home/mrobeson/projects/rescript_benchmarks/ref_dbs/silva-138/silva-138-nr99-default-noeuks-sl/'\n",
    "basename='silva-nr99-default-noeuks-sl'"
   ]
  },
  {
   "cell_type": "code",
   "execution_count": 9,
   "metadata": {
    "scrolled": true
   },
   "outputs": [
    {
     "name": "stdout",
     "output_type": "stream",
     "text": [
      "Writing all output too: /home/mrobeson/projects/rescript_benchmarks/ref_dbs/silva-138/silva-138-nr99-default-noeuks-sl/\n",
      "Processing Taxonomy with species labels...\n"
     ]
    },
    {
     "name": "stderr",
     "output_type": "stream",
     "text": [
      "/home/mrobeson/software/miniconda3/envs/qiime2-2020.6/lib/python3.6/site-packages/pandas/core/indexing.py:576: SettingWithCopyWarning: \n",
      "A value is trying to be set on a copy of a slice from a DataFrame.\n",
      "Try using .loc[row_indexer,col_indexer] = value instead\n",
      "\n",
      "See the caveats in the documentation: http://pandas.pydata.org/pandas-docs/stable/user_guide/indexing.html#returning-a-view-versus-a-copy\n",
      "  self.obj[item_labels[indexer[info_axis]]] = value\n"
     ]
    },
    {
     "name": "stdout",
     "output_type": "stream",
     "text": [
      "Processing Taxonomy without species labels...\n",
      "Input sequence type is 'FeatureData[RNASequence]', reverse transcibing sequence...\n",
      "Filtering 'Eukaryota,s__unidentified,hloroplast,itochondria,s__uncultured,s__uncultivated,etagenome,andidatus,ryza_sativa,_bacterium,_proteobacterium,manure,arctic,marine,water,gut,symbiont,oral,lake,sea,microbial_mat,glacial,drainage,thermal_vent,nrichment,synthetic,candidate,clone,mineralizing,swine,isolate,aerobic,hot_spring,halophilic,gas_vacuolate' from reference sequences...\n",
      "Culling sequences...\n",
      "Removing short sequences conditioned on taxonomy...\n",
      "Dereplicating sequences with species labels...\n",
      "Running external command line application. This may print messages to stdout and/or stderr.\n",
      "The command being run is below. This command cannot be manually re-run as it will depend on temporary files that no longer exist.\n",
      "\n",
      "Command: vsearch --derep_fulllength /home/mrobeson/tmp/qiime2-archive-ylcvs1cz/e7da981c-cfc2-4d7b-8016-b101cc0c77ec/data/dna-sequences.fasta --output /home/mrobeson/tmp/tmp4gydbg5q --uc /home/mrobeson/tmp/tmp5oa_fxxk --qmask none --xsize --threads 4\n",
      "\n"
     ]
    },
    {
     "name": "stderr",
     "output_type": "stream",
     "text": [
      "/home/mrobeson/software/miniconda3/envs/qiime2-2020.6/lib/python3.6/site-packages/rescript/dereplicate.py:116: SettingWithCopyWarning: \n",
      "A value is trying to be set on a copy of a slice from a DataFrame.\n",
      "Try using .loc[row_indexer,col_indexer] = value instead\n",
      "\n",
      "See the caveats in the documentation: http://pandas.pydata.org/pandas-docs/stable/user_guide/indexing.html#returning-a-view-versus-a-copy\n",
      "  uc['Taxon'] = uc['seqID'].apply(lambda x: taxa.loc[x])\n",
      "/home/mrobeson/software/miniconda3/envs/qiime2-2020.6/lib/python3.6/site-packages/rescript/dereplicate.py:117: SettingWithCopyWarning: \n",
      "A value is trying to be set on a copy of a slice from a DataFrame.\n",
      "Try using .loc[row_indexer,col_indexer] = value instead\n",
      "\n",
      "See the caveats in the documentation: http://pandas.pydata.org/pandas-docs/stable/user_guide/indexing.html#returning-a-view-versus-a-copy\n",
      "  uc['centroidtaxa'] = uc['centroidID'].apply(lambda x: taxa.loc[x])\n"
     ]
    },
    {
     "name": "stdout",
     "output_type": "stream",
     "text": [
      "Dereplicating sequences without species labels...\n",
      "Running external command line application. This may print messages to stdout and/or stderr.\n",
      "The command being run is below. This command cannot be manually re-run as it will depend on temporary files that no longer exist.\n",
      "\n",
      "Command: vsearch --derep_fulllength /home/mrobeson/tmp/qiime2-archive-ylcvs1cz/e7da981c-cfc2-4d7b-8016-b101cc0c77ec/data/dna-sequences.fasta --output /home/mrobeson/tmp/tmpo20bbgw1 --uc /home/mrobeson/tmp/tmpbgi25a_0 --qmask none --xsize --threads 4\n",
      "\n"
     ]
    },
    {
     "name": "stderr",
     "output_type": "stream",
     "text": [
      "/home/mrobeson/software/miniconda3/envs/qiime2-2020.6/lib/python3.6/site-packages/rescript/dereplicate.py:116: SettingWithCopyWarning: \n",
      "A value is trying to be set on a copy of a slice from a DataFrame.\n",
      "Try using .loc[row_indexer,col_indexer] = value instead\n",
      "\n",
      "See the caveats in the documentation: http://pandas.pydata.org/pandas-docs/stable/user_guide/indexing.html#returning-a-view-versus-a-copy\n",
      "  uc['Taxon'] = uc['seqID'].apply(lambda x: taxa.loc[x])\n",
      "/home/mrobeson/software/miniconda3/envs/qiime2-2020.6/lib/python3.6/site-packages/rescript/dereplicate.py:117: SettingWithCopyWarning: \n",
      "A value is trying to be set on a copy of a slice from a DataFrame.\n",
      "Try using .loc[row_indexer,col_indexer] = value instead\n",
      "\n",
      "See the caveats in the documentation: http://pandas.pydata.org/pandas-docs/stable/user_guide/indexing.html#returning-a-view-versus-a-copy\n",
      "  uc['centroidtaxa'] = uc['centroidID'].apply(lambda x: taxa.loc[x])\n"
     ]
    },
    {
     "name": "stdout",
     "output_type": "stream",
     "text": [
      "Done.\n"
     ]
    }
   ],
   "source": [
    "prep_silva_for_bench('silva-138-ssu-taxtree.qza',\n",
    "                     'silva-138-ssu-nr99-taxmap.qza',\n",
    "                     'silva-138-ssu-taxranks.qza',\n",
    "                     'silva-138-ssu-nr99-seqs.qza',\n",
    "                      exclude_taxa = 'Eukaryota,s__unidentified,hloroplast,itochondria,s__uncultured,s__uncultivated,etagenome,andidatus,ryza_sativa,_bacterium,_proteobacterium,manure,arctic,marine,water,gut,symbiont,oral,lake,sea,microbial_mat,glacial,drainage,thermal_vent,nrichment,synthetic,candidate,clone,mineralizing,swine,isolate,aerobic,hot_spring,halophilic,gas_vacuolate',\n",
    "                      labels = ['Archaea', 'Bacteria'],\n",
    "                      min_lens = [900, 1200],\n",
    "                      mode = 'uniq',\n",
    "                      output_path = path,\n",
    "                      output_basename = basename)"
   ]
  },
  {
   "cell_type": "code",
   "execution_count": null,
   "metadata": {},
   "outputs": [],
   "source": []
  },
  {
   "cell_type": "markdown",
   "metadata": {},
   "source": [
    "## Ful db - default - no euks\n",
    "\n",
    "**skip w/ euks for now**"
   ]
  },
  {
   "cell_type": "code",
   "execution_count": 11,
   "metadata": {},
   "outputs": [],
   "source": [
    "path='/home/mrobeson/projects/rescript_benchmarks/ref_dbs/silva-138/silva-138-raw-default-noeuks/'\n",
    "basename='silva-raw-default-noeuks'"
   ]
  },
  {
   "cell_type": "code",
   "execution_count": 12,
   "metadata": {
    "scrolled": true
   },
   "outputs": [
    {
     "name": "stdout",
     "output_type": "stream",
     "text": [
      "Writing all output too: /home/mrobeson/projects/rescript_benchmarks/ref_dbs/silva-138/silva-138-raw-default-noeuks/\n",
      "Processing Taxonomy with species labels...\n",
      "Processing Taxonomy without species labels...\n",
      "Input sequence type is 'FeatureData[RNASequence]', reverse transcibing sequence...\n",
      "Filtering 'Eukaryota' from reference sequences...\n",
      "Culling sequences...\n",
      "Removing short sequences conditioned on taxonomy...\n",
      "Dereplicating sequences with species labels...\n",
      "Running external command line application. This may print messages to stdout and/or stderr.\n",
      "The command being run is below. This command cannot be manually re-run as it will depend on temporary files that no longer exist.\n",
      "\n",
      "Command: vsearch --derep_fulllength /home/mrobeson/tmp/qiime2-archive-wcjv9q8x/42e46003-c5ec-4813-aedd-fc86a00e9661/data/dna-sequences.fasta --output /home/mrobeson/tmp/tmpm4atpvcg --uc /home/mrobeson/tmp/tmpfwkdn3d2 --qmask none --xsize --threads 4\n",
      "\n"
     ]
    },
    {
     "name": "stderr",
     "output_type": "stream",
     "text": [
      "/home/mrobeson/software/miniconda3/envs/qiime2-2020.6/lib/python3.6/site-packages/rescript/dereplicate.py:116: SettingWithCopyWarning: \n",
      "A value is trying to be set on a copy of a slice from a DataFrame.\n",
      "Try using .loc[row_indexer,col_indexer] = value instead\n",
      "\n",
      "See the caveats in the documentation: http://pandas.pydata.org/pandas-docs/stable/user_guide/indexing.html#returning-a-view-versus-a-copy\n",
      "  uc['Taxon'] = uc['seqID'].apply(lambda x: taxa.loc[x])\n",
      "/home/mrobeson/software/miniconda3/envs/qiime2-2020.6/lib/python3.6/site-packages/rescript/dereplicate.py:117: SettingWithCopyWarning: \n",
      "A value is trying to be set on a copy of a slice from a DataFrame.\n",
      "Try using .loc[row_indexer,col_indexer] = value instead\n",
      "\n",
      "See the caveats in the documentation: http://pandas.pydata.org/pandas-docs/stable/user_guide/indexing.html#returning-a-view-versus-a-copy\n",
      "  uc['centroidtaxa'] = uc['centroidID'].apply(lambda x: taxa.loc[x])\n"
     ]
    },
    {
     "name": "stdout",
     "output_type": "stream",
     "text": [
      "Dereplicating sequences without species labels...\n",
      "Running external command line application. This may print messages to stdout and/or stderr.\n",
      "The command being run is below. This command cannot be manually re-run as it will depend on temporary files that no longer exist.\n",
      "\n",
      "Command: vsearch --derep_fulllength /home/mrobeson/tmp/qiime2-archive-wcjv9q8x/42e46003-c5ec-4813-aedd-fc86a00e9661/data/dna-sequences.fasta --output /home/mrobeson/tmp/tmpu2msf3bw --uc /home/mrobeson/tmp/tmpb6e7lsi8 --qmask none --xsize --threads 4\n",
      "\n"
     ]
    },
    {
     "name": "stderr",
     "output_type": "stream",
     "text": [
      "/home/mrobeson/software/miniconda3/envs/qiime2-2020.6/lib/python3.6/site-packages/rescript/dereplicate.py:116: SettingWithCopyWarning: \n",
      "A value is trying to be set on a copy of a slice from a DataFrame.\n",
      "Try using .loc[row_indexer,col_indexer] = value instead\n",
      "\n",
      "See the caveats in the documentation: http://pandas.pydata.org/pandas-docs/stable/user_guide/indexing.html#returning-a-view-versus-a-copy\n",
      "  uc['Taxon'] = uc['seqID'].apply(lambda x: taxa.loc[x])\n",
      "/home/mrobeson/software/miniconda3/envs/qiime2-2020.6/lib/python3.6/site-packages/rescript/dereplicate.py:117: SettingWithCopyWarning: \n",
      "A value is trying to be set on a copy of a slice from a DataFrame.\n",
      "Try using .loc[row_indexer,col_indexer] = value instead\n",
      "\n",
      "See the caveats in the documentation: http://pandas.pydata.org/pandas-docs/stable/user_guide/indexing.html#returning-a-view-versus-a-copy\n",
      "  uc['centroidtaxa'] = uc['centroidID'].apply(lambda x: taxa.loc[x])\n"
     ]
    },
    {
     "name": "stdout",
     "output_type": "stream",
     "text": [
      "Done.\n"
     ]
    }
   ],
   "source": [
    "prep_silva_for_bench('silva-138-ssu-taxtree.qza',\n",
    "                     'silva-138-ssu-taxmap.qza',\n",
    "                     'silva-138-ssu-taxranks.qza',\n",
    "                     'silva-138-ssu-seqs.qza',\n",
    "                      exclude_taxa = 'Eukaryota',\n",
    "                      labels = ['Archaea', 'Bacteria'],\n",
    "                      min_lens = [900, 1200],\n",
    "                      output_path = path,\n",
    "                      output_basename = basename,)"
   ]
  },
  {
   "cell_type": "code",
   "execution_count": null,
   "metadata": {},
   "outputs": [],
   "source": []
  }
 ],
 "metadata": {
  "kernelspec": {
   "display_name": "Python 3",
   "language": "python",
   "name": "python3"
  },
  "language_info": {
   "codemirror_mode": {
    "name": "ipython",
    "version": 3
   },
   "file_extension": ".py",
   "mimetype": "text/x-python",
   "name": "python",
   "nbconvert_exporter": "python",
   "pygments_lexer": "ipython3",
   "version": "3.6.10"
  }
 },
 "nbformat": 4,
 "nbformat_minor": 4
}
